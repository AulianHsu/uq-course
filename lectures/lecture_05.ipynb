{
 "cells": [
  {
   "cell_type": "markdown",
   "metadata": {},
   "source": [
    "# Lecture 5: Introduction to Probability Theory (Part III)"
   ]
  },
  {
   "cell_type": "markdown",
   "metadata": {},
   "source": [
    "## Objectives\n",
    "\n",
    "+ To introduce continuous random variables.\n",
    "+ To introduce the cumulative distribution function and its properties.\n",
    "+ To introduce the probability density function and its properties.\n",
    "+ To introduce the expectation of continuous random variables.\n",
    "+ To introduce the concept of the joint probability density function.\n",
    "+ To introduce the concept of predictive intervals.\n",
    "+ To introduce some common continuous distributions.\n",
    "+ To introduce the decision making problem.\n",
    "+ To present some simple analytical examples Bayesian inference."
   ]
  },
  {
   "cell_type": "markdown",
   "metadata": {},
   "source": [
    "## Readings\n",
    "\n",
    "+ These notes."
   ]
  },
  {
   "cell_type": "code",
   "execution_count": 1,
   "metadata": {},
   "outputs": [],
   "source": [
    "%matplotlib inline\n",
    "import matplotlib.pyplot as plt\n",
    "import seaborn as sns\n",
    "sns.set_context('talk')\n",
    "import numpy as np"
   ]
  },
  {
   "cell_type": "markdown",
   "metadata": {},
   "source": [
    "## Something more on probability spaces\n",
    "\n",
    "It turns out that when $\\Omega$ is a continuous space, like $\\mathbb{R}$ for example, it is not possible to take $\\mathcal{F}$ to be all the subsets of $\\Omega$ (you need to take a measure-theoretic probability theory class to understand why this is).\n",
    "However, many \"nice\" subsets of $\\Omega$ are usually in $\\mathcal{F}$.\n",
    "For example, in the case of $\\Omega=\\mathbb{R}$, $\\mathcal{F}$ can include all intervals, and any countable unions and intersections of intervals.\n",
    "That's a lot of sets.\n",
    "\n",
    "In any case, $\\mathcal{F}$ must satisfy certain properties for everything to be well-defined.\n",
    "These properties are:\n",
    "+ $\\Omega \\in \\mathcal{F}$\n",
    "+ For any $A$ in $\\mathcal{F}$, the complement $A^c$ is in $\\mathcal{F}$.\n",
    "+ For any $A_1,A_2,\\dots$ in $\\mathcal{F}$, the union $\\cup_n A_n$ is in $\\mathcal{F}$.\n",
    "When a set of subsets $\\mathcal{F}$ satisfies these properties, we say that it forms a $\\sigma$-algebra."
   ]
  },
  {
   "cell_type": "markdown",
   "metadata": {},
   "source": [
    "## Continuous random variables\n",
    "\n",
    "Consider a probability space $(\\Omega, \\mathcal{F}, \\mathbb{P})$.\n",
    "A continuous random variable models the result of an experiment that can potentially take infinitely many values.\n",
    "That is, it is a function\n",
    "$$\n",
    "X:\\Omega \\rightarrow \\mathbb{R}.\n",
    "$$"
   ]
  },
  {
   "cell_type": "markdown",
   "metadata": {},
   "source": [
    "## The cumulative distribution function\n",
    "\n",
    "Let $X$ be a continuous random variable.\n",
    "Its cumulative distribution function (CDF) $F_X(x)$ gives the probability that $X$ is smaller than $x$:\n",
    "$$\n",
    "F_X(x) := \\mathbb{P}(X\\le x) = \\mathbb{P}\\left(\\left\\{\\omega: X(\\omega) \\le x\\right\\}\\right).\n",
    "$$\n",
    "\n",
    "### Properties of the cumulative distribution function\n",
    "\n",
    "+ $F_X(x)$ is an increasing function.\n",
    "+ $F_X(-\\infty) = 0$.\n",
    "+ $F_X(+\\infty) = 1$.\n",
    "+ $\\mathbb{P}(a\\le X \\le b) = F_X(b) - F_X(a)$."
   ]
  },
  {
   "cell_type": "markdown",
   "metadata": {},
   "source": [
    "## The probability density function\n",
    "\n",
    "The probability density function (PDF) is a \"function\" $f_X(x)$ that can give us the probability that $X$ is in any \"good\" subset $A$ of $\\mathbb{R}$ as follows:\n",
    "$$\n",
    "\\mathbb{P}(X\\in A) = \\int_A f_X(x) dx.\n",
    "$$\n",
    "Note that certain random variables may not have a PDF that is a function.\n",
    "That's why I put the word \"function\" in quotes.\n",
    "However, if you allow the PDF to include Dirac's $\\delta$, then any random variable has a PDF.\n",
    "We will ignore this complication for the moment.\n",
    "\n",
    "In this class, we will simplify the notation and we will be writing:\n",
    "$$\n",
    "p(x) \\equiv f_X(x),\n",
    "$$\n",
    "when there is no ambiguity.\n",
    "\n",
    "### Properties of the probability density function\n",
    "+ $p(x) \\ge 0$ for all $x$.\n",
    "+ $\\int_{-\\infty}^{\\infty} p(x) dx = 1$.\n",
    "+ The derivative of the CDF is the PDF, i.e., $F_X'(x) = p(x)$.\n",
    "\n",
    "### Dirac's delta and a unified view of all random variables\n",
    "\n",
    "Dirac's $\\delta$ is a special function, actually called a distribution, which is defined as follows:\n",
    "$$\n",
    "\\delta(x) = 0,\n",
    "$$\n",
    "for $x\\not=0$, and\n",
    "$$\n",
    "\\int_{-\\infty}^\\infty \\delta(x) dx = 0\n",
    "$$\n",
    "You can think of Dirac's $\\delta$ as the PDF of a discrete random variable that takes the value $0$ with probability one.\n",
    "\n",
    "Using Dirac's $\\delta$ you can make any discrete random variable you want look like a continuous random variable.\n",
    "For example, consider a Categorical random variable taking values $x_1,\\dots,x_K$ with probabilities $p_1,\\dots,p_K$.\n",
    "The PDF of this random variable can be written as:\n",
    "$$\n",
    "p(x) = \\sum_{k=1}^Kp_k\\delta(x - x_k).\n",
    "$$\n",
    "\n",
    "The most general random variable one can think of has a PDF that consists of two parts:\n",
    "$$\n",
    "p(x) = f^n_X(x) + f^{\\delta}_X(x),\n",
    "$$\n",
    "a part $f^n_X(x)$ that is a nice proper function and a part $f^{\\delta}_X(x)$ that consists of a weighted sum of Dirac $\\delta$'s. "
   ]
  },
  {
   "cell_type": "markdown",
   "metadata": {},
   "source": [
    "## Expectations of continuous random variables\n",
    "\n",
    "The expectation of a continuous random variable is:\n",
    "$$\n",
    "\\mathbb{E}[X] = \\int_{-\\infty}^\\infty x p(x)dx.\n",
    "$$\n",
    "Its properties are the same as the expectation of a discrete random variable.\n",
    "\n",
    "The expectation of a function of the random variable is:\n",
    "$$\n",
    "\\mathbb{E}[f(X)] = \\int_{-\\infty}^\\infty f(x)p(x)dx.\n",
    "$$\n",
    "\n",
    "In general, using the Dirac $\\delta$ trick we introduced above, there is no need to differentiate between integrations and summations.\n",
    "We can use integration for both continuous and discrete random variables."
   ]
  },
  {
   "cell_type": "markdown",
   "metadata": {},
   "source": [
    "## Example: The uniform distribution\n",
    "\n",
    "The uniform distribution is the most common continuous distribution.\n",
    "It corresponds to a random variable that is equally likely to take a value within a given interval.\n",
    "We write:\n",
    "$$\n",
    "X\\sim U([0,1]),\n",
    "$$\n",
    "and we read $X$ follows a uniform distribution taking values in $[0,1]$.\n",
    "\n",
    "The probability density of the uniform is constant in $[0,1]$ and zero outside it.\n",
    "We have:\n",
    "$$\n",
    "p(x) := U(x|[0,1]) := f_X(x) = \\begin{cases}\n",
    "1,&\\;0\\le x \\le 1,\\\\\n",
    "0,&\\;\\text{otherwise}.\n",
    "\\end{cases}\n",
    "$$\n",
    "\n",
    "The cumulative distribution funciton of the uniform is:\n",
    "$$\n",
    "F_X(x) = \\mathbb{P}(X \\le x) = \\int_0^x f_X(u) du = \\int_0^x du = x.\n",
    "$$\n",
    "\n",
    "$$\n",
    "\\mathbb{P}(a \\le X \\le b) = F_X(b) - F_X(a) = b - a.\n",
    "$$\n",
    "\n",
    "The expectation of the uniform is:\n",
    "$$\n",
    "\\mathbb{E}[X] = \\int_0^1 xdx = \\frac{1}{2}.\n",
    "$$\n",
    "\n",
    "The variance of the uniform is:\n",
    "$$\n",
    "\\mathbb{V}[X] = \\mathbb{E}[X^2] - \\left(\\mathbb{E}[X]\\right)^2 = \\frac{1}{3} - \\frac{1}{4} = \\frac{1}{12}.\n",
    "$$"
   ]
  },
  {
   "cell_type": "code",
   "execution_count": 2,
   "metadata": {},
   "outputs": [
    {
     "data": {
      "text/plain": [
       "array([0.0280382 , 0.71649296, 0.69585731, 0.86454015, 0.99865222,\n",
       "       0.44944781, 0.18611376, 0.13704935, 0.68821139, 0.96951703,\n",
       "       0.35429754, 0.19284666, 0.06210441, 0.77288643, 0.81311121,\n",
       "       0.100864  , 0.75058422, 0.32134921, 0.74537746, 0.70842339,\n",
       "       0.67674824, 0.08748944, 0.94447767, 0.82519631, 0.82359022,\n",
       "       0.2297998 , 0.11758483, 0.65556878, 0.89404761, 0.68471793,\n",
       "       0.16562713, 0.10681614, 0.90412657, 0.709893  , 0.72169094,\n",
       "       0.39552758, 0.89917293, 0.30179062, 0.26130416, 0.36024673,\n",
       "       0.55671956, 0.58854111, 0.81161797, 0.47713926, 0.61994643,\n",
       "       0.518404  , 0.10126401, 0.58164728, 0.00808194, 0.90978029,\n",
       "       0.00519012, 0.409727  , 0.40430306, 0.78114076, 0.07411076,\n",
       "       0.18910324, 0.99506872, 0.21338334, 0.58584328, 0.2201198 ,\n",
       "       0.5426388 , 0.58782253, 0.08237183, 0.18506724, 0.20170359,\n",
       "       0.27251501, 0.800697  , 0.87053792, 0.28387355, 0.66533778,\n",
       "       0.98818295, 0.3209168 , 0.31100264, 0.11812317, 0.82241275,\n",
       "       0.52109082, 0.02582219, 0.79020588, 0.35996305, 0.74350642,\n",
       "       0.36768531, 0.99979353, 0.11201563, 0.09089085, 0.28840101,\n",
       "       0.20817112, 0.13552299, 0.70844035, 0.47598069, 0.24237541,\n",
       "       0.15460318, 0.8887465 , 0.84913168, 0.46953887, 0.8808441 ,\n",
       "       0.49130025, 0.83473712, 0.84331661, 0.83695906, 0.66931481])"
      ]
     },
     "execution_count": 2,
     "metadata": {},
     "output_type": "execute_result"
    }
   ],
   "source": [
    "# Let's demonstrate how you can sample from the uniform\n",
    "import scipy.stats as st\n",
    "X = st.uniform()\n",
    "X.rvs(size=100)"
   ]
  },
  {
   "cell_type": "code",
   "execution_count": 3,
   "metadata": {},
   "outputs": [
    {
     "data": {
      "text/plain": [
       "array([0.15937765, 0.05842135, 0.75320583, 0.14686389, 0.11124253,\n",
       "       0.09899011, 0.62810614, 0.6358785 , 0.17961613, 0.95836574,\n",
       "       0.83201433, 0.44158948, 0.33233398, 0.07507923, 0.19044704,\n",
       "       0.58518812, 0.35462817, 0.58595314, 0.43111284, 0.56572275,\n",
       "       0.54296399, 0.55158349, 0.25630418, 0.87271427, 0.61221346,\n",
       "       0.82352595, 0.87850017, 0.12573434, 0.38514678, 0.71289178,\n",
       "       0.48931867, 0.98741815, 0.87058438, 0.12831612, 0.0923542 ,\n",
       "       0.71621483, 0.29134641, 0.63250381, 0.52980688, 0.99495793,\n",
       "       0.03691378, 0.78166883, 0.79797143, 0.54154475, 0.13336735,\n",
       "       0.61487943, 0.14603847, 0.02629496, 0.35407667, 0.57533722,\n",
       "       0.05357424, 0.25561074, 0.44340706, 0.73074615, 0.74838374,\n",
       "       0.09648241, 0.91663758, 0.56394892, 0.15674682, 0.96169036,\n",
       "       0.27151179, 0.31573949, 0.14169   , 0.43419512, 0.11249428,\n",
       "       0.56422556, 0.88721943, 0.64773554, 0.51154328, 0.18198811,\n",
       "       0.99335177, 0.94614229, 0.26805037, 0.99542314, 0.31752936,\n",
       "       0.43589214, 0.04875617, 0.07678187, 0.37227455, 0.43747946,\n",
       "       0.92588953, 0.32610981, 0.53525736, 0.20780829, 0.9941173 ,\n",
       "       0.64486852, 0.89888635, 0.25791074, 0.94592594, 0.4985296 ,\n",
       "       0.49654131, 0.80994763, 0.46094952, 0.90023824, 0.2496003 ,\n",
       "       0.15072548, 0.44836679, 0.22637408, 0.02793499, 0.18634928])"
      ]
     },
     "execution_count": 3,
     "metadata": {},
     "output_type": "execute_result"
    }
   ],
   "source": [
    "# An alternative way is to use the functionality of numpy\n",
    "np.random.rand(100)"
   ]
  },
  {
   "cell_type": "markdown",
   "metadata": {},
   "source": [
    "### Questions\n",
    "\n",
    "+ Modify the code above so that you sample from a uniform distribution taking values in $[2, 5]$?"
   ]
  },
  {
   "cell_type": "markdown",
   "metadata": {},
   "source": [
    "## Joint probability density function\n",
    "\n",
    "Let $X$ and $Y$ be two random variables.\n",
    "There joint probability density $f_{X,Y}(x,y)$ is the function that can give us the probability that the pair $(X,Y)$ belongs to any \"good\" subset $A$ of $\\mathbb{R}^2$ as follows:\n",
    "$$\n",
    "\\mathbb{P}\\left((X,Y)\\in A\\right) = \\int\\int_{A} f_{X,Y}(x,y)dxdy.\n",
    "$$\n",
    "Of course, we will be writing:\n",
    "$$\n",
    "p(x,y) := f_{X,Y}(x,y),\n",
    "$$\n",
    "when there is no ambiguity.\n",
    "\n",
    "If you integrate one of the variables out of the joint, you get the PDF of the other variable.\n",
    "For example:\n",
    "$$\n",
    "p(x) = \\int_{-\\infty}^\\infty p(x,y) dy,\n",
    "$$\n",
    "and\n",
    "$$\n",
    "p(y) = \\int_{-\\infty}^\\infty p(x, y) dx.\n",
    "$$\n",
    "\n",
    "For many random variables $X_1,\\dots,X_N$ their joint PDF $p(x_1,\\dot,x_N)$ is similarly defined.\n",
    "Again, integrating out some variables gives the pdf of the others."
   ]
  },
  {
   "cell_type": "markdown",
   "metadata": {},
   "source": [
    "## Conditioning a random variable on another\n",
    "\n",
    "Consider two random variables $X$ and $Y$.\n",
    "If we had observed that $Y=y$, how would this change the PDF of $X$?\n",
    "The answer is given via Bayes' rule.\n",
    "The PDF of $X$ conditioned on $Y=y$ is:\n",
    "$$\n",
    "p(x|y) = \\frac{p(x,y)}{p(y)}.\n",
    "$$"
   ]
  },
  {
   "cell_type": "markdown",
   "metadata": {},
   "source": [
    "## Example: Inferring the probability of a coin toss from data (1/4)\n",
    "\n",
    "This is our first Bayesian inference example!\n",
    "\n",
    "Let's say that we run a coin toss experiment $N$ times and we wish to figure out the probability of heads.\n",
    "We will bring into the picture all the mathematical machinery we have introduced so far.\n",
    "Let's say that the data we have observe are $x_1,\\dots,x_N$.\n",
    "For notational convenience we will be writing:\n",
    "$$\n",
    "x_{1:N} := (x_1,\\dots,x_N).\n",
    "$$\n",
    "\n",
    "First, let's start with the probability of success of the coin toss.\n",
    "Let's call it $\\theta$.\n",
    "How can we describe our uncertainty about it?\n",
    "We have to assign a *prior* probability distribution on it.\n",
    "Let's say that we don't know anything about it except that it must be between 0 and 1.\n",
    "What distribution should we assign?\n",
    "Of course, a uniform distribution:\n",
    "$$\n",
    "\\theta \\sim U([0,1]).\n",
    "$$\n",
    "Second, each coin toss experiment corresponds to an independent Bernoulli variable with the same probability of success $\\theta$.\n",
    "We write:\n",
    "$$\n",
    "X_n | \\theta \\sim \\operatorname{Bernoulli}(\\theta),\n",
    "$$\n",
    "for $n=1,\\dots,N$.\n",
    "Note that these random variables depend on $\\theta$.\n",
    "That's why we are conditioning like this.\n",
    "\n",
    "Before proceeding with the mathematics, let's draw the graph."
   ]
  },
  {
   "cell_type": "code",
   "execution_count": 4,
   "metadata": {},
   "outputs": [
    {
     "data": {
      "image/svg+xml": [
       "<?xml version=\"1.0\" encoding=\"UTF-8\" standalone=\"no\"?>\n",
       "<!DOCTYPE svg PUBLIC \"-//W3C//DTD SVG 1.1//EN\"\n",
       " \"http://www.w3.org/Graphics/SVG/1.1/DTD/svg11.dtd\">\n",
       "<!-- Generated by graphviz version 2.40.1 (20161225.0304)\n",
       " -->\n",
       "<!-- Title: coin_toss_bayes_1 Pages: 1 -->\n",
       "<svg width=\"62pt\" height=\"116pt\"\n",
       " viewBox=\"0.00 0.00 62.00 116.00\" xmlns=\"http://www.w3.org/2000/svg\" xmlns:xlink=\"http://www.w3.org/1999/xlink\">\n",
       "<g id=\"graph0\" class=\"graph\" transform=\"scale(1 1) rotate(0) translate(4 112)\">\n",
       "<title>coin_toss_bayes_1</title>\n",
       "<polygon fill=\"#ffffff\" stroke=\"transparent\" points=\"-4,4 -4,-112 58,-112 58,4 -4,4\"/>\n",
       "<!-- theta -->\n",
       "<g id=\"node1\" class=\"node\">\n",
       "<title>theta</title>\n",
       "<ellipse fill=\"none\" stroke=\"#000000\" cx=\"27\" cy=\"-90\" rx=\"27\" ry=\"18\"/>\n",
       "<text text-anchor=\"start\" x=\"23\" y=\"-86.3\" font-family=\"Times,serif\" font-size=\"14.00\" fill=\"#000000\">θ</text>\n",
       "</g>\n",
       "<!-- X1 -->\n",
       "<g id=\"node2\" class=\"node\">\n",
       "<title>X1</title>\n",
       "<ellipse fill=\"#d3d3d3\" stroke=\"#000000\" cx=\"27\" cy=\"-18\" rx=\"27\" ry=\"18\"/>\n",
       "<text text-anchor=\"start\" x=\"18.5\" y=\"-15.3\" font-family=\"Times,serif\" font-size=\"14.00\" fill=\"#000000\">X</text>\n",
       "<text text-anchor=\"start\" x=\"29.5\" y=\"-15.3\" font-family=\"Times,serif\" baseline-shift=\"sub\" font-size=\"14.00\" fill=\"#000000\">1</text>\n",
       "</g>\n",
       "<!-- theta&#45;&gt;X1 -->\n",
       "<g id=\"edge1\" class=\"edge\">\n",
       "<title>theta&#45;&gt;X1</title>\n",
       "<path fill=\"none\" stroke=\"#000000\" d=\"M27,-71.8314C27,-64.131 27,-54.9743 27,-46.4166\"/>\n",
       "<polygon fill=\"#000000\" stroke=\"#000000\" points=\"30.5001,-46.4132 27,-36.4133 23.5001,-46.4133 30.5001,-46.4132\"/>\n",
       "</g>\n",
       "</g>\n",
       "</svg>\n"
      ],
      "text/plain": [
       "<graphviz.dot.Digraph at 0x1a1fb66210>"
      ]
     },
     "execution_count": 4,
     "metadata": {},
     "output_type": "execute_result"
    }
   ],
   "source": [
    "# First for one coin toss\n",
    "from graphviz import Digraph\n",
    "gc = Digraph('coin_toss_bayes_1')\n",
    "gc.node('theta', label='<&theta;>')\n",
    "gc.node('X1', label='<X<sub>1</sub>>', style='filled')\n",
    "gc.edge('theta', 'X1')\n",
    "gc.render('coin_toss_bayes_1', format='png')\n",
    "gc"
   ]
  },
  {
   "cell_type": "code",
   "execution_count": 5,
   "metadata": {},
   "outputs": [
    {
     "data": {
      "image/svg+xml": [
       "<?xml version=\"1.0\" encoding=\"UTF-8\" standalone=\"no\"?>\n",
       "<!DOCTYPE svg PUBLIC \"-//W3C//DTD SVG 1.1//EN\"\n",
       " \"http://www.w3.org/Graphics/SVG/1.1/DTD/svg11.dtd\">\n",
       "<!-- Generated by graphviz version 2.40.1 (20161225.0304)\n",
       " -->\n",
       "<!-- Title: coin_toss_bayes_2 Pages: 1 -->\n",
       "<svg width=\"134pt\" height=\"116pt\"\n",
       " viewBox=\"0.00 0.00 134.00 116.00\" xmlns=\"http://www.w3.org/2000/svg\" xmlns:xlink=\"http://www.w3.org/1999/xlink\">\n",
       "<g id=\"graph0\" class=\"graph\" transform=\"scale(1 1) rotate(0) translate(4 112)\">\n",
       "<title>coin_toss_bayes_2</title>\n",
       "<polygon fill=\"#ffffff\" stroke=\"transparent\" points=\"-4,4 -4,-112 130,-112 130,4 -4,4\"/>\n",
       "<!-- theta -->\n",
       "<g id=\"node1\" class=\"node\">\n",
       "<title>theta</title>\n",
       "<ellipse fill=\"none\" stroke=\"#000000\" cx=\"63\" cy=\"-90\" rx=\"27\" ry=\"18\"/>\n",
       "<text text-anchor=\"start\" x=\"59\" y=\"-86.3\" font-family=\"Times,serif\" font-size=\"14.00\" fill=\"#000000\">θ</text>\n",
       "</g>\n",
       "<!-- X1 -->\n",
       "<g id=\"node2\" class=\"node\">\n",
       "<title>X1</title>\n",
       "<ellipse fill=\"#d3d3d3\" stroke=\"#000000\" cx=\"27\" cy=\"-18\" rx=\"27\" ry=\"18\"/>\n",
       "<text text-anchor=\"start\" x=\"18.5\" y=\"-15.3\" font-family=\"Times,serif\" font-size=\"14.00\" fill=\"#000000\">X</text>\n",
       "<text text-anchor=\"start\" x=\"29.5\" y=\"-15.3\" font-family=\"Times,serif\" baseline-shift=\"sub\" font-size=\"14.00\" fill=\"#000000\">1</text>\n",
       "</g>\n",
       "<!-- theta&#45;&gt;X1 -->\n",
       "<g id=\"edge1\" class=\"edge\">\n",
       "<title>theta&#45;&gt;X1</title>\n",
       "<path fill=\"none\" stroke=\"#000000\" d=\"M54.2854,-72.5708C50.0403,-64.0807 44.8464,-53.6929 40.1337,-44.2674\"/>\n",
       "<polygon fill=\"#000000\" stroke=\"#000000\" points=\"43.237,-42.6477 35.6343,-35.2687 36.976,-45.7782 43.237,-42.6477\"/>\n",
       "</g>\n",
       "<!-- X2 -->\n",
       "<g id=\"node3\" class=\"node\">\n",
       "<title>X2</title>\n",
       "<ellipse fill=\"#d3d3d3\" stroke=\"#000000\" cx=\"99\" cy=\"-18\" rx=\"27\" ry=\"18\"/>\n",
       "<text text-anchor=\"start\" x=\"90.5\" y=\"-15.3\" font-family=\"Times,serif\" font-size=\"14.00\" fill=\"#000000\">X</text>\n",
       "<text text-anchor=\"start\" x=\"101.5\" y=\"-15.3\" font-family=\"Times,serif\" baseline-shift=\"sub\" font-size=\"14.00\" fill=\"#000000\">2</text>\n",
       "</g>\n",
       "<!-- theta&#45;&gt;X2 -->\n",
       "<g id=\"edge2\" class=\"edge\">\n",
       "<title>theta&#45;&gt;X2</title>\n",
       "<path fill=\"none\" stroke=\"#000000\" d=\"M71.7146,-72.5708C75.9597,-64.0807 81.1536,-53.6929 85.8663,-44.2674\"/>\n",
       "<polygon fill=\"#000000\" stroke=\"#000000\" points=\"89.024,-45.7782 90.3657,-35.2687 82.763,-42.6477 89.024,-45.7782\"/>\n",
       "</g>\n",
       "</g>\n",
       "</svg>\n"
      ],
      "text/plain": [
       "<graphviz.dot.Digraph at 0x1a1fb64450>"
      ]
     },
     "execution_count": 5,
     "metadata": {},
     "output_type": "execute_result"
    }
   ],
   "source": [
    "# Now for two coin tosses\n",
    "gc2 = Digraph('coin_toss_bayes_2')\n",
    "gc2.node('theta', label='<&theta;>')\n",
    "gc2.node('X1', label='<X<sub>1</sub>>', style='filled')\n",
    "gc2.node('X2', label='<X<sub>2</sub>>', style='filled')\n",
    "gc2.edge('theta', 'X1')\n",
    "gc2.edge('theta', 'X2')\n",
    "gc2.render('coin_toss_bayes_2', format='png')\n",
    "gc2"
   ]
  },
  {
   "cell_type": "code",
   "execution_count": 6,
   "metadata": {},
   "outputs": [
    {
     "data": {
      "image/svg+xml": [
       "<?xml version=\"1.0\" encoding=\"UTF-8\" standalone=\"no\"?>\n",
       "<!DOCTYPE svg PUBLIC \"-//W3C//DTD SVG 1.1//EN\"\n",
       " \"http://www.w3.org/Graphics/SVG/1.1/DTD/svg11.dtd\">\n",
       "<!-- Generated by graphviz version 2.40.1 (20161225.0304)\n",
       " -->\n",
       "<!-- Title: coin_toss_bayes_3 Pages: 1 -->\n",
       "<svg width=\"206pt\" height=\"116pt\"\n",
       " viewBox=\"0.00 0.00 206.00 116.00\" xmlns=\"http://www.w3.org/2000/svg\" xmlns:xlink=\"http://www.w3.org/1999/xlink\">\n",
       "<g id=\"graph0\" class=\"graph\" transform=\"scale(1 1) rotate(0) translate(4 112)\">\n",
       "<title>coin_toss_bayes_3</title>\n",
       "<polygon fill=\"#ffffff\" stroke=\"transparent\" points=\"-4,4 -4,-112 202,-112 202,4 -4,4\"/>\n",
       "<!-- theta -->\n",
       "<g id=\"node1\" class=\"node\">\n",
       "<title>theta</title>\n",
       "<ellipse fill=\"none\" stroke=\"#000000\" cx=\"99\" cy=\"-90\" rx=\"27\" ry=\"18\"/>\n",
       "<text text-anchor=\"start\" x=\"95\" y=\"-86.3\" font-family=\"Times,serif\" font-size=\"14.00\" fill=\"#000000\">θ</text>\n",
       "</g>\n",
       "<!-- X1 -->\n",
       "<g id=\"node2\" class=\"node\">\n",
       "<title>X1</title>\n",
       "<ellipse fill=\"#d3d3d3\" stroke=\"#000000\" cx=\"27\" cy=\"-18\" rx=\"27\" ry=\"18\"/>\n",
       "<text text-anchor=\"start\" x=\"18.5\" y=\"-15.3\" font-family=\"Times,serif\" font-size=\"14.00\" fill=\"#000000\">X</text>\n",
       "<text text-anchor=\"start\" x=\"29.5\" y=\"-15.3\" font-family=\"Times,serif\" baseline-shift=\"sub\" font-size=\"14.00\" fill=\"#000000\">1</text>\n",
       "</g>\n",
       "<!-- theta&#45;&gt;X1 -->\n",
       "<g id=\"edge1\" class=\"edge\">\n",
       "<title>theta&#45;&gt;X1</title>\n",
       "<path fill=\"none\" stroke=\"#000000\" d=\"M83.7307,-74.7307C73.803,-64.803 60.6847,-51.6847 49.5637,-40.5637\"/>\n",
       "<polygon fill=\"#000000\" stroke=\"#000000\" points=\"51.7933,-37.8436 42.2473,-33.2473 46.8436,-42.7933 51.7933,-37.8436\"/>\n",
       "</g>\n",
       "<!-- X2 -->\n",
       "<g id=\"node3\" class=\"node\">\n",
       "<title>X2</title>\n",
       "<ellipse fill=\"#d3d3d3\" stroke=\"#000000\" cx=\"99\" cy=\"-18\" rx=\"27\" ry=\"18\"/>\n",
       "<text text-anchor=\"start\" x=\"90.5\" y=\"-15.3\" font-family=\"Times,serif\" font-size=\"14.00\" fill=\"#000000\">X</text>\n",
       "<text text-anchor=\"start\" x=\"101.5\" y=\"-15.3\" font-family=\"Times,serif\" baseline-shift=\"sub\" font-size=\"14.00\" fill=\"#000000\">2</text>\n",
       "</g>\n",
       "<!-- theta&#45;&gt;X2 -->\n",
       "<g id=\"edge2\" class=\"edge\">\n",
       "<title>theta&#45;&gt;X2</title>\n",
       "<path fill=\"none\" stroke=\"#000000\" d=\"M99,-71.8314C99,-64.131 99,-54.9743 99,-46.4166\"/>\n",
       "<polygon fill=\"#000000\" stroke=\"#000000\" points=\"102.5001,-46.4132 99,-36.4133 95.5001,-46.4133 102.5001,-46.4132\"/>\n",
       "</g>\n",
       "<!-- X3 -->\n",
       "<g id=\"node4\" class=\"node\">\n",
       "<title>X3</title>\n",
       "<ellipse fill=\"#d3d3d3\" stroke=\"#000000\" cx=\"171\" cy=\"-18\" rx=\"27\" ry=\"18\"/>\n",
       "<text text-anchor=\"start\" x=\"162.5\" y=\"-15.3\" font-family=\"Times,serif\" font-size=\"14.00\" fill=\"#000000\">X</text>\n",
       "<text text-anchor=\"start\" x=\"173.5\" y=\"-15.3\" font-family=\"Times,serif\" baseline-shift=\"sub\" font-size=\"14.00\" fill=\"#000000\">3</text>\n",
       "</g>\n",
       "<!-- theta&#45;&gt;X3 -->\n",
       "<g id=\"edge3\" class=\"edge\">\n",
       "<title>theta&#45;&gt;X3</title>\n",
       "<path fill=\"none\" stroke=\"#000000\" d=\"M114.2693,-74.7307C124.197,-64.803 137.3153,-51.6847 148.4363,-40.5637\"/>\n",
       "<polygon fill=\"#000000\" stroke=\"#000000\" points=\"151.1564,-42.7933 155.7527,-33.2473 146.2067,-37.8436 151.1564,-42.7933\"/>\n",
       "</g>\n",
       "</g>\n",
       "</svg>\n"
      ],
      "text/plain": [
       "<graphviz.dot.Digraph at 0x1a1fb88350>"
      ]
     },
     "execution_count": 6,
     "metadata": {},
     "output_type": "execute_result"
    }
   ],
   "source": [
    "# Now for three coin tosses\n",
    "gc3 = Digraph('coin_toss_bayes_3')\n",
    "gc3.node('theta', label='<&theta;>')\n",
    "gc3.node('X1', label='<X<sub>1</sub>>', style='filled')\n",
    "gc3.node('X2', label='<X<sub>2</sub>>', style='filled')\n",
    "gc3.node('X3', label='<X<sub>3</sub>>', style='filled')\n",
    "gc3.edge('theta', 'X1')\n",
    "gc3.edge('theta', 'X2')\n",
    "gc3.edge('theta', 'X3')\n",
    "gc3.render('coin_toss_bayes_3', format='png')\n",
    "gc3"
   ]
  },
  {
   "cell_type": "markdown",
   "metadata": {},
   "source": [
    "Because this notation gets a little bit too involved, we introduce the so called [plate notation](https://en.wikipedia.org/wiki/Plate_notation).\n",
    "Whategver is inside the subgrpah indicated by the box is supposed to be repeated as many times as indicated:"
   ]
  },
  {
   "cell_type": "code",
   "execution_count": 7,
   "metadata": {},
   "outputs": [
    {
     "data": {
      "image/svg+xml": [
       "<?xml version=\"1.0\" encoding=\"UTF-8\" standalone=\"no\"?>\n",
       "<!DOCTYPE svg PUBLIC \"-//W3C//DTD SVG 1.1//EN\"\n",
       " \"http://www.w3.org/Graphics/SVG/1.1/DTD/svg11.dtd\">\n",
       "<!-- Generated by graphviz version 2.40.1 (20161225.0304)\n",
       " -->\n",
       "<!-- Title: coin_toss_bayes_plate Pages: 1 -->\n",
       "<svg width=\"94pt\" height=\"155pt\"\n",
       " viewBox=\"0.00 0.00 94.00 155.00\" xmlns=\"http://www.w3.org/2000/svg\" xmlns:xlink=\"http://www.w3.org/1999/xlink\">\n",
       "<g id=\"graph0\" class=\"graph\" transform=\"scale(1 1) rotate(0) translate(4 151)\">\n",
       "<title>coin_toss_bayes_plate</title>\n",
       "<polygon fill=\"#ffffff\" stroke=\"transparent\" points=\"-4,4 -4,-151 90,-151 90,4 -4,4\"/>\n",
       "<g id=\"clust1\" class=\"cluster\">\n",
       "<title>cluster_0</title>\n",
       "<polygon fill=\"none\" stroke=\"#000000\" points=\"8,-8 8,-83 78,-83 78,-8 8,-8\"/>\n",
       "<text text-anchor=\"middle\" x=\"43\" y=\"-15.8\" font-family=\"Times,serif\" font-size=\"14.00\" fill=\"#000000\">n=1,...,N</text>\n",
       "</g>\n",
       "<!-- theta -->\n",
       "<g id=\"node1\" class=\"node\">\n",
       "<title>theta</title>\n",
       "<ellipse fill=\"none\" stroke=\"#000000\" cx=\"43\" cy=\"-129\" rx=\"27\" ry=\"18\"/>\n",
       "<text text-anchor=\"start\" x=\"39\" y=\"-125.3\" font-family=\"Times,serif\" font-size=\"14.00\" fill=\"#000000\">θ</text>\n",
       "</g>\n",
       "<!-- Xn -->\n",
       "<g id=\"node2\" class=\"node\">\n",
       "<title>Xn</title>\n",
       "<ellipse fill=\"#d3d3d3\" stroke=\"#000000\" cx=\"43\" cy=\"-57\" rx=\"27\" ry=\"18\"/>\n",
       "<text text-anchor=\"start\" x=\"34.5\" y=\"-54.3\" font-family=\"Times,serif\" font-size=\"14.00\" fill=\"#000000\">X</text>\n",
       "<text text-anchor=\"start\" x=\"45.5\" y=\"-54.3\" font-family=\"Times,serif\" baseline-shift=\"sub\" font-size=\"14.00\" fill=\"#000000\">n</text>\n",
       "</g>\n",
       "<!-- theta&#45;&gt;Xn -->\n",
       "<g id=\"edge1\" class=\"edge\">\n",
       "<title>theta&#45;&gt;Xn</title>\n",
       "<path fill=\"none\" stroke=\"#000000\" d=\"M43,-110.8314C43,-103.131 43,-93.9743 43,-85.4166\"/>\n",
       "<polygon fill=\"#000000\" stroke=\"#000000\" points=\"46.5001,-85.4132 43,-75.4133 39.5001,-85.4133 46.5001,-85.4132\"/>\n",
       "</g>\n",
       "</g>\n",
       "</svg>\n"
      ],
      "text/plain": [
       "<graphviz.dot.Digraph at 0x1a1fb88b10>"
      ]
     },
     "execution_count": 7,
     "metadata": {},
     "output_type": "execute_result"
    }
   ],
   "source": [
    "gcp = Digraph('coin_toss_bayes_plate')\n",
    "gcp.node('theta', label='<&theta;>')\n",
    "with gcp.subgraph(name='cluster_0') as sg:\n",
    "    sg.node('Xn', label='<X<sub>n</sub>>', style='filled')\n",
    "    sg.attr(label='n=1,...,N')\n",
    "    sg.attr(labelloc='b')\n",
    "gcp.edge('theta', 'Xn')\n",
    "gcp.render('coin_toss_bayes_plate', format='png')\n",
    "gcp"
   ]
  },
  {
   "cell_type": "markdown",
   "metadata": {},
   "source": [
    "To carry out Bayesian inference, we need the joint probability density of all variables.\n",
    "It is:\n",
    "$$\n",
    "p(x_1,\\dots,x_N, \\theta) = p(x_{1:N}|\\theta) p(\\theta) = \\left(\\prod_{n=1}p(x_n|\\theta)\\right)p(\\theta),\n",
    "$$\n",
    "where we first used Bayes' rule and then the fact that the coin tosses are independent.\n",
    "We must find the mathematical form of all these expressions.\n",
    "For $\\theta$, we simply have:\n",
    "$$\n",
    "p(\\theta) = 1_{[0,1]}(\\theta),\n",
    "$$\n",
    "where $1_A(x)$ is the indicator function of $A$, i.e., $1_A(x) = 1$ if $x$ is in $A$ and zero otherwise.\n",
    "For the Bernoulli pmf's we have:\n",
    "$$\n",
    "p(X_n = 1|\\theta) = \\theta,\n",
    "$$\n",
    "and\n",
    "$$\n",
    "p(X_n = 0|\\theta) = 1- \\theta.\n",
    "$$\n",
    "So, in a unified way, we can write:\n",
    "$$\n",
    "p(x_n | \\theta) = \\theta^{x_n}(1-\\theta)^{1-x_n}.\n",
    "$$\n",
    "Now, let's re-write the joint pmf:\n",
    "$$\n",
    "p(x_1,\\dots,x_N, \\theta) = \\theta^{\\sum_{n=1}^Nx_n}(1-\\theta)^{N-\\sum_{n=1}^Nx_n}1_{[0,1]}(\\theta),\n",
    "$$\n",
    "which has a nice interpretation as it depends only on the total number of heads $\\sum_{n=1}^Nx_n$.\n",
    "\n",
    "Now, we are in a position to apply Bayes rule to condition on the data.\n",
    "We have:\n",
    "$$\n",
    "p(\\theta|x_{1:N}) = \\frac{p(x_{1:N},\\theta)}{p(x_{1:N})} \\propto p(x_{1:N}, \\theta) = \\theta^{\\sum_{n=1}^Nx_n}(1-\\theta)^{N-\\sum_{n=1}^Nx_n}1_{[0,1]}(\\theta).\n",
    "$$\n",
    "It may be the first time you encounter this, but we have actually discovered a new distribution called the [Beta distribution](https://en.wikipedia.org/wiki/Beta_distribution).\n",
    "This is what the posterior turns out to be.\n",
    "This is one of the few instances where the posterior is analytically available.\n",
    "We will return to the example, once we introduce the Beta distribution."
   ]
  },
  {
   "cell_type": "markdown",
   "metadata": {},
   "source": [
    "## Example: The Beta distribution\n",
    "\n",
    "The Beta distribution is suitable for random variables that take values in $[0,1]$ but are not necessarily uniform.\n",
    "We write:\n",
    "$$\n",
    "X\\sim \\operatorname{Beta}(\\alpha, \\beta),\n",
    "$$\n",
    "where $\\alpha$ and $\\beta$ are positive shape parameters.\n",
    "The interpretation of the parameters is more or less this:\n",
    "+ The bigger $\\alpha$ is, the more the distribution is pulled towards zero.\n",
    "+ The bigger $\\beta$ is, the more the distribution is pulled towards one.\n",
    "\n",
    "The PDF of the Beta is:\n",
    "$$\n",
    "p(x) = \\frac{x^{\\alpha-1}(1-x)^{\\beta - 1}}{B(\\alpha,\\beta)},\n",
    "$$\n",
    "where\n",
    "$$\n",
    "B(\\alpha,\\beta) = \\frac{\\Gamma(\\alpha)\\Gamma(\\beta)}{\\Gamma(\\alpha+\\beta)},\n",
    "$$\n",
    "where $\\Gamma$ is the [Gamma function](https://en.wikipedia.org/wiki/Gamma_function).\n",
    "It's expectation is:\n",
    "$$\n",
    "\\mathbb{E}[X] = \\frac{\\alpha}{\\alpha + \\beta}.\n",
    "$$"
   ]
  },
  {
   "cell_type": "markdown",
   "metadata": {},
   "source": [
    "## Example: Inferring the probability of a coin toss from data (2/4)\n",
    "\n",
    "Now, that we know about the Beta distribution, we can write for the posterior of $\\theta$:\n",
    "$$\n",
    "p(\\theta|x_{1:N}) = \\operatorname{Beta}\\left(\\theta\\middle|1 + \\sum_{n=1}^Nx_n, 1 + N - \\sum_{n=1}^Nx_n\\right).\n",
    "$$\n",
    "where with $\\operatorname{Beta}(\\theta|\\alpha,\\beta)$ we mean the PDF of the $\\operatorname{Beta}(\\alpha,\\beta)$ evaluated at $\\theta$ (this is a very useful notation).\n",
    "So, we see that the $\\alpha$ parameter is just one plus the number of heads and the $\\beta$ parameter is one plus the number of tails.\n",
    "\n",
    "Let's try this out with some fake data."
   ]
  },
  {
   "cell_type": "code",
   "execution_count": 8,
   "metadata": {},
   "outputs": [
    {
     "data": {
      "text/plain": [
       "<matplotlib.legend.Legend at 0x1a20272dd0>"
      ]
     },
     "execution_count": 8,
     "metadata": {},
     "output_type": "execute_result"
    },
    {
     "data": {
      "image/png": "[encoded data removed]",
      "text/plain": [
       "<Figure size 432x288 with 1 Axes>"
      ]
     },
     "metadata": {
      "needs_background": "light"
     },
     "output_type": "display_data"
    }
   ],
   "source": [
    "# Take a fake coin which is a little bit biased\n",
    "theta_true = 0.8\n",
    "# This is the random variable corresponding to a coin toss\n",
    "X = st.bernoulli(theta_true)\n",
    "# Sample from it a number of times to generate our data = (x1, ..., xN)\n",
    "N = 100\n",
    "data = X.rvs(size=N)\n",
    "# Now we are ready to calculate the posterior which the Beta we have above\n",
    "alpha = 1.0 + data.sum()\n",
    "beta = 1.0 + N - data.sum()\n",
    "Theta_post = st.beta(alpha, beta)\n",
    "# Now we can plot the posterior PDF for theta\n",
    "fig, ax = plt.subplots()\n",
    "thetas = np.linspace(0, 1, 100)\n",
    "ax.plot([theta_true], [0.0], 'o', markeredgewidth=2, markersize=10, label='True value')\n",
    "ax.plot(thetas, Theta_post.pdf(thetas), label=r'$p(\\theta|x_{1:N})$')\n",
    "ax.set_xlabel(r'$\\theta$')\n",
    "ax.set_title('$N={0:d}$'.format(N))\n",
    "plt.legend(loc='best')"
   ]
  },
  {
   "cell_type": "markdown",
   "metadata": {},
   "source": [
    "### Questions\n",
    "\n",
    "+ Experiment with different values of $\\theta_{\\text{true}}$ and different values of $N$.\n",
    "+ Is the true value always covered by the posterior PDF?"
   ]
  },
  {
   "cell_type": "markdown",
   "metadata": {},
   "source": [
    "## Quantiles of a random variable\n",
    "\n",
    "The posterior $p(\\theta|x_{1:N})$ summarizes everything that we have to say about $\\theta$.\n",
    "It is the complete picture.\n",
    "However, you may be asked to find an interval within which $\\theta$ lies with high accuracy?\n",
    "How do you do that?\n",
    "For this we need the idea of quantiles.\n",
    "\n",
    "Let $X$ be a random variable and $q$ be a number between $0$ and $1$.\n",
    "The $q$-quantile of $X$ is the smaller number $x_q$ such that $X$ is smaller than $x_q$ with probability $q$.\n",
    "Mathematically:\n",
    "$$\n",
    "\\mathbb{P}(X\\le x_q) = F_X(x_q) = q.\n",
    "$$\n",
    "(For the proper mathematical definition we need to use the concept of infimum.)\n",
    "For example, you can find the $2.5\\%$ quantile of a random variable, $x_{0.025}$:\n",
    "$$\n",
    "\\mathbb{P}(X\\le x_{0.025}) = 0.025,\n",
    "$$\n",
    "or the $97.5\\%$ quantile:\n",
    "$$\n",
    "\\mathbb{P}(X\\le x_{0.975}) = 0.975.\n",
    "$$\n",
    "Then you can say that, with 95\\% probability, $X$ lies between $x_{0.025}$ and $x_{0.975}$.\n",
    "The interval $[x_{0.025}, x_{0.975}]$ is called a $95\\%$ predictive interval."
   ]
  },
  {
   "cell_type": "markdown",
   "metadata": {},
   "source": [
    "## Example: Inferring the probability of a coin toss from data (3/4)\n",
    "\n",
    "Let's apply the idea of quantiles to the coin toss example to find a 95\\% predictive interval."
   ]
  },
  {
   "cell_type": "code",
   "execution_count": 9,
   "metadata": {},
   "outputs": [
    {
     "name": "stdout",
     "output_type": "stream",
     "text": [
      "Theta is in [0.74, 0.89] with 95% probability\n"
     ]
    }
   ],
   "source": [
    "theta_low = Theta_post.ppf(0.025) # ppf stands for percent point function\n",
    "theta_up = Theta_post.ppf(0.975)\n",
    "print('Theta is in [{0:1.2f}, {1:1.2f}] with 95% probability'.format(theta_low, theta_up))"
   ]
  },
  {
   "cell_type": "markdown",
   "metadata": {},
   "source": [
    "### Questions\n",
    "+ How many coin tosses do you have to do, in order to estimate $\\theta$ within an accuracy of $1\\%$ with $99\\%$ probability?"
   ]
  },
  {
   "cell_type": "markdown",
   "metadata": {},
   "source": [
    "## The decision making problem\n",
    "\n",
    "So, we learned about predictive intervals.\n",
    "But what if someone asks you to report a single value for $\\theta$ in the coin toss example?\n",
    "What is the correct way of doing this?\n",
    "\n",
    "This is actually a decision-making problem.\n",
    "To answer it, you have to quantify the cost of making a mistake and then make a decision that minimizes this cost.\n",
    "To formalize this concept, assume that we have a random variable $X$ and we have to guess a value for it.\n",
    "Let $\\ell(x, x')$ be the loss we incur when we guess $x$ and the true value is $x'$.\n",
    "This is a completly subjective quantity.\n",
    "However, here are some ideas:\n",
    "+ The square loss:\n",
    "$$\n",
    "\\ell_2(x,x') = (x-x')^2.\n",
    "$$\n",
    "+ The absolute loss:\n",
    "$$\n",
    "\\ell_1(x,x') = |x-x'|.\n",
    "$$\n",
    "\n",
    "The rational thing to do, when choosing a value for $x$ is to minimize our *expected loss*, i.e., we make our choice by solving this problem:\n",
    "$$\n",
    "x^* = \\min_x \\mathbb{E}[\\ell(x,X)].\n",
    "$$\n",
    "This, in general, is not a problem with an analytical solution.\n",
    "However, for the two special loss functions above the answer is:\n",
    "+ The choice that minimizes the square loss is the expectation of the random variable:\n",
    "$$\n",
    "x^* = \\mathbb{E}[X].\n",
    "$$\n",
    "+ The choice that minimizes the absolute loss is the median, i.e., $x^*$ is the 50\\% quantile:\n",
    "$$\n",
    "x^* = x_{0.5}.\n",
    "$$"
   ]
  },
  {
   "cell_type": "markdown",
   "metadata": {},
   "source": [
    "## Example: Inferring the probability of a coin toss from data (4/4)\n",
    "\n",
    "Let's pick a $\\theta$ by minimizing the square loss.\n",
    "We just have to find the expectation of the posterior $p(\\theta|x_{1:N})$ (which is just a Beta).\n",
    "It is:\n",
    "$$\n",
    "\\theta^*_N = \\mathbb{E}[\\theta|x_{1:N}] = \\frac{1+\\sum_{n=1}^Nx_n}{1+\\sum_{n=1}^Nx_n + N + 1 - \\sum_{n=1}^Nx_n}\n",
    "= \\frac{1 + \\sum_{n=1}^Nx_n}{N+2}.\n",
    "$$"
   ]
  },
  {
   "cell_type": "code",
   "execution_count": 10,
   "metadata": {},
   "outputs": [
    {
     "name": "stdout",
     "output_type": "stream",
     "text": [
      "E[X] = 0.82\n"
     ]
    }
   ],
   "source": [
    "# In the example we had above:\n",
    "theta_star = Theta_post.expect()\n",
    "print('E[X] = {0:1.2f}'.format(theta_star))"
   ]
  },
  {
   "cell_type": "markdown",
   "metadata": {},
   "source": [
    "### Questions\n",
    "+ Find the 50\\% quantile of $\\theta$ which minimizes the absolute loss."
   ]
  },
  {
   "cell_type": "markdown",
   "metadata": {},
   "source": [
    "## Example: The normal distribution\n",
    "\n",
    "The normal (or Gaussian) distribution is a ubiquitous one.\n",
    "It appears over and over again.\n",
    "There are two explanations as to why it appears so often:\n",
    "\n",
    "+ It is the distribution of maximum uncertainty that matches a known mean and a known variance variance.\n",
    "+ It is the distribution that arises when you add a lot of random variables together.\n",
    "\n",
    "We will learn about both these in the next lectures.\n",
    "\n",
    "We write:\n",
    "$$\n",
    "X | \\mu, \\sigma \\sim N(\\mu, \\sigma),\n",
    "$$\n",
    "and we read \"$X$ conditioned on $\\mu$ and $\\sigma$ follows a normal distribution with mean $\\mu$ and variance $\\sigma^2$.\n",
    "\n",
    "When $\\mu=0$ and $\\sigma^2=1$, we say that we have a *standard normal* distribution.\n",
    "Let\n",
    "$$\n",
    "Z\\sim N(0,1).\n",
    "$$\n",
    "The PDF of the standard normal is:\n",
    "$$\n",
    "\\phi(z) := N(z|0,1) = \\frac{1}{\\sqrt{2\\pi}}\\exp\\left\\{-\\frac{z^2}{2}\\right\\}.\n",
    "$$\n",
    "The CDF of the standard normal is:\n",
    "$$\n",
    "\\Phi(z) := \\mathbb{P}(Z \\le z) = \\int_{-\\infty}^z \\phi(z')dz',\n",
    "$$\n",
    "is not analytically available.\n",
    "However, there are codes that can compute it."
   ]
  },
  {
   "cell_type": "code",
   "execution_count": 11,
   "metadata": {},
   "outputs": [
    {
     "data": {
      "image/png": "[encoded data removed]",
      "text/plain": [
       "<Figure size 432x288 with 1 Axes>"
      ]
     },
     "metadata": {
      "needs_background": "light"
     },
     "output_type": "display_data"
    }
   ],
   "source": [
    "# Here is how you can get the PDF of the standard normal\n",
    "Z = st.norm()\n",
    "fig, ax = plt.subplots()\n",
    "zs = np.linspace(-4.0, 4.0, 100)\n",
    "ax.plot(zs, Z.pdf(zs))\n",
    "ax.set_xlabel('$x$')\n",
    "ax.set_ylabel('$\\phi(x) = N(x|0,1)$');"
   ]
  },
  {
   "cell_type": "code",
   "execution_count": 13,
   "metadata": {},
   "outputs": [
    {
     "data": {
      "image/png": "[encoded data removed]",
      "text/plain": [
       "<Figure size 432x288 with 1 Axes>"
      ]
     },
     "metadata": {
      "needs_background": "light"
     },
     "output_type": "display_data"
    }
   ],
   "source": [
    "# And here is the CDF of the standard normal\n",
    "fig, ax = plt.subplots()\n",
    "ax.plot(zs, Z.cdf(zs))\n",
    "ax.set_xlabel('$x$')\n",
    "ax.set_ylabel('$\\Phi(x)$');"
   ]
  },
  {
   "cell_type": "code",
   "execution_count": 14,
   "metadata": {},
   "outputs": [
    {
     "name": "stdout",
     "output_type": "stream",
     "text": [
      "[ 4.26861961e-01  2.39615300e-01  1.14334787e+00 -1.16936972e+00\n",
      " -2.70108856e-01 -9.10053931e-01 -9.05209465e-02  1.51985367e+00\n",
      "  7.42408078e-01 -1.01966500e+00 -6.48492484e-01 -1.21371611e+00\n",
      " -2.94760819e-02  1.11168464e+00  3.24915048e-01 -3.52613968e-01\n",
      "  2.61222221e+00  2.68617477e-01 -3.38258427e-01  1.49741175e+00\n",
      "  2.07274141e-01  1.42696536e+00  1.47872483e+00 -5.33561781e-02\n",
      "  1.43702290e-01 -1.02000672e+00  2.24149645e-01  6.73772827e-01\n",
      " -3.73934455e-01  1.78729217e+00  6.57242933e-01 -2.33295252e+00\n",
      "  5.37778219e-01 -5.10564511e-01 -7.09782889e-01  8.70916949e-02\n",
      " -1.24384200e+00 -6.90359315e-01  1.14550689e+00  1.37882601e+00\n",
      "  1.48352240e+00 -2.14510428e+00 -3.14463971e-02 -1.72512010e-01\n",
      "  1.94355733e-01 -9.82723537e-01  3.23475163e-01 -5.70170871e-01\n",
      "  1.85858271e+00  1.59777010e+00  7.35023330e-01 -2.94305622e-01\n",
      " -2.65228942e-01 -6.92726118e-02 -3.40270967e-01 -4.06528056e-01\n",
      " -9.61847138e-01 -1.43173893e+00  4.52430110e-01  9.28916329e-01\n",
      " -1.23550795e+00 -5.97151480e-01  9.74908035e-01 -4.01400501e-01\n",
      "  7.44902358e-01 -1.17585689e+00 -6.87279797e-01  1.25269252e-01\n",
      " -6.48362000e-01 -1.99577344e-01  7.93562851e-01 -1.27336977e-01\n",
      "  8.24550041e-01  1.51823230e-01  1.89865721e-03  1.94485053e+00\n",
      "  1.45339336e-01  1.01732156e+00  7.68194243e-01 -1.04442174e+00\n",
      "  3.48940530e-01 -1.58070790e-01 -2.13174401e-01 -1.64685737e-01\n",
      "  3.78698797e-01  7.27362534e-01 -8.01136474e-01 -1.47900129e+00\n",
      "  6.48580574e-02 -8.34140000e-01 -1.17878766e+00  7.80732492e-01\n",
      "  2.01305198e-01  1.05786904e-02  1.56567274e+00  1.04884827e-02\n",
      "  1.17479177e+00  2.35586618e-01 -1.02660074e+00 -2.38747314e-01]\n"
     ]
    }
   ],
   "source": [
    "# You can sample from the normal like this:\n",
    "print(Z.rvs(size=100))"
   ]
  },
  {
   "cell_type": "markdown",
   "metadata": {},
   "source": [
    "Using the standard normal, we can express any normal.\n",
    "It is easy to show that:\n",
    "$$\n",
    "X = \\mu + \\sigma Z,\n",
    "$$\n",
    "follows a $N(\\mu,\\sigma^2)$ if $Z$ follows and $N(0,1)$.\n",
    "You must remember this!\n",
    "It is extremely useful and it will appear again and again.\n",
    "For example, using this relationship you can sample from any normal using samples from the standard normal.\n",
    "Let's take some samples exploiting this relationship and then compare the histogram to the true PDF."
   ]
  },
  {
   "cell_type": "code",
   "execution_count": 15,
   "metadata": {},
   "outputs": [
    {
     "data": {
      "image/png": "[encoded data removed]",
      "text/plain": [
       "<Figure size 432x288 with 1 Axes>"
      ]
     },
     "metadata": {
      "needs_background": "light"
     },
     "output_type": "display_data"
    }
   ],
   "source": [
    "mu = 1.0\n",
    "sigma = 0.1\n",
    "X = st.norm(mu, sigma)\n",
    "xs = np.linspace(mu - 6.0 * sigma, mu + 6.0 * sigma, 100)\n",
    "x_samples = mu + sigma * Z.rvs(size=10000)\n",
    "fig, ax = plt.subplots()\n",
    "ax.hist(x_samples, density=True, alpha=0.5)\n",
    "ax.plot(xs, X.pdf(xs))\n",
    "ax.set_xlabel('$x$')\n",
    "ax.set_ylabel('$p(x)$');"
   ]
  },
  {
   "cell_type": "markdown",
   "metadata": {},
   "source": [
    "The reverse of the previous expression also holds.\n",
    "For example, if $X | \\mu, \\sigma\\sim N(\\mu,\\sigma)$, then the random variable\n",
    "$$\n",
    "Z = \\frac{X-\\mu}{\\sigma},\n",
    "$$\n",
    "follows a standard normal.\n",
    "You will be asked to prove this in the homework.\n",
    "\n",
    "You should also remember the mathematical form of the PDF of $N(\\mu,\\sigma)$ which is:\n",
    "$$\n",
    "p(x) := \\frac{1}{\\sqrt{2\\pi}\\sigma}\\exp\\left\\{-\\frac{(x-\\mu)^2}{2\\sigma^2}\\right\\} = \\frac{1}{\\sigma}\\phi\\left(\\frac{x-\\mu}{\\sigma}\\right).\n",
    "$$\n",
    "\n",
    "There is also a very nice relationship between the CDF of $N(\\mu,\\sigma)$, call it $F(x)$, and the CDF of the standard normal $\\Phi(z)$.\n",
    "It is:\n",
    "$$\n",
    "F(x) = \\mathbb{P}(X\\le x|\\mu,\\sigma) = \\mathbb{P}\\left(\\frac{X-\\mu}{\\sigma}\\le \\frac{x-\\mu}{\\sigma}\\right) = \\Phi\\left(\\frac{x-\\mu}{\\sigma}\\right).\n",
    "$$"
   ]
  },
  {
   "cell_type": "markdown",
   "metadata": {},
   "source": [
    "## Example: Infering the mean of a normal with a known variance\n",
    "\n",
    "Assume that we are performing an experiment $X_n$ that measures the acceleration of gravity and that we know that the measurement variance is $\\sigma = 0.1$.\n",
    "So, we have:\n",
    "$$\n",
    "X_n | g, \\sigma \\sim N(g, \\sigma^2).\n",
    "$$\n",
    "So, the model says that the measured acceleration of gravity is around the true one with some Gaussian noise.\n",
    "\n",
    "What is our state of knowlegde about $g$ before we see any data?\n",
    "Assume that it is adequately captured by:\n",
    "$$\n",
    "g | g_0, s_0 \\sim N(g_0, s_0^2),\n",
    "$$\n",
    "with known $g_0 = 10$, $s_0 = 0.4$.\n",
    "\n",
    "The situtation is captured in the following graph:"
   ]
  },
  {
   "cell_type": "code",
   "execution_count": 21,
   "metadata": {},
   "outputs": [
    {
     "data": {
      "image/svg+xml": [
       "<?xml version=\"1.0\" encoding=\"UTF-8\" standalone=\"no\"?>\n",
       "<!DOCTYPE svg PUBLIC \"-//W3C//DTD SVG 1.1//EN\"\n",
       " \"http://www.w3.org/Graphics/SVG/1.1/DTD/svg11.dtd\">\n",
       "<!-- Generated by graphviz version 2.40.1 (20161225.0304)\n",
       " -->\n",
       "<!-- Title: infer_normal_mu Pages: 1 -->\n",
       "<svg width=\"170pt\" height=\"227pt\"\n",
       " viewBox=\"0.00 0.00 170.00 227.00\" xmlns=\"http://www.w3.org/2000/svg\" xmlns:xlink=\"http://www.w3.org/1999/xlink\">\n",
       "<g id=\"graph0\" class=\"graph\" transform=\"scale(1 1) rotate(0) translate(4 223)\">\n",
       "<title>infer_normal_mu</title>\n",
       "<polygon fill=\"#ffffff\" stroke=\"transparent\" points=\"-4,4 -4,-223 166,-223 166,4 -4,4\"/>\n",
       "<g id=\"clust1\" class=\"cluster\">\n",
       "<title>cluster_0</title>\n",
       "<polygon fill=\"none\" stroke=\"#000000\" points=\"28,-8 28,-83 98,-83 98,-8 28,-8\"/>\n",
       "<text text-anchor=\"middle\" x=\"63\" y=\"-15.8\" font-family=\"Times,serif\" font-size=\"14.00\" fill=\"#000000\">n=1,...,N</text>\n",
       "</g>\n",
       "<!-- g -->\n",
       "<g id=\"node1\" class=\"node\">\n",
       "<title>g</title>\n",
       "<ellipse fill=\"none\" stroke=\"#000000\" cx=\"99\" cy=\"-129\" rx=\"27\" ry=\"18\"/>\n",
       "<text text-anchor=\"middle\" x=\"99\" y=\"-125.3\" font-family=\"Times,serif\" font-size=\"14.00\" fill=\"#000000\">g</text>\n",
       "</g>\n",
       "<!-- Xn -->\n",
       "<g id=\"node5\" class=\"node\">\n",
       "<title>Xn</title>\n",
       "<ellipse fill=\"#d3d3d3\" stroke=\"#000000\" cx=\"63\" cy=\"-57\" rx=\"27\" ry=\"18\"/>\n",
       "<text text-anchor=\"start\" x=\"54.5\" y=\"-54.3\" font-family=\"Times,serif\" font-size=\"14.00\" fill=\"#000000\">X</text>\n",
       "<text text-anchor=\"start\" x=\"65.5\" y=\"-54.3\" font-family=\"Times,serif\" baseline-shift=\"sub\" font-size=\"14.00\" fill=\"#000000\">n</text>\n",
       "</g>\n",
       "<!-- g&#45;&gt;Xn -->\n",
       "<g id=\"edge3\" class=\"edge\">\n",
       "<title>g&#45;&gt;Xn</title>\n",
       "<path fill=\"none\" stroke=\"#000000\" d=\"M90.2854,-111.5708C86.0403,-103.0807 80.8464,-92.6929 76.1337,-83.2674\"/>\n",
       "<polygon fill=\"#000000\" stroke=\"#000000\" points=\"79.237,-81.6477 71.6343,-74.2687 72.976,-84.7782 79.237,-81.6477\"/>\n",
       "</g>\n",
       "<!-- g0 -->\n",
       "<g id=\"node2\" class=\"node\">\n",
       "<title>g0</title>\n",
       "<ellipse fill=\"#d3d3d3\" stroke=\"#000000\" cx=\"63\" cy=\"-201\" rx=\"27\" ry=\"18\"/>\n",
       "<text text-anchor=\"start\" x=\"56\" y=\"-198.3\" font-family=\"Times,serif\" font-size=\"14.00\" fill=\"#000000\">g</text>\n",
       "<text text-anchor=\"start\" x=\"64\" y=\"-198.3\" font-family=\"Times,serif\" baseline-shift=\"sub\" font-size=\"14.00\" fill=\"#000000\">0</text>\n",
       "</g>\n",
       "<!-- g0&#45;&gt;g -->\n",
       "<g id=\"edge1\" class=\"edge\">\n",
       "<title>g0&#45;&gt;g</title>\n",
       "<path fill=\"none\" stroke=\"#000000\" d=\"M71.7146,-183.5708C75.9597,-175.0807 81.1536,-164.6929 85.8663,-155.2674\"/>\n",
       "<polygon fill=\"#000000\" stroke=\"#000000\" points=\"89.024,-156.7782 90.3657,-146.2687 82.763,-153.6477 89.024,-156.7782\"/>\n",
       "</g>\n",
       "<!-- s0 -->\n",
       "<g id=\"node3\" class=\"node\">\n",
       "<title>s0</title>\n",
       "<ellipse fill=\"#d3d3d3\" stroke=\"#000000\" cx=\"135\" cy=\"-201\" rx=\"27\" ry=\"18\"/>\n",
       "<text text-anchor=\"start\" x=\"129\" y=\"-198.3\" font-family=\"Times,serif\" font-size=\"14.00\" fill=\"#000000\">s</text>\n",
       "<text text-anchor=\"start\" x=\"135\" y=\"-198.3\" font-family=\"Times,serif\" baseline-shift=\"sub\" font-size=\"14.00\" fill=\"#000000\">0</text>\n",
       "</g>\n",
       "<!-- s0&#45;&gt;g -->\n",
       "<g id=\"edge2\" class=\"edge\">\n",
       "<title>s0&#45;&gt;g</title>\n",
       "<path fill=\"none\" stroke=\"#000000\" d=\"M126.2854,-183.5708C122.0403,-175.0807 116.8464,-164.6929 112.1337,-155.2674\"/>\n",
       "<polygon fill=\"#000000\" stroke=\"#000000\" points=\"115.237,-153.6477 107.6343,-146.2687 108.976,-156.7782 115.237,-153.6477\"/>\n",
       "</g>\n",
       "<!-- sigma -->\n",
       "<g id=\"node4\" class=\"node\">\n",
       "<title>sigma</title>\n",
       "<ellipse fill=\"#d3d3d3\" stroke=\"#000000\" cx=\"27\" cy=\"-129\" rx=\"27\" ry=\"18\"/>\n",
       "<text text-anchor=\"start\" x=\"23\" y=\"-125.3\" font-family=\"Times,serif\" font-size=\"14.00\" fill=\"#000000\">σ</text>\n",
       "</g>\n",
       "<!-- sigma&#45;&gt;Xn -->\n",
       "<g id=\"edge4\" class=\"edge\">\n",
       "<title>sigma&#45;&gt;Xn</title>\n",
       "<path fill=\"none\" stroke=\"#000000\" d=\"M35.7146,-111.5708C39.9597,-103.0807 45.1536,-92.6929 49.8663,-83.2674\"/>\n",
       "<polygon fill=\"#000000\" stroke=\"#000000\" points=\"53.024,-84.7782 54.3657,-74.2687 46.763,-81.6477 53.024,-84.7782\"/>\n",
       "</g>\n",
       "</g>\n",
       "</svg>\n"
      ],
      "text/plain": [
       "<graphviz.dot.Digraph at 0x1a2075b290>"
      ]
     },
     "execution_count": 21,
     "metadata": {},
     "output_type": "execute_result"
    }
   ],
   "source": [
    "gn = Digraph('infer_normal_mu')\n",
    "gn.node('g')\n",
    "gn.node('g0', label='<g<sub>0</sub>>', style='filled')\n",
    "gn.node('s0', label='<s<sub>0</sub>>', style='filled')\n",
    "gn.edge('g0', 'g')\n",
    "gn.edge('s0', 'g')\n",
    "gn.node('sigma', label='<&sigma;>', style='filled')\n",
    "with gn.subgraph(name='cluster_0') as sg:\n",
    "    sg.node('Xn', label='<X<sub>n</sub>>', style='filled')\n",
    "    sg.attr(label='n=1,...,N')\n",
    "    sg.attr(labelloc='b')\n",
    "gn.edge('g', 'Xn')\n",
    "gn.edge('sigma', 'Xn')\n",
    "gn.render('infer_normal_mu', format='png')\n",
    "gn"
   ]
  },
  {
   "cell_type": "markdown",
   "metadata": {},
   "source": [
    "We can directly condition on the variables that are at edges of the tree, $\\sigma, g_0$ and $s_0$.\n",
    "That is, you can just treat them as constants.\n",
    "The joint probability density of the rest conditioned on these known parameters is (we read it from the graph):\n",
    "$$\n",
    "\\begin{split}\n",
    "p(x_{1:N}, g|\\sigma, g_0, s_0) &=& p(x_{1:N}|g, \\sigma) p(g|g_0, s_0)\\\\\n",
    "&=& \\left(\\prod_{n=1}^Np(x_n|g, \\sigma)\\right) p(g|g_0, s_0)\\\\\n",
    "&=& \\left(\\prod_{n=1}^NN(x_n|g,\\sigma)\\right)N(g|g_0,s_0)\\\\\n",
    "&=& \\left(\\prod_{n=1}^N\\frac{1}{\\sqrt{2\\pi}\\sigma}\\exp\\left\\{-\\frac{(x_n-g)^2}{2\\sigma^2}\\right\\}\\right)\\frac{1}{\\sqrt{2\\pi}s_0}\\exp\\left\\{-\\frac{(g-g_0)^2}{2s_0^2}\\right\\}\\\\\n",
    "&\\propto& \\exp\\left\\{-\\frac{\\sum_{n=1}^N(x_n-g)^2}{2\\sigma^2}-\\frac{(g-g_0)^2}{2s_0^2}\\right\\},\n",
    "\\end{split}\n",
    "$$\n",
    "where we have ignored all proportionality constants for convenience.\n",
    "\n",
    "From Bayes' rule, we have that our posterior state of knowledge:\n",
    "$$\n",
    "\\begin{split}\n",
    "p(g|x_{1:N}, \\sigma, g_0, s_0) &=& \\frac{p(x_{1:N}, g|\\sigma, g_0, s_0)}{p(x_{1:N}|\\sigma, g_0, s_0)}\\\\\n",
    "&\\propto& p(x_{1:N}, g|\\sigma, g_0, s_0)\\\\\n",
    "&\\propto& \\exp\\left\\{-\\frac{\\sum_{n=1}^N(x_n-g)^2}{2\\sigma^2}-\\frac{(g-g_0)^2}{2s_0^2}\\right\\}.\n",
    "\\end{split}\n",
    "$$\n",
    "\n",
    "That's pretty much the answer without the normalization constant.\n",
    "But in this particular case, we can actually match this posterior to a normal distribution by following a technique known as \"completing the square.\"\n",
    "It is straightfoward, but it takes a little bit of algebra.\n",
    "You take whatever is inside the exponentials and you try to form something like $(g-g')^2$ for some $g'$, whatever it turns out to be.\n",
    "Let's try it out (you can lump into an additive \"const\" everything that doesn't depend on $g$):\n",
    "$$\n",
    "\\begin{split}\n",
    "\\frac{\\sum_{n=1}^N(x_n-g)^2}{2\\sigma^2}+\\frac{(g-g_0)^2}{2s_0^2} &=&\n",
    "\\frac{s_0^2 \\sum_{n=1}^N(x_n-g)^2 + \\sigma^2 (g-g_0)^2}{2\\sigma^2s_0^2}\\\\\n",
    "&=& \\frac{s_0^2 N g^2 - 2s_0^2g\\sum_{n=1}^Nx_n + s_0^2\\sum_{n=1}^Nx_n + \\sigma^2 g^2 - 2\\sigma^2 gg_0 + \\sigma^2g_0^2}{2\\sigma^2s_0^2}\\\\\n",
    "&=& \\frac{g^2(s_0^2 N + \\sigma^2) - 2 g (s_0^2\\sum_{n=1}^Nx_n + \\sigma^2 g_0)}{2\\sigma^2s_0^2}+\\text{const}\\\\\n",
    "&=& \\frac{g^2 - 2 g(s_0^2\\sum_{n=1}^Nx_n + \\sigma^2 g_0)(s_0^2 N + \\sigma^2)^{-1}}{2\\sigma^2s_0^2(s_0^2 N + \\sigma^2)^{-1}} + \\text{const}\\\\\n",
    "&=& \\frac{g^2 - 2 g \\frac{1}{\\frac{N}{\\sigma^2} + \\frac{1}{s_0^2}}\\left(\\frac{g_0}{s_0^2} + \\frac{\\sum_{n=1}^Nx_n}{\\sigma^2}\\right)}{2\\left(\\frac{1}{s_0^2} + \\frac{N}{\\sigma^2}\\right)^{-1}} + \\text{const}.\n",
    "\\end{split}\n",
    "$$\n",
    "Ok, it takes a bit more algebra than usual.\n",
    "Now, we put this back into the exponential (with the minus sign in front of it), and we observe that it gives a normal for the posterior:\n",
    "$$\n",
    "p(g|x_{1:N}, \\sigma, g_0, s_0) = N\\left(g\\middle| \\frac{1}{\\frac{N}{\\sigma^2} + \\frac{1}{s_0^2}}\\left(\\frac{g_0}{s_0^2} + \\frac{\\sum_{n=1}^Nx_n}{\\sigma^2}\\right),\n",
    "\\left(\\frac{1}{s_0^2} + \\frac{N}{\\sigma^2}\\right)^{-1}\n",
    "\\right).\n",
    "$$\n",
    "Not very pretty. But it is what it is. Let's experiment with this."
   ]
  },
  {
   "cell_type": "code",
   "execution_count": 17,
   "metadata": {},
   "outputs": [
    {
     "data": {
      "text/plain": [
       "<matplotlib.legend.Legend at 0x1a20a9e9d0>"
      ]
     },
     "execution_count": 17,
     "metadata": {},
     "output_type": "execute_result"
    },
    {
     "data": {
      "image/png": "[encoded data removed]",
      "text/plain": [
       "<Figure size 432x288 with 1 Axes>"
      ]
     },
     "metadata": {
      "needs_background": "light"
     },
     "output_type": "display_data"
    }
   ],
   "source": [
    "# Get the true acceleration of gravity from scipy\n",
    "import scipy.constants\n",
    "g_true = scipy.constants.g\n",
    "# Generate some synthetic data\n",
    "N = 10\n",
    "sigma = 0.2\n",
    "gs = g_true + sigma * np.random.randn(N)\n",
    "fig, ax = plt.subplots()\n",
    "ax.plot(gs, 'o', label='Data')\n",
    "ax.plot(range(N), [g_true] * N, 'r--', label='True $g$')\n",
    "ax.set_xlabel('$n$')\n",
    "ax.set_ylabel('$x_n$')\n",
    "plt.legend(loc='best')"
   ]
  },
  {
   "cell_type": "code",
   "execution_count": 18,
   "metadata": {},
   "outputs": [
    {
     "name": "stdout",
     "output_type": "stream",
     "text": [
      "The posterior of g is N(9.70, (0.06)^2)\n"
     ]
    }
   ],
   "source": [
    "# Our prior state of knowledge\n",
    "g0 = 9.8\n",
    "s0 = 0.2\n",
    "G_prior = st.norm(g0, s0)\n",
    "# We shoed that the posterior for g conditioned on data is a Gaussian with mean\n",
    "gn = 1.0 / (N / sigma ** 2 + 1.0 / s0 ** 2) * (g0 / s0 ** 2 + gs.sum() / sigma ** 2)\n",
    "# And standard deviation\n",
    "sigman = np.sqrt(1.0 / (1.0 / s0 ** 2 + N / sigma ** 2))\n",
    "print('The posterior of g is N({0:1.2f}, ({1:1.2f})^2)'.format(gn, sigman))"
   ]
  },
  {
   "cell_type": "code",
   "execution_count": 19,
   "metadata": {},
   "outputs": [
    {
     "data": {
      "image/png": "[encoded data removed]",
      "text/plain": [
       "<Figure size 432x288 with 1 Axes>"
      ]
     },
     "metadata": {
      "needs_background": "light"
     },
     "output_type": "display_data"
    }
   ],
   "source": [
    "# Let's draw this\n",
    "G_post = st.norm(gn, sigman)\n",
    "fig, ax = plt.subplots()\n",
    "ggs = np.linspace(g0 - 6.0 * s0, g0 + 6.0 * s0, 100)\n",
    "ax.plot(ggs, G_prior.pdf(ggs), label='prior')\n",
    "ax.plot(gs, np.zeros(gs.shape), 'x', label='data')\n",
    "ax.plot(ggs, G_post.pdf(ggs), label='posterior')\n",
    "ax.plot([g_true], [0.0], 'ro', label='True $g$')\n",
    "plt.legend(loc='best');"
   ]
  },
  {
   "cell_type": "code",
   "execution_count": 20,
   "metadata": {},
   "outputs": [
    {
     "name": "stdout",
     "output_type": "stream",
     "text": [
      "g is in [9.58, 9.81] with 95% probability\n"
     ]
    }
   ],
   "source": [
    "# Let's get a predictive interval:\n",
    "g_025 = G_post.ppf(0.025)\n",
    "g_975 = G_post.ppf(0.975)\n",
    "print('g is in [{0:1.2f}, {1:1.2f}] with 95% probability'.format(g_025, g_975))"
   ]
  },
  {
   "cell_type": "markdown",
   "metadata": {},
   "source": [
    "### Questions\n",
    "\n",
    "+ Experiment with the a very wrong prior knowledge, say $g_0 = 5$. Try at least a case where you are wrong but not very sure $s_0 = 1.0$ and a case where you are wrong and very sure $s_0 = 0.01$.\n",
    "In both cases, increase $N$ until you get close enough to the true value of $g$."
   ]
  }
 ],
 "metadata": {
  "anaconda-cloud": {},
  "kernelspec": {
   "display_name": "Python 3",
   "language": "python",
   "name": "python3"
  },
  "language_info": {
   "codemirror_mode": {
    "name": "ipython",
    "version": 3
   },
   "file_extension": ".py",
   "mimetype": "text/x-python",
   "name": "python",
   "nbconvert_exporter": "python",
   "pygments_lexer": "ipython3",
   "version": "3.7.4"
  },
  "latex_envs": {
   "bibliofile": "biblio.bib",
   "cite_by": "apalike",
   "current_citInitial": 1,
   "eqLabelWithNumbers": true,
   "eqNumInitial": 0
  },
  "widgets": {
   "state": {
    "968a18c908c6495081a9936faebe0473": {
     "views": [
      {
       "cell_index": 11
      }
     ]
    }
   },
   "version": "1.2.0"
  }
 },
 "nbformat": 4,
 "nbformat_minor": 2
}
