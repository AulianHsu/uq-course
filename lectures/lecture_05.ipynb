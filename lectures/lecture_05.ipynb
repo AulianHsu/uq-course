{
 "cells": [
  {
   "cell_type": "markdown",
   "metadata": {},
   "source": [
    "# Lecture 5: Introduction to Probability Theory (Part III)"
   ]
  },
  {
   "cell_type": "markdown",
   "metadata": {},
   "source": [
    "## Objectives\n",
    "\n",
    "+ To introduce continuous random variables.\n",
    "+ To introduce the probability denisty function and its properties.\n",
    "+ To introduce the cumulative distribution function and its properties.\n",
    "+ To introduce the expectation of continuous random variables.\n",
    "+ To introduce the concept of predictive intervals.\n",
    "+ To introduce some common continuous distributions.\n",
    "+ To introduce the decision making problem.\n",
    "+ To present some simple analytical examples Bayesian inference."
   ]
  },
  {
   "cell_type": "markdown",
   "metadata": {},
   "source": [
    "## Readings\n",
    "\n",
    "+ These notes."
   ]
  },
  {
   "cell_type": "code",
   "execution_count": 1,
   "metadata": {},
   "outputs": [],
   "source": [
    "%matplotlib inline\n",
    "import matplotlib.pyplot as plt\n",
    "import seaborn as sns\n",
    "sns.set_context('talk')\n",
    "import numpy as np"
   ]
  },
  {
   "cell_type": "markdown",
   "metadata": {},
   "source": [
    "## Something more on probability spaces\n",
    "\n",
    "It turns out that when $\\Omega$ is a continuous space, like $\\mathbb{R}$ for example, it is not possible to take $\\mathcal{F}$ to be all the subsets of $\\Omega$ (you need to take a measure-theoretic probability theory class to understand why this is).\n",
    "However, many \"nice\" subsets of $\\Omega$ are usually in $\\mathcal{F}$.\n",
    "For example, in the case of $\\Omega=\\mathbb{R}$, $\\mathcal{F}$ can include all intervals, and any countable unions and intersections of intervals.\n",
    "That's a lot of sets.\n",
    "\n",
    "In any case, $\\mathcal{F}$ must satisfy certain properties for everything to be well-defined.\n",
    "These properties are:\n",
    "+ $\\Omega \\in \\mathcal{F}$\n",
    "+ For any $A$ in $\\mathcal{F}$, the complement $A^c$ is in $\\mathcal{F}$.\n",
    "+ For any $A_1,A_2,\\dots$ in $\\mathcal{F}$, the union $\\cup_n A_n$ is in $\\mathcal{F}$.\n",
    "When a set of subsets $\\mathcal{F}$ satisfies these properties, we say that it forms a $\\sigma$-algebra."
   ]
  },
  {
   "cell_type": "markdown",
   "metadata": {},
   "source": [
    "## Continuous random variables\n",
    "\n",
    "Consider a probability space $(\\Omega, \\mathcal{F}, \\mathbb{P})$.\n",
    "A continuous random variable models the result of an experiment that can potentially take infinitely many values.\n",
    "That is, it is a function\n",
    "$$\n",
    "X:\\Omega \\rightarrow \\mathbb{R}.\n",
    "$$"
   ]
  },
  {
   "cell_type": "markdown",
   "metadata": {},
   "source": [
    "## The cumulative distribution function\n",
    "\n",
    "Let $X$ be a continuous random variable.\n",
    "Its cumulative distribution function (CDF) $F_X(x)$ gives the probability that $X$ is smaller than $x$:\n",
    "$$\n",
    "F_X(x) := \\mathbb{P}(X\\le x) = \\mathbb{P}\\left(\\left\\{\\omega: X(\\omega) \\le x\\right\\}\\right).\n",
    "$$\n",
    "\n",
    "### Properties of the cumulative distribution function\n",
    "\n",
    "+ $F_X(x)$ is an increasing function.\n",
    "+ $F_X(-\\infty) = 0$.\n",
    "+ $F_X(+\\infty) = 1$.\n",
    "+ $\\mathbb{P}(a\\le X \\le b) = F_X(b) - F_X(a)$."
   ]
  },
  {
   "cell_type": "markdown",
   "metadata": {},
   "source": [
    "## The probability density function\n",
    "\n",
    "The probability density function (PDF) is a \"function\" $f_X(x)$ that can give us the probability that $X$ is in any \"good\" subset $A$ of $\\mathbb{R}$ as follows:\n",
    "$$\n",
    "\\mathbb{P}(X\\in A) = \\int_A f_X(x) dx.\n",
    "$$\n",
    "Note that certain random variables may not have a PDF that is a function.\n",
    "That's why I put the word \"function\" in quotes.\n",
    "However, if you allow the PDF to include Dirac's $\\delta$, then any random variable has a PDF.\n",
    "We will ignore this complication for the moment.\n",
    "\n",
    "In this class, we will simplify the notation and we will be writing:\n",
    "$$\n",
    "p(x) \\equiv f_X(x),\n",
    "$$\n",
    "when there is no ambiguity.\n",
    "\n",
    "### Properties of the probability density function\n",
    "+ $p(x) \\ge 0$ for all $x$.\n",
    "+ $\\int_{-\\infty}^{\\infty} p(x) dx = 1$.\n",
    "+ The derivative of the CDF is the PDF, i.e., $F_X'(x) = p(x)$.\n",
    "\n",
    "### Dirac's delta and a unified view of all random variables\n",
    "\n",
    "Dirac's $\\delta$ is a special function, actually called a distribution, which is defined as follows:\n",
    "$$\n",
    "\\delta(x) = 0,\n",
    "$$\n",
    "for $x\\not=0$, and\n",
    "$$\n",
    "\\int_{-\\infty}^\\infty \\delta(x) dx = 0\n",
    "$$\n",
    "You can think of Dirac's $\\delta$ as the PDF of a discrete random variable that takes the value $0$ with probability one.\n",
    "\n",
    "Using Dirac's $\\delta$ you can make any discrete random variable you want look like a continuous random variable.\n",
    "For example, consider a Categorical random variable taking values $x_1,\\dots,x_K$ with probabilities $p_1,\\dots,p_k$.\n",
    "The PDF of this random variable can be written as:\n",
    "$$\n",
    "p(x) = \\sum_{k=1}^Kp_k\\delta(x - x_k).\n",
    "$$\n",
    "\n",
    "The most general random variable one can think of has a PDF that consists of two parts:\n",
    "$$\n",
    "p(x) = f^n_X(x) + f^{\\delta}_X(x),\n",
    "$$\n",
    "a part $f^n_X(x)$ that is a nice proper function and a part $f^{\\delta}_X(x)$ that consists of a weighted sum of Dirac $\\delta$'s. "
   ]
  },
  {
   "cell_type": "markdown",
   "metadata": {},
   "source": [
    "## Expectations of continuous random variables\n",
    "\n",
    "The expectation of a continuous random variable is:\n",
    "$$\n",
    "\\mathbb{E}[X] = \\int_{-\\infty}^\\infty x p(x)dx.\n",
    "$$\n",
    "Its properties are the same as the expectation of a discrete random variable.\n",
    "\n",
    "The expectation of a function of the random variable is:\n",
    "$$\n",
    "\\mathbb{E}[f(X)] = \\int_{-\\infty}^\\infty f(x)p(x)dx.\n",
    "$$\n",
    "\n",
    "In general, using the Dirac $\\delta$ trick we introduced above, there is no need to differentiate between integrations and summations.\n",
    "We can use integration for both continuous and discrete random variables."
   ]
  },
  {
   "cell_type": "markdown",
   "metadata": {},
   "source": [
    "## Example: The uniform distribution\n",
    "\n",
    "The uniform distribution is the most common continuous distribution.\n",
    "It corresponds to a random variable that is equally likely to take a value within a given interval.\n",
    "We write:\n",
    "$$\n",
    "X\\sim U([0,1]),\n",
    "$$\n",
    "and we read $X$ follows a uniform distribution taking values in $[0,1]$.\n",
    "\n",
    "The probability density of the uniform is constant in $[0,1]$ and zero outside it.\n",
    "We have:\n",
    "$$\n",
    "p(x) := U(x|[0,1]) := f_X(x) = \\begin{cases}\n",
    "1,&\\;0\\le x \\le 1,\\\\\n",
    "0,&\\;\\text{otherwise}.\n",
    "\\end{cases}\n",
    "$$\n",
    "\n",
    "The cumulative distribution funciton of the uniform is:\n",
    "$$\n",
    "F_X(x) = \\mathbb{P}(X \\le x) = \\int_0^x f_X(u) du = \\int_0^x du = x.\n",
    "$$\n",
    "\n",
    "$$\n",
    "\\mathbb{P}(a \\le X \\le b) = F_X(b) - F_X(a) = b - a.\n",
    "$$\n",
    "\n",
    "The expectation of the uniform is:\n",
    "$$\n",
    "\\mathbb{E}[X] = \\int_0^1 xdx = \\frac{1}{2}.\n",
    "$$\n",
    "\n",
    "The variance of the uniform is:\n",
    "$$\n",
    "\\mathbb{V}[X] = \\mathbb{E}[X^2] - \\left(\\mathbb{E}[X]\\right)^2 = \\frac{1}{3} - \\frac{1}{4} = \\frac{1}{12}.\n",
    "$$"
   ]
  },
  {
   "cell_type": "code",
   "execution_count": 3,
   "metadata": {},
   "outputs": [
    {
     "data": {
      "text/plain": [
       "array([0.48541011, 0.19491354, 0.01326862, 0.84918785, 0.05411374,\n",
       "       0.90270635, 0.30053056, 0.87220472, 0.66124251, 0.34571926,\n",
       "       0.95719875, 0.38560632, 0.48104254, 0.62553171, 0.30588473,\n",
       "       0.31952905, 0.17190278, 0.00859485, 0.72507518, 0.48287465,\n",
       "       0.52368367, 0.54475425, 0.84156979, 0.25640726, 0.92665852,\n",
       "       0.45013288, 0.53749429, 0.06732422, 0.29001713, 0.80036111,\n",
       "       0.61949861, 0.25879234, 0.40204497, 0.38790557, 0.01972949,\n",
       "       0.60274776, 0.41918448, 0.56723854, 0.60859424, 0.95290432,\n",
       "       0.69063769, 0.82769037, 0.12362039, 0.90922296, 0.65634192,\n",
       "       0.73503125, 0.91496137, 0.46148802, 0.15774715, 0.49864968,\n",
       "       0.09561256, 0.15665579, 0.43932732, 0.36141641, 0.87642648,\n",
       "       0.88366511, 0.923708  , 0.63523466, 0.75950649, 0.14745477,\n",
       "       0.36029777, 0.82782874, 0.03730241, 0.94837195, 0.44314113,\n",
       "       0.06384961, 0.72368005, 0.76189771, 0.2464923 , 0.92405851,\n",
       "       0.55135569, 0.83037037, 0.42504809, 0.19448514, 0.00497649,\n",
       "       0.4792572 , 0.25444201, 0.45855363, 0.46556957, 0.23650013,\n",
       "       0.17329437, 0.3869001 , 0.63672143, 0.01157571, 0.3896356 ,\n",
       "       0.19539547, 0.06761789, 0.01035567, 0.48760554, 0.26276233,\n",
       "       0.0249415 , 0.93591944, 0.70034517, 0.30986986, 0.03710343,\n",
       "       0.56680453, 0.3941271 , 0.25641969, 0.67729638, 0.70960711])"
      ]
     },
     "execution_count": 3,
     "metadata": {},
     "output_type": "execute_result"
    }
   ],
   "source": [
    "# Let's demonstrate how you can sample from the uniform\n",
    "import scipy.stats as st\n",
    "X = st.uniform()\n",
    "X.rvs(size=100)"
   ]
  },
  {
   "cell_type": "code",
   "execution_count": 5,
   "metadata": {},
   "outputs": [
    {
     "data": {
      "text/plain": [
       "array([0.42345264, 0.78472323, 0.94907163, 0.18536669, 0.58761926,\n",
       "       0.6768103 , 0.46049774, 0.25868457, 0.67028216, 0.35694514,\n",
       "       0.28795829, 0.6181653 , 0.59556756, 0.96451353, 0.09437851,\n",
       "       0.27400079, 0.40214666, 0.5445171 , 0.04779865, 0.04346887,\n",
       "       0.59918228, 0.38213846, 0.14796527, 0.50471697, 0.31108051,\n",
       "       0.07691621, 0.80352113, 0.82472441, 0.46710957, 0.4663482 ,\n",
       "       0.98358508, 0.80949238, 0.14559196, 0.03729061, 0.29169807,\n",
       "       0.89196098, 0.02563338, 0.00988212, 0.14153273, 0.58353462,\n",
       "       0.30196237, 0.02728981, 0.53525502, 0.54673161, 0.64152396,\n",
       "       0.79506266, 0.75005316, 0.94516783, 0.5371313 , 0.43225673,\n",
       "       0.24016477, 0.19700003, 0.3692521 , 0.33326509, 0.46633913,\n",
       "       0.22428562, 0.10921872, 0.36171024, 0.2424758 , 0.36736916,\n",
       "       0.27281905, 0.21405382, 0.52816573, 0.05817216, 0.69142297,\n",
       "       0.7306717 , 0.24232871, 0.52169881, 0.12833111, 0.9240211 ,\n",
       "       0.49825496, 0.56026484, 0.66750119, 0.18106851, 0.8109772 ,\n",
       "       0.14205156, 0.92883066, 0.08410163, 0.36375272, 0.8131447 ,\n",
       "       0.60399189, 0.68651535, 0.97412258, 0.24932031, 0.06374922,\n",
       "       0.26391829, 0.88237946, 0.43847779, 0.74521975, 0.69519745,\n",
       "       0.97335473, 0.55763305, 0.26066716, 0.73370246, 0.24184094,\n",
       "       0.51014712, 0.94141876, 0.63109398, 0.96990603, 0.87513766])"
      ]
     },
     "execution_count": 5,
     "metadata": {},
     "output_type": "execute_result"
    }
   ],
   "source": [
    "# An alternative way is to use the functionality of numpy\n",
    "np.random.rand(100)"
   ]
  },
  {
   "cell_type": "markdown",
   "metadata": {},
   "source": [
    "### Questions\n",
    "\n",
    "+ Modify the code above so that you sample from a uniform distribution taking values in $[2, 5]$?"
   ]
  },
  {
   "cell_type": "markdown",
   "metadata": {},
   "source": [
    "## Joint probability density\n",
    "\n",
    "Let $X$ and $Y$ be two random variables.\n",
    "There joint probability density $f_{X,Y}(x,y)$ is the function that can give us the probability that the pair $(X,Y)$ belongs to any \"good\" subset $A$ of $\\mathbb{R}^2$ as follows:\n",
    "$$\n",
    "\\mathbb{P}\\left((X,Y)\\in A\\right) = \\int\\int_{A} f_{X,Y}(x,y)dxdy.\n",
    "$$\n",
    "Of course, we will be writing:\n",
    "$$\n",
    "p(x,y) := f_{X,Y}(x,y),\n",
    "$$\n",
    "when there is no ambiguity.\n",
    "\n",
    "If you integrate one of the variables out of the joint, you get the PDF of the other variable.\n",
    "For example:\n",
    "$$\n",
    "p(x) = \\int_{-\\infty}^\\infty p(x,y) dy,\n",
    "$$\n",
    "and\n",
    "$$\n",
    "p(y) = \\int_{-\\infty}^\\infty p(x, y) dx.\n",
    "$$\n",
    "\n",
    "For many random variables $X_1,\\dots,X_N$ their joint PDF $p(x_1,\\dot,x_N)$ is similarly defined.\n",
    "Again, integrating out some variables gives the pdf of the others."
   ]
  },
  {
   "cell_type": "markdown",
   "metadata": {},
   "source": [
    "## Conditioning a random variable on another\n",
    "\n",
    "Consider two random variables $X$ and $Y$.\n",
    "If we had observed that $Y=y$, how would this change the PDF of $X$?\n",
    "The answer is given via Bayes' rule.\n",
    "The PDF of $X$ conditioned on $Y=y$ is:\n",
    "$$\n",
    "p(x|y) = \\frac{p(x,y)}{p(y)}.\n",
    "$$"
   ]
  },
  {
   "cell_type": "markdown",
   "metadata": {},
   "source": [
    "## Example: Inferring the probability of a coin toss from data (1/4)\n",
    "\n",
    "This is our first Bayesian inference example!\n",
    "\n",
    "Let's say that we run a coin toss experiment $N$ times and we wish to figure out the probability of heads.\n",
    "We will bring into the picture all the mathematical machinary we have introduced so far.\n",
    "Let's say that the data we have observe are $x_1,\\dots,x_N$.\n",
    "For notational convenience we will be writing:\n",
    "$$\n",
    "x_{1:N} := (x_1,\\dots,x_N).\n",
    "$$\n",
    "\n",
    "First, let's start with the probability of success of the coin toss.\n",
    "Let's call it $\\theta$.\n",
    "How can we describe our uncertainty about it?\n",
    "We have to assign a *prior* probability distribution on it.\n",
    "Let's say that we don't know anything about it except that it must be between 0 and 1.\n",
    "What distribution should we assign?\n",
    "Of course, a uniform distribution:\n",
    "$$\n",
    "\\theta \\sim U([0,1]).\n",
    "$$\n",
    "Second, each coin toss experiment corresponds to an independent Bernoulli variable with the same probability of success $\\theta$.\n",
    "We write:\n",
    "$$\n",
    "X_n | \\theta \\sim \\operatorname{Bernoulli}(\\theta),\n",
    "$$\n",
    "for $n=1,\\dots,N$.\n",
    "Note that these random variables depend on $\\theta$.\n",
    "That's why we are conditioning like this.\n",
    "\n",
    "Before proceeding with the mathematics, let's draw the graph."
   ]
  },
  {
   "cell_type": "code",
   "execution_count": 11,
   "metadata": {},
   "outputs": [
    {
     "data": {
      "image/svg+xml": [
       "<?xml version=\"1.0\" encoding=\"UTF-8\" standalone=\"no\"?>\n",
       "<!DOCTYPE svg PUBLIC \"-//W3C//DTD SVG 1.1//EN\"\n",
       " \"http://www.w3.org/Graphics/SVG/1.1/DTD/svg11.dtd\">\n",
       "<!-- Generated by graphviz version 2.40.1 (20161225.0304)\n",
       " -->\n",
       "<!-- Title: coin_toss_bayes_1 Pages: 1 -->\n",
       "<svg width=\"62pt\" height=\"116pt\"\n",
       " viewBox=\"0.00 0.00 62.00 116.00\" xmlns=\"http://www.w3.org/2000/svg\" xmlns:xlink=\"http://www.w3.org/1999/xlink\">\n",
       "<g id=\"graph0\" class=\"graph\" transform=\"scale(1 1) rotate(0) translate(4 112)\">\n",
       "<title>coin_toss_bayes_1</title>\n",
       "<polygon fill=\"#ffffff\" stroke=\"transparent\" points=\"-4,4 -4,-112 58,-112 58,4 -4,4\"/>\n",
       "<!-- theta -->\n",
       "<g id=\"node1\" class=\"node\">\n",
       "<title>theta</title>\n",
       "<ellipse fill=\"none\" stroke=\"#000000\" cx=\"27\" cy=\"-90\" rx=\"27\" ry=\"18\"/>\n",
       "<text text-anchor=\"start\" x=\"23\" y=\"-86.3\" font-family=\"Times,serif\" font-size=\"14.00\" fill=\"#000000\">θ</text>\n",
       "</g>\n",
       "<!-- X1 -->\n",
       "<g id=\"node2\" class=\"node\">\n",
       "<title>X1</title>\n",
       "<ellipse fill=\"#d3d3d3\" stroke=\"#000000\" cx=\"27\" cy=\"-18\" rx=\"27\" ry=\"18\"/>\n",
       "<text text-anchor=\"start\" x=\"18.5\" y=\"-15.3\" font-family=\"Times,serif\" font-size=\"14.00\" fill=\"#000000\">X</text>\n",
       "<text text-anchor=\"start\" x=\"29.5\" y=\"-15.3\" font-family=\"Times,serif\" baseline-shift=\"sub\" font-size=\"14.00\" fill=\"#000000\">1</text>\n",
       "</g>\n",
       "<!-- theta&#45;&gt;X1 -->\n",
       "<g id=\"edge1\" class=\"edge\">\n",
       "<title>theta&#45;&gt;X1</title>\n",
       "<path fill=\"none\" stroke=\"#000000\" d=\"M27,-71.8314C27,-64.131 27,-54.9743 27,-46.4166\"/>\n",
       "<polygon fill=\"#000000\" stroke=\"#000000\" points=\"30.5001,-46.4132 27,-36.4133 23.5001,-46.4133 30.5001,-46.4132\"/>\n",
       "</g>\n",
       "</g>\n",
       "</svg>\n"
      ],
      "text/plain": [
       "<graphviz.dot.Digraph at 0x1a1e1d8510>"
      ]
     },
     "execution_count": 11,
     "metadata": {},
     "output_type": "execute_result"
    }
   ],
   "source": [
    "# First for one coin toss\n",
    "from graphviz import Digraph\n",
    "gc = Digraph('coin_toss_bayes_1')\n",
    "gc.node('theta', label='<&theta;>')\n",
    "gc.node('X1', label='<X<sub>1</sub>>', style='filled')\n",
    "gc.edge('theta', 'X1')\n",
    "gc"
   ]
  },
  {
   "cell_type": "code",
   "execution_count": 12,
   "metadata": {},
   "outputs": [
    {
     "data": {
      "image/svg+xml": [
       "<?xml version=\"1.0\" encoding=\"UTF-8\" standalone=\"no\"?>\n",
       "<!DOCTYPE svg PUBLIC \"-//W3C//DTD SVG 1.1//EN\"\n",
       " \"http://www.w3.org/Graphics/SVG/1.1/DTD/svg11.dtd\">\n",
       "<!-- Generated by graphviz version 2.40.1 (20161225.0304)\n",
       " -->\n",
       "<!-- Title: coin_toss_bayes_2 Pages: 1 -->\n",
       "<svg width=\"134pt\" height=\"116pt\"\n",
       " viewBox=\"0.00 0.00 134.00 116.00\" xmlns=\"http://www.w3.org/2000/svg\" xmlns:xlink=\"http://www.w3.org/1999/xlink\">\n",
       "<g id=\"graph0\" class=\"graph\" transform=\"scale(1 1) rotate(0) translate(4 112)\">\n",
       "<title>coin_toss_bayes_2</title>\n",
       "<polygon fill=\"#ffffff\" stroke=\"transparent\" points=\"-4,4 -4,-112 130,-112 130,4 -4,4\"/>\n",
       "<!-- theta -->\n",
       "<g id=\"node1\" class=\"node\">\n",
       "<title>theta</title>\n",
       "<ellipse fill=\"none\" stroke=\"#000000\" cx=\"63\" cy=\"-90\" rx=\"27\" ry=\"18\"/>\n",
       "<text text-anchor=\"start\" x=\"59\" y=\"-86.3\" font-family=\"Times,serif\" font-size=\"14.00\" fill=\"#000000\">θ</text>\n",
       "</g>\n",
       "<!-- X1 -->\n",
       "<g id=\"node2\" class=\"node\">\n",
       "<title>X1</title>\n",
       "<ellipse fill=\"#d3d3d3\" stroke=\"#000000\" cx=\"27\" cy=\"-18\" rx=\"27\" ry=\"18\"/>\n",
       "<text text-anchor=\"start\" x=\"18.5\" y=\"-15.3\" font-family=\"Times,serif\" font-size=\"14.00\" fill=\"#000000\">X</text>\n",
       "<text text-anchor=\"start\" x=\"29.5\" y=\"-15.3\" font-family=\"Times,serif\" baseline-shift=\"sub\" font-size=\"14.00\" fill=\"#000000\">1</text>\n",
       "</g>\n",
       "<!-- theta&#45;&gt;X1 -->\n",
       "<g id=\"edge1\" class=\"edge\">\n",
       "<title>theta&#45;&gt;X1</title>\n",
       "<path fill=\"none\" stroke=\"#000000\" d=\"M54.2854,-72.5708C50.0403,-64.0807 44.8464,-53.6929 40.1337,-44.2674\"/>\n",
       "<polygon fill=\"#000000\" stroke=\"#000000\" points=\"43.237,-42.6477 35.6343,-35.2687 36.976,-45.7782 43.237,-42.6477\"/>\n",
       "</g>\n",
       "<!-- X2 -->\n",
       "<g id=\"node3\" class=\"node\">\n",
       "<title>X2</title>\n",
       "<ellipse fill=\"#d3d3d3\" stroke=\"#000000\" cx=\"99\" cy=\"-18\" rx=\"27\" ry=\"18\"/>\n",
       "<text text-anchor=\"start\" x=\"90.5\" y=\"-15.3\" font-family=\"Times,serif\" font-size=\"14.00\" fill=\"#000000\">X</text>\n",
       "<text text-anchor=\"start\" x=\"101.5\" y=\"-15.3\" font-family=\"Times,serif\" baseline-shift=\"sub\" font-size=\"14.00\" fill=\"#000000\">2</text>\n",
       "</g>\n",
       "<!-- theta&#45;&gt;X2 -->\n",
       "<g id=\"edge2\" class=\"edge\">\n",
       "<title>theta&#45;&gt;X2</title>\n",
       "<path fill=\"none\" stroke=\"#000000\" d=\"M71.7146,-72.5708C75.9597,-64.0807 81.1536,-53.6929 85.8663,-44.2674\"/>\n",
       "<polygon fill=\"#000000\" stroke=\"#000000\" points=\"89.024,-45.7782 90.3657,-35.2687 82.763,-42.6477 89.024,-45.7782\"/>\n",
       "</g>\n",
       "</g>\n",
       "</svg>\n"
      ],
      "text/plain": [
       "<graphviz.dot.Digraph at 0x1a1e1d8b10>"
      ]
     },
     "execution_count": 12,
     "metadata": {},
     "output_type": "execute_result"
    }
   ],
   "source": [
    "# Now for two coin tosses\n",
    "gc2 = Digraph('coin_toss_bayes_2')\n",
    "gc2.node('theta', label='<&theta;>')\n",
    "gc2.node('X1', label='<X<sub>1</sub>>', style='filled')\n",
    "gc2.node('X2', label='<X<sub>2</sub>>', style='filled')\n",
    "gc2.edge('theta', 'X1')\n",
    "gc2.edge('theta', 'X2')\n",
    "gc2"
   ]
  },
  {
   "cell_type": "code",
   "execution_count": 13,
   "metadata": {},
   "outputs": [
    {
     "data": {
      "image/svg+xml": [
       "<?xml version=\"1.0\" encoding=\"UTF-8\" standalone=\"no\"?>\n",
       "<!DOCTYPE svg PUBLIC \"-//W3C//DTD SVG 1.1//EN\"\n",
       " \"http://www.w3.org/Graphics/SVG/1.1/DTD/svg11.dtd\">\n",
       "<!-- Generated by graphviz version 2.40.1 (20161225.0304)\n",
       " -->\n",
       "<!-- Title: coin_toss_bayes_3 Pages: 1 -->\n",
       "<svg width=\"206pt\" height=\"116pt\"\n",
       " viewBox=\"0.00 0.00 206.00 116.00\" xmlns=\"http://www.w3.org/2000/svg\" xmlns:xlink=\"http://www.w3.org/1999/xlink\">\n",
       "<g id=\"graph0\" class=\"graph\" transform=\"scale(1 1) rotate(0) translate(4 112)\">\n",
       "<title>coin_toss_bayes_3</title>\n",
       "<polygon fill=\"#ffffff\" stroke=\"transparent\" points=\"-4,4 -4,-112 202,-112 202,4 -4,4\"/>\n",
       "<!-- theta -->\n",
       "<g id=\"node1\" class=\"node\">\n",
       "<title>theta</title>\n",
       "<ellipse fill=\"none\" stroke=\"#000000\" cx=\"99\" cy=\"-90\" rx=\"27\" ry=\"18\"/>\n",
       "<text text-anchor=\"start\" x=\"95\" y=\"-86.3\" font-family=\"Times,serif\" font-size=\"14.00\" fill=\"#000000\">θ</text>\n",
       "</g>\n",
       "<!-- X1 -->\n",
       "<g id=\"node2\" class=\"node\">\n",
       "<title>X1</title>\n",
       "<ellipse fill=\"#d3d3d3\" stroke=\"#000000\" cx=\"27\" cy=\"-18\" rx=\"27\" ry=\"18\"/>\n",
       "<text text-anchor=\"start\" x=\"18.5\" y=\"-15.3\" font-family=\"Times,serif\" font-size=\"14.00\" fill=\"#000000\">X</text>\n",
       "<text text-anchor=\"start\" x=\"29.5\" y=\"-15.3\" font-family=\"Times,serif\" baseline-shift=\"sub\" font-size=\"14.00\" fill=\"#000000\">1</text>\n",
       "</g>\n",
       "<!-- theta&#45;&gt;X1 -->\n",
       "<g id=\"edge1\" class=\"edge\">\n",
       "<title>theta&#45;&gt;X1</title>\n",
       "<path fill=\"none\" stroke=\"#000000\" d=\"M83.7307,-74.7307C73.803,-64.803 60.6847,-51.6847 49.5637,-40.5637\"/>\n",
       "<polygon fill=\"#000000\" stroke=\"#000000\" points=\"51.7933,-37.8436 42.2473,-33.2473 46.8436,-42.7933 51.7933,-37.8436\"/>\n",
       "</g>\n",
       "<!-- X2 -->\n",
       "<g id=\"node3\" class=\"node\">\n",
       "<title>X2</title>\n",
       "<ellipse fill=\"#d3d3d3\" stroke=\"#000000\" cx=\"99\" cy=\"-18\" rx=\"27\" ry=\"18\"/>\n",
       "<text text-anchor=\"start\" x=\"90.5\" y=\"-15.3\" font-family=\"Times,serif\" font-size=\"14.00\" fill=\"#000000\">X</text>\n",
       "<text text-anchor=\"start\" x=\"101.5\" y=\"-15.3\" font-family=\"Times,serif\" baseline-shift=\"sub\" font-size=\"14.00\" fill=\"#000000\">2</text>\n",
       "</g>\n",
       "<!-- theta&#45;&gt;X2 -->\n",
       "<g id=\"edge2\" class=\"edge\">\n",
       "<title>theta&#45;&gt;X2</title>\n",
       "<path fill=\"none\" stroke=\"#000000\" d=\"M99,-71.8314C99,-64.131 99,-54.9743 99,-46.4166\"/>\n",
       "<polygon fill=\"#000000\" stroke=\"#000000\" points=\"102.5001,-46.4132 99,-36.4133 95.5001,-46.4133 102.5001,-46.4132\"/>\n",
       "</g>\n",
       "<!-- X3 -->\n",
       "<g id=\"node4\" class=\"node\">\n",
       "<title>X3</title>\n",
       "<ellipse fill=\"#d3d3d3\" stroke=\"#000000\" cx=\"171\" cy=\"-18\" rx=\"27\" ry=\"18\"/>\n",
       "<text text-anchor=\"start\" x=\"162.5\" y=\"-15.3\" font-family=\"Times,serif\" font-size=\"14.00\" fill=\"#000000\">X</text>\n",
       "<text text-anchor=\"start\" x=\"173.5\" y=\"-15.3\" font-family=\"Times,serif\" baseline-shift=\"sub\" font-size=\"14.00\" fill=\"#000000\">3</text>\n",
       "</g>\n",
       "<!-- theta&#45;&gt;X3 -->\n",
       "<g id=\"edge3\" class=\"edge\">\n",
       "<title>theta&#45;&gt;X3</title>\n",
       "<path fill=\"none\" stroke=\"#000000\" d=\"M114.2693,-74.7307C124.197,-64.803 137.3153,-51.6847 148.4363,-40.5637\"/>\n",
       "<polygon fill=\"#000000\" stroke=\"#000000\" points=\"151.1564,-42.7933 155.7527,-33.2473 146.2067,-37.8436 151.1564,-42.7933\"/>\n",
       "</g>\n",
       "</g>\n",
       "</svg>\n"
      ],
      "text/plain": [
       "<graphviz.dot.Digraph at 0x1a1e1da550>"
      ]
     },
     "execution_count": 13,
     "metadata": {},
     "output_type": "execute_result"
    }
   ],
   "source": [
    "# Now for three coin tosses\n",
    "gc3 = Digraph('coin_toss_bayes_3')\n",
    "gc3.node('theta', label='<&theta;>')\n",
    "gc3.node('X1', label='<X<sub>1</sub>>', style='filled')\n",
    "gc3.node('X2', label='<X<sub>2</sub>>', style='filled')\n",
    "gc3.node('X3', label='<X<sub>3</sub>>', style='filled')\n",
    "gc3.edge('theta', 'X1')\n",
    "gc3.edge('theta', 'X2')\n",
    "gc3.edge('theta', 'X3')\n",
    "gc3"
   ]
  },
  {
   "cell_type": "markdown",
   "metadata": {},
   "source": [
    "Because this notation gets a little bit too involved, we introduce the so called [plate notation](https://en.wikipedia.org/wiki/Plate_notation).\n",
    "Whategver is inside the subgrpah indicated by the box is supposed to be repeated as many times as indicated:"
   ]
  },
  {
   "cell_type": "code",
   "execution_count": 76,
   "metadata": {},
   "outputs": [
    {
     "data": {
      "image/svg+xml": [
       "<?xml version=\"1.0\" encoding=\"UTF-8\" standalone=\"no\"?>\n",
       "<!DOCTYPE svg PUBLIC \"-//W3C//DTD SVG 1.1//EN\"\n",
       " \"http://www.w3.org/Graphics/SVG/1.1/DTD/svg11.dtd\">\n",
       "<!-- Generated by graphviz version 2.40.1 (20161225.0304)\n",
       " -->\n",
       "<!-- Title: coin_toss_bayes_plate Pages: 1 -->\n",
       "<svg width=\"94pt\" height=\"155pt\"\n",
       " viewBox=\"0.00 0.00 94.00 155.00\" xmlns=\"http://www.w3.org/2000/svg\" xmlns:xlink=\"http://www.w3.org/1999/xlink\">\n",
       "<g id=\"graph0\" class=\"graph\" transform=\"scale(1 1) rotate(0) translate(4 151)\">\n",
       "<title>coin_toss_bayes_plate</title>\n",
       "<polygon fill=\"#ffffff\" stroke=\"transparent\" points=\"-4,4 -4,-151 90,-151 90,4 -4,4\"/>\n",
       "<g id=\"clust1\" class=\"cluster\">\n",
       "<title>cluster_0</title>\n",
       "<polygon fill=\"none\" stroke=\"#000000\" points=\"8,-8 8,-83 78,-83 78,-8 8,-8\"/>\n",
       "<text text-anchor=\"middle\" x=\"43\" y=\"-15.8\" font-family=\"Times,serif\" font-size=\"14.00\" fill=\"#000000\">n=1,...,N</text>\n",
       "</g>\n",
       "<!-- theta -->\n",
       "<g id=\"node1\" class=\"node\">\n",
       "<title>theta</title>\n",
       "<ellipse fill=\"none\" stroke=\"#000000\" cx=\"43\" cy=\"-129\" rx=\"27\" ry=\"18\"/>\n",
       "<text text-anchor=\"start\" x=\"39\" y=\"-125.3\" font-family=\"Times,serif\" font-size=\"14.00\" fill=\"#000000\">θ</text>\n",
       "</g>\n",
       "<!-- Xn -->\n",
       "<g id=\"node2\" class=\"node\">\n",
       "<title>Xn</title>\n",
       "<ellipse fill=\"#d3d3d3\" stroke=\"#000000\" cx=\"43\" cy=\"-57\" rx=\"27\" ry=\"18\"/>\n",
       "<text text-anchor=\"start\" x=\"34.5\" y=\"-54.3\" font-family=\"Times,serif\" font-size=\"14.00\" fill=\"#000000\">X</text>\n",
       "<text text-anchor=\"start\" x=\"45.5\" y=\"-54.3\" font-family=\"Times,serif\" baseline-shift=\"sub\" font-size=\"14.00\" fill=\"#000000\">n</text>\n",
       "</g>\n",
       "<!-- theta&#45;&gt;Xn -->\n",
       "<g id=\"edge1\" class=\"edge\">\n",
       "<title>theta&#45;&gt;Xn</title>\n",
       "<path fill=\"none\" stroke=\"#000000\" d=\"M43,-110.8314C43,-103.131 43,-93.9743 43,-85.4166\"/>\n",
       "<polygon fill=\"#000000\" stroke=\"#000000\" points=\"46.5001,-85.4132 43,-75.4133 39.5001,-85.4133 46.5001,-85.4132\"/>\n",
       "</g>\n",
       "</g>\n",
       "</svg>\n"
      ],
      "text/plain": [
       "<graphviz.dot.Digraph at 0x1a204eaa10>"
      ]
     },
     "execution_count": 76,
     "metadata": {},
     "output_type": "execute_result"
    }
   ],
   "source": [
    "gcp = Digraph('coin_toss_bayes_plate')\n",
    "gcp.node('theta', label='<&theta;>')\n",
    "with gcp.subgraph(name='cluster_0') as sg:\n",
    "    sg.node('Xn', label='<X<sub>n</sub>>', style='filled')\n",
    "    sg.attr(label='n=1,...,N')\n",
    "    sg.attr(labelloc='b')\n",
    "gcp.edge('theta', 'Xn')\n",
    "gcp"
   ]
  },
  {
   "cell_type": "markdown",
   "metadata": {},
   "source": [
    "To carry out Bayesian inference, we need the joint probability density of all variables.\n",
    "It is:\n",
    "$$\n",
    "p(x_1,\\dots,x_N, \\theta) = p(x_{1:N}|\\theta) p(\\theta) = \\left(\\prod_{n=1}p(x_n|\\theta)\\right)p(\\theta),\n",
    "$$\n",
    "where we first used Bayes' rule and then the fact that the coin tosses are independent.\n",
    "We must find the mathematical form of all these expressions.\n",
    "For $\\theta$, we simply have:\n",
    "$$\n",
    "p(\\theta) = 1_{[0,1]}(\\theta),\n",
    "$$\n",
    "where $1_A(x)$ is the indicator function of $A$, i.e., $1_A(x) = 1$ if $x$ is in $A$ and zero otherwise.\n",
    "For the Bernoulli pmf's we have:\n",
    "$$\n",
    "p(X_n = 1|\\theta) = \\theta,\n",
    "$$\n",
    "and\n",
    "$$\n",
    "p(X_n = 0|\\theta) = 1- \\theta.\n",
    "$$\n",
    "So, in a unified way, we can write:\n",
    "$$\n",
    "p(x_n | \\theta) = \\theta^{x_n}(1-\\theta)^{1-x_n}.\n",
    "$$\n",
    "Now, let's re-write the joint pmf:\n",
    "$$\n",
    "p(x_1,\\dots,x_N, \\theta) = \\theta^{\\sum_{n=1}^Nx_n}(1-\\theta)^{N-\\sum_{n=1}^Nx_n}1_{[0,1]}(\\theta),\n",
    "$$\n",
    "which has a nice interpretation as it depends only on the total number of heads $\\sum_{n=1}^Nx_n$.\n",
    "\n",
    "Now, we are in a position to apply Bayes rule to condition on the data.\n",
    "We have:\n",
    "$$\n",
    "p(\\theta|x_{1:N}) = \\frac{p(x_{1:N},\\theta)}{p(x_{1:N})} \\propto p(x_{1:N}, \\theta) = \\theta^{\\sum_{n=1}^Nx_n}(1-\\theta)^{N-\\sum_{n=1}^Nx_n}1_{[0,1]}(\\theta).\n",
    "$$\n",
    "It may be the first time you encounter this, but we have actually discovered a new distribution called the [Beta distribution](https://en.wikipedia.org/wiki/Beta_distribution).\n",
    "This is what the posterior turns out to be.\n",
    "This is one of the few instances where the posterior is analytically available.\n",
    "We will return to the example, once we introduce the Beta distribution."
   ]
  },
  {
   "cell_type": "markdown",
   "metadata": {},
   "source": [
    "## Example: The Beta distribution\n",
    "\n",
    "The Beta distribution is suitable for random variables that take values in $[0,1]$ but are not necessarily uniform.\n",
    "We write:\n",
    "$$\n",
    "X\\sim \\operatorname{Beta}(\\alpha, \\beta),\n",
    "$$\n",
    "where $\\alpha$ and $\\beta$ are positive shape parameters.\n",
    "The interpretation of the parameters is more or less this:\n",
    "+ The bigger $\\alpha$ is, the more the distribution is pulled towards zero.\n",
    "+ The bigger $\\beta$ is, the more the distribution is pulled towards one.\n",
    "\n",
    "The PDF of the Beta is:\n",
    "$$\n",
    "p(x) = \\frac{x^{\\alpha-1}(1-x)^{\\beta - 1}}{B(\\alpha,\\beta)},\n",
    "$$\n",
    "where\n",
    "$$\n",
    "B(\\alpha,\\beta) = \\frac{\\Gamma(\\alpha)\\Gamma(\\beta)}{\\Gamma(\\alpha+\\beta)},\n",
    "$$\n",
    "where $\\Gamma$ is the [Gamma function](https://en.wikipedia.org/wiki/Gamma_function).\n",
    "It's expectation is:\n",
    "$$\n",
    "\\mathbb{E}[X] = \\frac{\\alpha}{\\alpha + \\beta}.\n",
    "$$"
   ]
  },
  {
   "cell_type": "markdown",
   "metadata": {},
   "source": [
    "## Example: Inferring the probability of a coin toss from data (2/4)\n",
    "\n",
    "Now, that we know about the Beta distribution, we can write for the posterior of $\\theta$:\n",
    "$$\n",
    "p(\\theta|x_{1:N}) = \\operatorname{Beta}\\left(\\theta\\middle|1 + \\sum_{n=1}^Nx_n, 1 + N - \\sum_{n=1}^Nx_n\\right).\n",
    "$$\n",
    "where with $\\operatorname{Beta}(\\theta|\\alpha,\\beta)$ we mean the PDF of the $\\operatorname{Beta}(\\alpha,\\beta)$ evaluated at $\\theta$ (this is a very useful notation).\n",
    "So, we see that the $\\alpha$ parameter is just one plus the number of heads and the $\\beta$ parameter is one plus the number of tails.\n",
    "\n",
    "Let's try this out with some fake data."
   ]
  },
  {
   "cell_type": "code",
   "execution_count": 50,
   "metadata": {},
   "outputs": [
    {
     "data": {
      "text/plain": [
       "<matplotlib.legend.Legend at 0x1a1f7b8090>"
      ]
     },
     "execution_count": 50,
     "metadata": {},
     "output_type": "execute_result"
    },
    {
     "data": {
      "image/png": "[encoded data removed]",
      "text/plain": [
       "<Figure size 432x288 with 1 Axes>"
      ]
     },
     "metadata": {
      "needs_background": "light"
     },
     "output_type": "display_data"
    }
   ],
   "source": [
    "# Take a fake coin which is a little bit biased\n",
    "theta_true = 0.8\n",
    "# This is the random variable corresponding to a coin toss\n",
    "X = st.bernoulli(theta_true)\n",
    "# Sample from it a number of times to generate our data = (x1, ..., xN)\n",
    "N = 100\n",
    "data = X.rvs(size=N)\n",
    "# Now we are ready to calculate the posterior which the Beta we have above\n",
    "alpha = 1.0 + data.sum()\n",
    "beta = 1.0 + N - data.sum()\n",
    "Theta_post = st.beta(alpha, beta)\n",
    "# Now we can plot the posterior PDF for theta\n",
    "fig, ax = plt.subplots()\n",
    "thetas = np.linspace(0, 1, 100)\n",
    "ax.plot([theta_true], [0.0], 'o', markeredgewidth=2, markersize=10, label='True value')\n",
    "ax.plot(thetas, Theta_post.pdf(thetas), label=r'$p(\\theta|x_{1:N})$')\n",
    "ax.set_xlabel(r'$\\theta$')\n",
    "ax.set_title('$N={0:d}$'.format(N))\n",
    "plt.legend(loc='best')"
   ]
  },
  {
   "cell_type": "markdown",
   "metadata": {},
   "source": [
    "### Questions\n",
    "\n",
    "+ Experiment with different values of $\\theta_{\\text{true}}$ and different values of $N$.\n",
    "+ Is the true value always covered by the posterior PDF?"
   ]
  },
  {
   "cell_type": "markdown",
   "metadata": {},
   "source": [
    "## Quantiles of a random variable\n",
    "\n",
    "The posterior $p(\\theta|x_{1:N})$ summarizes everything that we have to say about $\\theta$.\n",
    "It is the complete picture.\n",
    "However, you may be asked to find an interval within which $\\theta$ lies with high accuracy?\n",
    "How do you do that?\n",
    "For this we need the idea of quantiles.\n",
    "\n",
    "Let $X$ be a random variable and $q$ be a number between $0$ and $1$.\n",
    "The $q$-quantile of $X$ is the smaller number $x_q$ such that $X$ is smaller than $x_q$ with probability $q$.\n",
    "Mathematically:\n",
    "$$\n",
    "\\mathbb{P}(X\\le x_q) = q.\n",
    "$$\n",
    "(For the proper mathematical definition we need to use the concept of infimum.)\n",
    "For example, you can find the $2.5\\%$ quantile of a random variable, $x_{0.025}$:\n",
    "$$\n",
    "\\mathbb{P}(X\\le x_{0.025}) = 0.025,\n",
    "$$\n",
    "or the $97.5\\%$ quantile:\n",
    "$$\n",
    "\\mathbb{P}(X\\le x_{0.975}) = 0.975.\n",
    "$$\n",
    "Then you can say that, with 95\\% probability, $X$ lies between $x_{0.025}$ and $x_{0.975}$.\n",
    "The interval $[x_{0.025}, x_{0.975}]$ is called a $95\\%$ predictive interval."
   ]
  },
  {
   "cell_type": "markdown",
   "metadata": {},
   "source": [
    "## Example: Inferring the probability of a coin toss from data (3/4)\n",
    "\n",
    "Let's apply the idea of quantiles to the coin toss example to find a 95\\% predictive interval."
   ]
  },
  {
   "cell_type": "code",
   "execution_count": 48,
   "metadata": {},
   "outputs": [
    {
     "name": "stdout",
     "output_type": "stream",
     "text": [
      "Theta is in [0.83, 0.94] with 95% probability\n"
     ]
    }
   ],
   "source": [
    "theta_low = Theta_post.ppf(0.025) # ppf stands for percent point function\n",
    "theta_up = Theta_post.ppf(0.975)\n",
    "print('Theta is in [{0:1.2f}, {1:1.2f}] with 95% probability'.format(theta_low, theta_up))"
   ]
  },
  {
   "cell_type": "markdown",
   "metadata": {},
   "source": [
    "### Questions\n",
    "+ How many coin tosses do you have to do, in order to estimate $\\theta$ within an accuracy of $1\\%$ with $99\\%$ probability?"
   ]
  },
  {
   "cell_type": "markdown",
   "metadata": {},
   "source": [
    "## The decision making problem\n",
    "\n",
    "So, we learned about predictive intervals.\n",
    "But what if someone asks you to report a single value for $\\theta$ in the coin toss example?\n",
    "What is the correct way of doing this?\n",
    "\n",
    "This is actually a decision-making problem.\n",
    "To answer it, you have to quantify the cost of making a mistake and then make a decision that minimizes this cost.\n",
    "To formalize this concept, assume that we have a random variable $X$ and we have to guess a value for it.\n",
    "Let $\\ell(x, x')$ be the loss we incur when we guess $x$ and the true value is $x'$.\n",
    "This is a completly subjective quantity.\n",
    "However, here are some ideas:\n",
    "+ The square loss:\n",
    "$$\n",
    "\\ell(x,x') = (x-x')^2.\n",
    "$$\n",
    "+ The absolute loss:\n",
    "$$\n",
    "\\ell(x,x') = |x-x'|.\n",
    "$$\n",
    "\n",
    "The rational thing to do, when choosing a value for $x$ is to minimize our *expected loss*, i.e., we make our choice by solving this problem:\n",
    "$$\n",
    "x^* = \\min_x \\mathbb{E}[\\ell(x,X)].\n",
    "$$\n",
    "This, in general, is not a problem with an analytical solution.\n",
    "However, for the two special loss functions above the answer is:\n",
    "+ The choice that minimizes the square loss is the expectation of the random variable:\n",
    "$$\n",
    "x^* = \\mathbb{E}[X].\n",
    "$$\n",
    "+ The choice that minimizes the absolute loss is the median, i.e., $x^*$ is the 50\\% quantile:\n",
    "$$\n",
    "x^* = x_{0.5}.\n",
    "$$"
   ]
  },
  {
   "cell_type": "markdown",
   "metadata": {},
   "source": [
    "## Example: Inferring the probability of a coin toss from data (4/4)\n",
    "\n",
    "Let's pick a $\\theta$ by minimizing the square loss.\n",
    "We just have to find the expectation of the posterior $p(\\theta|x_{1:N})$ (which is just a Beta).\n",
    "It is:\n",
    "$$\n",
    "\\theta^*_N = \\mathbb{E}[\\theta|x_{1:N}] = \\frac{1+\\sum_{n=1}^Nx_n}{1+\\sum_{n=1}^Nx_n + N + 1 - \\sum_{n=1}^Nx_n}\n",
    "= \\frac{1 + \\sum_{n=1}^Nx_n}{N+2}.\n",
    "$$"
   ]
  },
  {
   "cell_type": "code",
   "execution_count": 49,
   "metadata": {},
   "outputs": [
    {
     "name": "stdout",
     "output_type": "stream",
     "text": [
      "E[X] = 0.89\n"
     ]
    }
   ],
   "source": [
    "# In the example we had above:\n",
    "theta_star = Theta_post.expect()\n",
    "print('E[X] = {0:1.2f}'.format(theta_star))"
   ]
  },
  {
   "cell_type": "markdown",
   "metadata": {},
   "source": [
    "### Questions\n",
    "+ Find the 50\\% quantile of $\\theta$ which minimizes the absolute loss."
   ]
  },
  {
   "cell_type": "markdown",
   "metadata": {},
   "source": [
    "## Example: The normal distribution\n",
    "\n",
    "The normal (or Gaussian) distribution is a ubiquitous one.\n",
    "It appears over and over again.\n",
    "There are two explanations as to why it appears so often:\n",
    "\n",
    "+ It is the distribution of maximum uncertainty that matches a known mean and a known variance variance.\n",
    "+ It is the distribution that arises when you add a lot of random variables together.\n",
    "\n",
    "We will learn about both these in the next lectures.\n",
    "\n",
    "We write:\n",
    "$$\n",
    "X | \\mu, \\sigma \\sim N(\\mu, \\sigma),\n",
    "$$\n",
    "and we read \"$X$ conditioned on $\\mu$ and $\\sigma$ follows a normal distribution with mean $\\mu$ and variance $\\sigma^2$.\n",
    "\n",
    "When $\\mu=0$ and $\\sigma^2=1$, we say that we have a *standard normal* distribution.\n",
    "Let\n",
    "$$\n",
    "Z\\sim N(0,1).\n",
    "$$\n",
    "The PDF of the standard normal is:\n",
    "$$\n",
    "\\phi(z) := N(z|0,1) = \\frac{1}{\\sqrt{2\\pi}}\\exp\\left\\{-\\frac{z^2}{2}\\right\\}.\n",
    "$$\n",
    "The CDF of the standard normal is:\n",
    "$$\n",
    "\\Phi(z) := \\mathbb{P}(Z \\le z) = \\int_{-\\infty}^z \\phi(z')dz',\n",
    "$$\n",
    "is not analytically available.\n",
    "However, there are codes that can compute it."
   ]
  },
  {
   "cell_type": "code",
   "execution_count": 60,
   "metadata": {},
   "outputs": [
    {
     "data": {
      "image/png": "[encoded data removed]",
      "text/plain": [
       "<Figure size 432x288 with 1 Axes>"
      ]
     },
     "metadata": {
      "needs_background": "light"
     },
     "output_type": "display_data"
    }
   ],
   "source": [
    "# Here is how you can get the PDF of the standard normal\n",
    "Z = st.norm()\n",
    "fig, ax = plt.subplots()\n",
    "zs = np.linspace(-4.0, 4.0, 100)\n",
    "ax.plot(zs, Z.pdf(zs))\n",
    "ax.set_xlabel('$x$')\n",
    "ax.set_ylabel('$\\phi(x) = N(x|0,1)$');"
   ]
  },
  {
   "cell_type": "code",
   "execution_count": 61,
   "metadata": {},
   "outputs": [
    {
     "data": {
      "image/png": "[encoded data removed]",
      "text/plain": [
       "<Figure size 432x288 with 1 Axes>"
      ]
     },
     "metadata": {
      "needs_background": "light"
     },
     "output_type": "display_data"
    }
   ],
   "source": [
    "# And here is the CDF of the standard normal\n",
    "fig, ax = plt.subplots()\n",
    "ax.plot(zs, Z.cdf(xs))\n",
    "ax.set_xlabel('$x$')\n",
    "ax.set_ylabel('$\\Phi(x)$');"
   ]
  },
  {
   "cell_type": "code",
   "execution_count": 62,
   "metadata": {},
   "outputs": [
    {
     "name": "stdout",
     "output_type": "stream",
     "text": [
      "[-0.19685316  1.83788227 -0.16200263 -1.97930708 -0.32875306  0.61699413\n",
      "  0.86365205 -0.09273366 -1.49164499 -0.75682249 -0.47177502 -0.9927808\n",
      " -1.13346603  0.87703552 -2.13161427 -0.25927188  0.96967894  0.50567986\n",
      " -0.65166555  0.04492142  0.62769879  2.16502589  0.7016354   0.21113957\n",
      " -1.06117816 -0.39924349  0.63599594  0.7173675  -0.91026072  1.15724918\n",
      " -0.61012659 -0.9594562   0.03582901  0.41127247 -1.35669813  0.1852825\n",
      "  0.87042701 -1.26237422 -0.31764193 -1.15786123  0.14979254  0.11980861\n",
      "  0.0627111   1.38003266  1.84178264 -0.77172871 -0.11672951  0.31475559\n",
      " -0.24698933 -0.9622215   0.77666451 -0.45956544  0.35535895  1.78350127\n",
      " -0.04346138 -1.25840021  1.84683586  1.98690914  1.64003207 -0.57046331\n",
      " -1.98970599  1.02830335 -1.0298963   0.11462877 -1.09531771  1.38134197\n",
      "  0.2618953  -0.10391712 -0.84882894 -2.54181123  0.37034144  0.74312942\n",
      " -0.56998337  0.90437645  1.45416063 -0.97116091  0.28530824 -0.67914691\n",
      "  0.39410479  1.07718372  0.96863215  0.70657424  0.71641881 -1.55368129\n",
      " -1.38134901  1.95988116  1.17391117  0.49046174  0.67309842  0.38814539\n",
      " -0.13653552  1.36785493  1.03966001  0.06558735  0.4025996  -1.41941711\n",
      " -0.04267707 -0.76851677  0.90064482  0.3045133 ]\n"
     ]
    }
   ],
   "source": [
    "# You can sample from the normal like this:\n",
    "print(Z.rvs(size=100))"
   ]
  },
  {
   "cell_type": "markdown",
   "metadata": {},
   "source": [
    "Using the standard normal, we can express any normal.\n",
    "It is easy to show that:\n",
    "$$\n",
    "X = \\mu + \\sigma Z,\n",
    "$$\n",
    "follows a $N(\\mu,\\sigma^2)$ if $Z$ follows and $N(0,1)$.\n",
    "You must remember this!\n",
    "It is extremely useful and it will appear again and again.\n",
    "For example, using this relationship you can sample from any normal using samples from the standard normal.\n",
    "Let's take some samples exploiting this relationship and then compare the histogram to the true PDF."
   ]
  },
  {
   "cell_type": "code",
   "execution_count": 70,
   "metadata": {},
   "outputs": [
    {
     "data": {
      "image/png": "[encoded data removed]",
      "text/plain": [
       "<Figure size 432x288 with 1 Axes>"
      ]
     },
     "metadata": {
      "needs_background": "light"
     },
     "output_type": "display_data"
    }
   ],
   "source": [
    "mu = 1.0\n",
    "sigma = 0.1\n",
    "X = st.norm(mu, sigma)\n",
    "xs = np.linspace(mu - 6.0 * sigma, mu + 6.0 * sigma, 100)\n",
    "x_samples = mu + sigma * Z.rvs(size=10000)\n",
    "fig, ax = plt.subplots()\n",
    "ax.hist(x_samples, density=True, alpha=0.5)\n",
    "ax.plot(xs, X.pdf(xs))\n",
    "ax.set_xlabel('$x$')\n",
    "ax.set_ylabel('$p(x)$');"
   ]
  },
  {
   "cell_type": "markdown",
   "metadata": {},
   "source": [
    "The reverse of the previous expression also holds.\n",
    "For example, if $X | \\mu, \\sigma\\sim N(\\mu,\\sigma)$, then the random variable\n",
    "$$\n",
    "Z = \\frac{X-\\mu}{\\sigma},\n",
    "$$\n",
    "follows a standard normal.\n",
    "You will be asked to prove this in the homework.\n",
    "\n",
    "You should also remember the mathematical form of the PDF of $N(\\mu,\\sigma)$ which is:\n",
    "$$\n",
    "p(x) := \\frac{1}{\\sqrt{2\\pi}\\sigma}\\exp\\left\\{-\\frac{(x-\\mu)^2}{2\\sigma^2}\\right\\} = \\frac{1}{\\sigma}\\phi\\left(\\frac{x-\\mu}{\\sigma}\\right).\n",
    "$$\n",
    "\n",
    "There is also a very nice relationship between the CDF of $N(\\mu,\\sigma)$, call it $F(x)$, and the CDF of the standard normal $\\Phi(z)$.\n",
    "It is:\n",
    "$$\n",
    "F(x) = \\mathbb{P}(X\\le x|\\mu,\\sigma) = \\mathbb{P}\\left(\\frac{X-\\mu}{\\sigma}\\le \\frac{x-\\mu}{\\sigma}\\right) = \\Phi\\left(\\frac{x-\\mu}{\\sigma}\\right).\n",
    "$$"
   ]
  },
  {
   "cell_type": "markdown",
   "metadata": {},
   "source": [
    "## Example: Infering the mean of a normal with a known variance\n",
    "\n",
    "In this example, assume that we are performing an experiment $X_n$ that measures a real variable, e.g., the accleration of gravity, and that we know that the measurement variance is $\\sigma = 0.1$.\n",
    "So, we have:\n",
    "$$\n",
    "X_n | g, \\sigma \\sim N(g, \\sigma^2).\n",
    "$$\n",
    "So, the model says that the measured acceleration of gravity is around the true one with some Gaussian noise.\n",
    "\n",
    "What is our state of knowlege about $g$ before we see any data?\n",
    "Assume that it is adquately captured by:\n",
    "$$\n",
    "g | g_0, s_0 \\sim N(g_0, s_0^2),\n",
    "$$\n",
    "with known $g_0 = 10$, $s_0 = 0.4$.\n",
    "\n",
    "The situtation is captured in the following graph:"
   ]
  },
  {
   "cell_type": "code",
   "execution_count": 79,
   "metadata": {},
   "outputs": [
    {
     "data": {
      "image/svg+xml": [
       "<?xml version=\"1.0\" encoding=\"UTF-8\" standalone=\"no\"?>\n",
       "<!DOCTYPE svg PUBLIC \"-//W3C//DTD SVG 1.1//EN\"\n",
       " \"http://www.w3.org/Graphics/SVG/1.1/DTD/svg11.dtd\">\n",
       "<!-- Generated by graphviz version 2.40.1 (20161225.0304)\n",
       " -->\n",
       "<!-- Title: infer_normal_mu Pages: 1 -->\n",
       "<svg width=\"170pt\" height=\"227pt\"\n",
       " viewBox=\"0.00 0.00 170.00 227.00\" xmlns=\"http://www.w3.org/2000/svg\" xmlns:xlink=\"http://www.w3.org/1999/xlink\">\n",
       "<g id=\"graph0\" class=\"graph\" transform=\"scale(1 1) rotate(0) translate(4 223)\">\n",
       "<title>infer_normal_mu</title>\n",
       "<polygon fill=\"#ffffff\" stroke=\"transparent\" points=\"-4,4 -4,-223 166,-223 166,4 -4,4\"/>\n",
       "<g id=\"clust1\" class=\"cluster\">\n",
       "<title>cluster_0</title>\n",
       "<polygon fill=\"none\" stroke=\"#000000\" points=\"28,-8 28,-83 98,-83 98,-8 28,-8\"/>\n",
       "<text text-anchor=\"middle\" x=\"63\" y=\"-15.8\" font-family=\"Times,serif\" font-size=\"14.00\" fill=\"#000000\">n=1,...,N</text>\n",
       "</g>\n",
       "<!-- g -->\n",
       "<g id=\"node1\" class=\"node\">\n",
       "<title>g</title>\n",
       "<ellipse fill=\"none\" stroke=\"#000000\" cx=\"99\" cy=\"-129\" rx=\"27\" ry=\"18\"/>\n",
       "<text text-anchor=\"middle\" x=\"99\" y=\"-125.3\" font-family=\"Times,serif\" font-size=\"14.00\" fill=\"#000000\">g</text>\n",
       "</g>\n",
       "<!-- Xn -->\n",
       "<g id=\"node5\" class=\"node\">\n",
       "<title>Xn</title>\n",
       "<ellipse fill=\"#d3d3d3\" stroke=\"#000000\" cx=\"63\" cy=\"-57\" rx=\"27\" ry=\"18\"/>\n",
       "<text text-anchor=\"start\" x=\"54.5\" y=\"-54.3\" font-family=\"Times,serif\" font-size=\"14.00\" fill=\"#000000\">X</text>\n",
       "<text text-anchor=\"start\" x=\"65.5\" y=\"-54.3\" font-family=\"Times,serif\" baseline-shift=\"sub\" font-size=\"14.00\" fill=\"#000000\">n</text>\n",
       "</g>\n",
       "<!-- g&#45;&gt;Xn -->\n",
       "<g id=\"edge3\" class=\"edge\">\n",
       "<title>g&#45;&gt;Xn</title>\n",
       "<path fill=\"none\" stroke=\"#000000\" d=\"M90.2854,-111.5708C86.0403,-103.0807 80.8464,-92.6929 76.1337,-83.2674\"/>\n",
       "<polygon fill=\"#000000\" stroke=\"#000000\" points=\"79.237,-81.6477 71.6343,-74.2687 72.976,-84.7782 79.237,-81.6477\"/>\n",
       "</g>\n",
       "<!-- g0 -->\n",
       "<g id=\"node2\" class=\"node\">\n",
       "<title>g0</title>\n",
       "<ellipse fill=\"#d3d3d3\" stroke=\"#000000\" cx=\"63\" cy=\"-201\" rx=\"27\" ry=\"18\"/>\n",
       "<text text-anchor=\"start\" x=\"56\" y=\"-198.3\" font-family=\"Times,serif\" font-size=\"14.00\" fill=\"#000000\">g</text>\n",
       "<text text-anchor=\"start\" x=\"64\" y=\"-198.3\" font-family=\"Times,serif\" baseline-shift=\"sub\" font-size=\"14.00\" fill=\"#000000\">0</text>\n",
       "</g>\n",
       "<!-- g0&#45;&gt;g -->\n",
       "<g id=\"edge1\" class=\"edge\">\n",
       "<title>g0&#45;&gt;g</title>\n",
       "<path fill=\"none\" stroke=\"#000000\" d=\"M71.7146,-183.5708C75.9597,-175.0807 81.1536,-164.6929 85.8663,-155.2674\"/>\n",
       "<polygon fill=\"#000000\" stroke=\"#000000\" points=\"89.024,-156.7782 90.3657,-146.2687 82.763,-153.6477 89.024,-156.7782\"/>\n",
       "</g>\n",
       "<!-- s0 -->\n",
       "<g id=\"node3\" class=\"node\">\n",
       "<title>s0</title>\n",
       "<ellipse fill=\"#d3d3d3\" stroke=\"#000000\" cx=\"135\" cy=\"-201\" rx=\"27\" ry=\"18\"/>\n",
       "<text text-anchor=\"start\" x=\"129\" y=\"-198.3\" font-family=\"Times,serif\" font-size=\"14.00\" fill=\"#000000\">s</text>\n",
       "<text text-anchor=\"start\" x=\"135\" y=\"-198.3\" font-family=\"Times,serif\" baseline-shift=\"sub\" font-size=\"14.00\" fill=\"#000000\">0</text>\n",
       "</g>\n",
       "<!-- s0&#45;&gt;g -->\n",
       "<g id=\"edge2\" class=\"edge\">\n",
       "<title>s0&#45;&gt;g</title>\n",
       "<path fill=\"none\" stroke=\"#000000\" d=\"M126.2854,-183.5708C122.0403,-175.0807 116.8464,-164.6929 112.1337,-155.2674\"/>\n",
       "<polygon fill=\"#000000\" stroke=\"#000000\" points=\"115.237,-153.6477 107.6343,-146.2687 108.976,-156.7782 115.237,-153.6477\"/>\n",
       "</g>\n",
       "<!-- sigma -->\n",
       "<g id=\"node4\" class=\"node\">\n",
       "<title>sigma</title>\n",
       "<ellipse fill=\"#d3d3d3\" stroke=\"#000000\" cx=\"27\" cy=\"-129\" rx=\"27\" ry=\"18\"/>\n",
       "<text text-anchor=\"start\" x=\"23\" y=\"-125.3\" font-family=\"Times,serif\" font-size=\"14.00\" fill=\"#000000\">σ</text>\n",
       "</g>\n",
       "<!-- sigma&#45;&gt;Xn -->\n",
       "<g id=\"edge4\" class=\"edge\">\n",
       "<title>sigma&#45;&gt;Xn</title>\n",
       "<path fill=\"none\" stroke=\"#000000\" d=\"M35.7146,-111.5708C39.9597,-103.0807 45.1536,-92.6929 49.8663,-83.2674\"/>\n",
       "<polygon fill=\"#000000\" stroke=\"#000000\" points=\"53.024,-84.7782 54.3657,-74.2687 46.763,-81.6477 53.024,-84.7782\"/>\n",
       "</g>\n",
       "</g>\n",
       "</svg>\n"
      ],
      "text/plain": [
       "<graphviz.dot.Digraph at 0x1a1aec7b90>"
      ]
     },
     "execution_count": 79,
     "metadata": {},
     "output_type": "execute_result"
    }
   ],
   "source": [
    "gn = Digraph('infer_normal_mu')\n",
    "gn.node('g')\n",
    "gn.node('g0', label='<g<sub>0</sub>>', style='filled')\n",
    "gn.node('s0', label='<s<sub>0</sub>>', style='filled')\n",
    "gn.edge('g0', 'g')\n",
    "gn.edge('s0', 'g')\n",
    "gn.node('sigma', label='<&sigma;>', style='filled')\n",
    "with gn.subgraph(name='cluster_0') as sg:\n",
    "    sg.node('Xn', label='<X<sub>n</sub>>', style='filled')\n",
    "    sg.attr(label='n=1,...,N')\n",
    "    sg.attr(labelloc='b')\n",
    "gn.edge('g', 'Xn')\n",
    "gn.edge('sigma', 'Xn')\n",
    "gn"
   ]
  },
  {
   "cell_type": "markdown",
   "metadata": {},
   "source": [
    "We can directly condition on the variables that are at edges of the tree, $\\sigma, g_0$ and $s_0$.\n",
    "That is, you can just treat them as constants.\n",
    "The joint probability density of the rest conditioned on these known parameters is (we read it from the graph):\n",
    "$$\n",
    "\\begin{split}\n",
    "p(x_{1:N}, g|\\sigma, g_0, s_0) &=& p(x_{1:N}|g, \\sigma) p(g|g_0, s_0)\\\\\n",
    "&=& \\left(\\prod_{n=1}^Np(x_n|g, \\sigma)\\right) p(g|g_0, s_0)\\\\\n",
    "&=& \\left(\\prod_{n=1}^NN(x_n|g,\\sigma)\\right)N(g|g_0,s_0)\\\\\n",
    "&=& \\left(\\prod_{n=1}^N\\frac{1}{\\sqrt{2\\pi}\\sigma}\\exp\\left\\{-\\frac{(x_n-g)^2}{2\\sigma^2}\\right\\}\\right)\\frac{1}{\\sqrt{2\\pi}s_0}\\exp\\left\\{-\\frac{(g-g_0)^2}{2s_0^2}\\right\\}\\\\\n",
    "&\\propto& \\exp\\left\\{-\\frac{\\sum_{n=1}^N(x_n-g)^2}{2\\sigma^2}-\\frac{(g-g_0)^2}{2s_0^2}\\right\\},\n",
    "\\end{split}\n",
    "$$\n",
    "where we have ignored all proportionality constants for convenience.\n",
    "\n",
    "From Bayes' rule, we have that our posterior state of knowledge:\n",
    "$$\n",
    "\\begin{split}\n",
    "p(g|x_{1:N}, \\sigma, g_0, s_0) &=& \\frac{p(x_{1:N}, g|\\sigma, g_0, s_0)}{p(x_{1:N}|\\sigma, g_0, s_0)}\\\\\n",
    "&\\propto& p(x_{1:N}, g|\\sigma, g_0, s_0)\\\\\n",
    "&\\propto& \\exp\\left\\{-\\frac{\\sum_{n=1}^N(x_n-g)^2}{2\\sigma^2}-\\frac{(g-g_0)^2}{2s_0^2}\\right\\}.\n",
    "\\end{split}\n",
    "$$\n",
    "\n",
    "That's pretty much the answer without the normalization constant.\n",
    "But in this particular case, we can actually match this posterior to a normal distribution by following a technique known as \"completing the square.\"\n",
    "It is straightfoward, but it takes a little bit of algebra.\n",
    "You take whatever is inside the exponentials and you try to form something like $(g-g')^2$ for some $g'$, whatever it turns out to be.\n",
    "Let's try it out (you can lump into an additive \"const\" everything that doesn't depend on $g$):\n",
    "$$\n",
    "\\begin{split}\n",
    "\\frac{\\sum_{n=1}^N(x_n-g)^2}{2\\sigma^2}+\\frac{(g-g_0)^2}{2s_0^2} &=&\n",
    "\\frac{s_0^2 \\sum_{n=1}^N(x_n-g)^2 + \\sigma^2 (g-g_0)^2}{2\\sigma^2s_0^2}\\\\\n",
    "&=& \\frac{s_0^2 N g^2 - 2s_0^2g\\sum_{n=1}^Nx_n + s_0^2\\sum_{n=1}^Nx_n + \\sigma^2 g^2 - 2\\sigma^2 gg_0 + \\sigma^2g_0^2}{2\\sigma^2s_0^2}\\\\\n",
    "&=& \\frac{g^2(s_0^2 N + \\sigma^2) - 2 g (s_0^2\\sum_{n=1}^Nx_n + \\sigma^2 g_0)}{2\\sigma^2s_0^2}+\\text{const}\\\\\n",
    "&=& \\frac{g^2 - 2 g(s_0^2\\sum_{n=1}^Nx_n + \\sigma^2 g_0)(s_0^2 N + \\sigma^2)^{-1}}{2\\sigma^2s_0^2(s_0^2 N + \\sigma^2)^{-1}} + \\text{const}\\\\\n",
    "&=& \\frac{g^2 - 2 g \\frac{1}{\\frac{N}{\\sigma^2} + \\frac{1}{s_0^2}}\\left(\\frac{g_0}{s_0^2} + \\frac{\\sum_{n=1}^Nx_n}{\\sigma^2}\\right)}{2\\left(\\frac{1}{s_0^2} + \\frac{N}{\\sigma^2}\\right)^{-1}} + \\text{const}.\n",
    "\\end{split}\n",
    "$$\n",
    "Ok, it takes a bit more algebra than usual.\n",
    "Now, we put this back into the exponential (with the minus sign in front of it), and we observe that it gives a normal for the posterior:\n",
    "$$\n",
    "p(g|x_{1:N}, \\sigma, g_0, s_0) = N\\left(g\\middle| \\frac{1}{\\frac{N}{\\sigma^2} + \\frac{1}{s_0^2}}\\left(\\frac{g_0}{s_0^2} + \\frac{\\sum_{n=1}^Nx_n}{\\sigma^2}\\right),\n",
    "\\left(\\frac{1}{s_0^2} + \\frac{N}{\\sigma^2}\\right)^{-1}\n",
    "\\right).\n",
    "$$\n",
    "Not very pretty. But it is what it is. Let's experiment with this."
   ]
  },
  {
   "cell_type": "code",
   "execution_count": 124,
   "metadata": {},
   "outputs": [
    {
     "data": {
      "text/plain": [
       "<matplotlib.legend.Legend at 0x1a223aca90>"
      ]
     },
     "execution_count": 124,
     "metadata": {},
     "output_type": "execute_result"
    },
    {
     "data": {
      "image/png": "[encoded data removed]",
      "text/plain": [
       "<Figure size 432x288 with 1 Axes>"
      ]
     },
     "metadata": {
      "needs_background": "light"
     },
     "output_type": "display_data"
    }
   ],
   "source": [
    "# Get the true acceleration of gravity from scipy\n",
    "import scipy.constants\n",
    "g_true = scipy.constants.g\n",
    "# Generate some synthetic data\n",
    "N = 10\n",
    "sigma = 0.2\n",
    "gs = g_true + sigma * np.random.randn(N)\n",
    "fig, ax = plt.subplots()\n",
    "ax.plot(gs, 'o', label='Data')\n",
    "ax.plot(range(N), [g_true] * N, 'r--', label='True $g$')\n",
    "ax.set_xlabel('$n$')\n",
    "ax.set_ylabel('$x_n$')\n",
    "plt.legend(loc='best')"
   ]
  },
  {
   "cell_type": "code",
   "execution_count": 125,
   "metadata": {},
   "outputs": [
    {
     "name": "stdout",
     "output_type": "stream",
     "text": [
      "The posterior of g is N(9.84, (0.06)^2)\n"
     ]
    }
   ],
   "source": [
    "# Our prior state of knowledge\n",
    "g0 = 9.8\n",
    "s0 = 0.2\n",
    "G_prior = st.norm(g0, s0)\n",
    "# We shoed that the posterior for g conditioned on data is a Gaussian with mean\n",
    "gn = 1.0 / (N / sigma ** 2 + 1.0 / s0 ** 2) * (g0 / s0 ** 2 + gs.sum() / sigma ** 2)\n",
    "# And standard deviation\n",
    "sigman = np.sqrt(1.0 / (1.0 / s0 ** 2 + N / sigma ** 2))\n",
    "print('The posterior of g is N({0:1.2f}, ({1:1.2f})^2)'.format(gn, sigman))"
   ]
  },
  {
   "cell_type": "code",
   "execution_count": 126,
   "metadata": {},
   "outputs": [
    {
     "data": {
      "image/png": "[encoded data removed]",
      "text/plain": [
       "<Figure size 432x288 with 1 Axes>"
      ]
     },
     "metadata": {
      "needs_background": "light"
     },
     "output_type": "display_data"
    }
   ],
   "source": [
    "# Let's draw this\n",
    "G_post = st.norm(gn, sigman)\n",
    "fig, ax = plt.subplots()\n",
    "ggs = np.linspace(g0 - 6.0 * s0, g0 + 6.0 * s0, 100)\n",
    "ax.plot(ggs, G_prior.pdf(ggs), label='prior')\n",
    "ax.plot(gs, np.zeros(gs.shape), 'x', label='data')\n",
    "ax.plot(ggs, G_post.pdf(ggs), label='posterior')\n",
    "ax.plot([g_true], [0.0], 'ro', label='True $g$')\n",
    "plt.legend(loc='best');"
   ]
  },
  {
   "cell_type": "code",
   "execution_count": 127,
   "metadata": {},
   "outputs": [
    {
     "name": "stdout",
     "output_type": "stream",
     "text": [
      "g is in [9.72, 9.96] with 95% probability\n"
     ]
    }
   ],
   "source": [
    "# Let's get a predictive interval:\n",
    "g_025 = G_post.ppf(0.025)\n",
    "g_975 = G_post.ppf(0.975)\n",
    "print('g is in [{0:1.2f}, {1:1.2f}] with 95% probability'.format(g_025, g_975))"
   ]
  },
  {
   "cell_type": "markdown",
   "metadata": {},
   "source": [
    "### Questions\n",
    "\n",
    "+ Experiment with the a very wrong prior knowledge, say $g_0 = 5$. Try at least a case where you are wrong but not very sure $s_0 = 1.0$ and a case where you are wrong and very sure $s_0 = 0.01$.\n",
    "In both cases, increase $N$ until you get close enough to the true value of $g$."
   ]
  }
 ],
 "metadata": {
  "anaconda-cloud": {},
  "kernelspec": {
   "display_name": "Python 3",
   "language": "python",
   "name": "python3"
  },
  "language_info": {
   "codemirror_mode": {
    "name": "ipython",
    "version": 3
   },
   "file_extension": ".py",
   "mimetype": "text/x-python",
   "name": "python",
   "nbconvert_exporter": "python",
   "pygments_lexer": "ipython3",
   "version": "3.7.4"
  },
  "latex_envs": {
   "bibliofile": "biblio.bib",
   "cite_by": "apalike",
   "current_citInitial": 1,
   "eqLabelWithNumbers": true,
   "eqNumInitial": 0
  },
  "widgets": {
   "state": {
    "968a18c908c6495081a9936faebe0473": {
     "views": [
      {
       "cell_index": 11
      }
     ]
    }
   },
   "version": "1.2.0"
  }
 },
 "nbformat": 4,
 "nbformat_minor": 2
}
