{
 "cells": [
  {
   "cell_type": "markdown",
   "metadata": {},
   "source": [
    "# Lecture 5: Introduction to Probability Theory (Part III)"
   ]
  },
  {
   "cell_type": "markdown",
   "metadata": {},
   "source": [
    "## Objectives\n",
    "\n",
    "+ To introduce continuous random variables.\n",
    "+ To introduce the cumulative distribution function and its properties.\n",
    "+ To introduce the probability density function and its properties.\n",
    "+ To introduce the expectation of continuous random variables.\n",
    "+ To introduce the concept of the joint probability density function.\n",
    "+ To introduce the concept of predictive intervals.\n",
    "+ To introduce some common continuous distributions.\n",
    "+ To introduce the decision making problem.\n",
    "+ To present some simple analytical examples Bayesian inference."
   ]
  },
  {
   "cell_type": "markdown",
   "metadata": {},
   "source": [
    "## Readings\n",
    "\n",
    "+ These notes."
   ]
  },
  {
   "cell_type": "code",
   "execution_count": 1,
   "metadata": {},
   "outputs": [],
   "source": [
    "%matplotlib inline\n",
    "import matplotlib.pyplot as plt\n",
    "import seaborn as sns\n",
    "sns.set_context('talk')\n",
    "import numpy as np"
   ]
  },
  {
   "cell_type": "markdown",
   "metadata": {},
   "source": [
    "## Something more on probability spaces\n",
    "\n",
    "It turns out that when $\\Omega$ is a continuous space, like $\\mathbb{R}$ for example, it is not possible to take $\\mathcal{F}$ to be all the subsets of $\\Omega$ (you need to take a measure-theoretic probability theory class to understand why this is).\n",
    "However, many \"nice\" subsets of $\\Omega$ are usually in $\\mathcal{F}$.\n",
    "For example, in the case of $\\Omega=\\mathbb{R}$, $\\mathcal{F}$ can include all intervals, and any countable unions and intersections of intervals.\n",
    "That's a lot of sets.\n",
    "\n",
    "In any case, $\\mathcal{F}$ must satisfy certain properties for everything to be well-defined.\n",
    "These properties are:\n",
    "+ $\\Omega \\in \\mathcal{F}$\n",
    "+ For any $A$ in $\\mathcal{F}$, the complement $A^c$ is in $\\mathcal{F}$.\n",
    "+ For any $A_1,A_2,\\dots$ in $\\mathcal{F}$, the union $\\cup_n A_n$ is in $\\mathcal{F}$.\n",
    "When a set of subsets $\\mathcal{F}$ satisfies these properties, we say that it forms a $\\sigma$-algebra."
   ]
  },
  {
   "cell_type": "markdown",
   "metadata": {},
   "source": [
    "## Continuous random variables\n",
    "\n",
    "Consider a probability space $(\\Omega, \\mathcal{F}, \\mathbb{P})$.\n",
    "A continuous random variable models the result of an experiment that can potentially take infinitely many values.\n",
    "That is, it is a function\n",
    "$$\n",
    "X:\\Omega \\rightarrow \\mathbb{R}.\n",
    "$$"
   ]
  },
  {
   "cell_type": "markdown",
   "metadata": {},
   "source": [
    "## The cumulative distribution function\n",
    "\n",
    "Let $X$ be a continuous random variable.\n",
    "Its cumulative distribution function (CDF) $F_X(x)$ gives the probability that $X$ is smaller than $x$:\n",
    "$$\n",
    "F_X(x) := \\mathbb{P}(X\\le x) = \\mathbb{P}\\left(\\left\\{\\omega: X(\\omega) \\le x\\right\\}\\right).\n",
    "$$\n",
    "\n",
    "### Properties of the cumulative distribution function\n",
    "\n",
    "+ $F_X(x)$ is an increasing function.\n",
    "+ $F_X(-\\infty) = 0$.\n",
    "+ $F_X(+\\infty) = 1$.\n",
    "+ $\\mathbb{P}(a\\le X \\le b) = F_X(b) - F_X(a)$."
   ]
  },
  {
   "cell_type": "markdown",
   "metadata": {},
   "source": [
    "## The probability density function\n",
    "\n",
    "The probability density function (PDF) is a \"function\" $f_X(x)$ that can give us the probability that $X$ is in any \"good\" subset $A$ of $\\mathbb{R}$ as follows:\n",
    "$$\n",
    "\\mathbb{P}(X\\in A) = \\int_A f_X(x) dx.\n",
    "$$\n",
    "Note that certain random variables may not have a PDF that is a function.\n",
    "That's why I put the word \"function\" in quotes.\n",
    "However, if you allow the PDF to include Dirac's $\\delta$, then any random variable has a PDF.\n",
    "We will ignore this complication for the moment.\n",
    "\n",
    "In this class, we will simplify the notation and we will be writing:\n",
    "$$\n",
    "p(x) \\equiv f_X(x),\n",
    "$$\n",
    "when there is no ambiguity.\n",
    "\n",
    "### Properties of the probability density function\n",
    "+ $p(x) \\ge 0$ for all $x$.\n",
    "+ $\\int_{-\\infty}^{\\infty} p(x) dx = 1$.\n",
    "+ The derivative of the CDF is the PDF, i.e., $F_X'(x) = p(x)$.\n",
    "\n",
    "### Dirac's delta and a unified view of all random variables\n",
    "\n",
    "Dirac's $\\delta$ is a special function, actually called a distribution, which is defined as follows:\n",
    "$$\n",
    "\\delta(x) = 0,\n",
    "$$\n",
    "for $x\\not=0$, and\n",
    "$$\n",
    "\\int_{-\\infty}^\\infty \\delta(x) dx = 0\n",
    "$$\n",
    "You can think of Dirac's $\\delta$ as the PDF of a discrete random variable that takes the value $0$ with probability one.\n",
    "\n",
    "Using Dirac's $\\delta$ you can make any discrete random variable you want look like a continuous random variable.\n",
    "For example, consider a Categorical random variable taking values $x_1,\\dots,x_K$ with probabilities $p_1,\\dots,p_K$.\n",
    "The PDF of this random variable can be written as:\n",
    "$$\n",
    "p(x) = \\sum_{k=1}^Kp_k\\delta(x - x_k).\n",
    "$$\n",
    "\n",
    "The most general random variable one can think of has a PDF that consists of two parts:\n",
    "$$\n",
    "p(x) = f^n_X(x) + f^{\\delta}_X(x),\n",
    "$$\n",
    "a part $f^n_X(x)$ that is a nice proper function and a part $f^{\\delta}_X(x)$ that consists of a weighted sum of Dirac $\\delta$'s. "
   ]
  },
  {
   "cell_type": "markdown",
   "metadata": {},
   "source": [
    "## Expectations of continuous random variables\n",
    "\n",
    "The expectation of a continuous random variable is:\n",
    "$$\n",
    "\\mathbb{E}[X] = \\int_{-\\infty}^\\infty x p(x)dx.\n",
    "$$\n",
    "Its properties are the same as the expectation of a discrete random variable.\n",
    "\n",
    "The expectation of a function of the random variable is:\n",
    "$$\n",
    "\\mathbb{E}[f(X)] = \\int_{-\\infty}^\\infty f(x)p(x)dx.\n",
    "$$\n",
    "\n",
    "In general, using the Dirac $\\delta$ trick we introduced above, there is no need to differentiate between integrations and summations.\n",
    "We can use integration for both continuous and discrete random variables."
   ]
  },
  {
   "cell_type": "markdown",
   "metadata": {},
   "source": [
    "## Example: The uniform distribution\n",
    "\n",
    "The uniform distribution is the most common continuous distribution.\n",
    "It corresponds to a random variable that is equally likely to take a value within a given interval.\n",
    "We write:\n",
    "$$\n",
    "X\\sim U([0,1]),\n",
    "$$\n",
    "and we read $X$ follows a uniform distribution taking values in $[0,1]$.\n",
    "\n",
    "The probability density of the uniform is constant in $[0,1]$ and zero outside it.\n",
    "We have:\n",
    "$$\n",
    "p(x) := U(x|[0,1]) := f_X(x) = \\begin{cases}\n",
    "1,&\\;0\\le x \\le 1,\\\\\n",
    "0,&\\;\\text{otherwise}.\n",
    "\\end{cases}\n",
    "$$\n",
    "\n",
    "The cumulative distribution funciton of the uniform is:\n",
    "$$\n",
    "F_X(x) = \\mathbb{P}(X \\le x) = \\int_0^x f_X(u) du = \\int_0^x du = x.\n",
    "$$\n",
    "\n",
    "$$\n",
    "\\mathbb{P}(a \\le X \\le b) = F_X(b) - F_X(a) = b - a.\n",
    "$$\n",
    "\n",
    "The expectation of the uniform is:\n",
    "$$\n",
    "\\mathbb{E}[X] = \\int_0^1 xdx = \\frac{1}{2}.\n",
    "$$\n",
    "\n",
    "The variance of the uniform is:\n",
    "$$\n",
    "\\mathbb{V}[X] = \\mathbb{E}[X^2] - \\left(\\mathbb{E}[X]\\right)^2 = \\frac{1}{3} - \\frac{1}{4} = \\frac{1}{12}.\n",
    "$$"
   ]
  },
  {
   "cell_type": "code",
   "execution_count": 20,
   "metadata": {},
   "outputs": [
    {
     "data": {
      "text/plain": [
       "array([0.8757728 , 0.50521425, 0.00260003, 0.16818583, 0.98735855,\n",
       "       0.9793581 , 0.2670072 , 0.64764569, 0.63234313, 0.18506059,\n",
       "       0.68413045, 0.9585919 , 0.17964238, 0.46374586, 0.9094402 ,\n",
       "       0.75452259, 0.57063446, 0.85084365, 0.29533053, 0.59792668,\n",
       "       0.70289512, 0.69143705, 0.01339425, 0.19221039, 0.45977018,\n",
       "       0.64097856, 0.74416921, 0.3400591 , 0.15364549, 0.69460312,\n",
       "       0.26056574, 0.90884033, 0.65182362, 0.92153323, 0.52157885,\n",
       "       0.11560241, 0.40832165, 0.31512917, 0.31138902, 0.42063817,\n",
       "       0.86693738, 0.12472082, 0.58156283, 0.05119676, 0.2265645 ,\n",
       "       0.15475978, 0.63248851, 0.75368379, 0.46735782, 0.39882151,\n",
       "       0.68259606, 0.21677003, 0.187503  , 0.15671786, 0.53222535,\n",
       "       0.56805729, 0.79122133, 0.67903194, 0.8163393 , 0.32647635,\n",
       "       0.45232645, 0.53136766, 0.45948577, 0.14071805, 0.08391392,\n",
       "       0.33433316, 0.92852089, 0.92382754, 0.40033353, 0.8265487 ,\n",
       "       0.49827411, 0.686813  , 0.52502933, 0.20703316, 0.12170601,\n",
       "       0.18843404, 0.85034846, 0.54869475, 0.55606151, 0.65216343,\n",
       "       0.24519354, 0.87454281, 0.7086866 , 0.3161045 , 0.59913579,\n",
       "       0.28037362, 0.27447472, 0.0045951 , 0.58173151, 0.83937655,\n",
       "       0.38746475, 0.44883936, 0.77148836, 0.34897878, 0.84891394,\n",
       "       0.78025096, 0.04033284, 0.52926502, 0.02573221, 0.36302838])"
      ]
     },
     "execution_count": 20,
     "metadata": {},
     "output_type": "execute_result"
    }
   ],
   "source": [
    "# Let's demonstrate how you can sample from the uniform\n",
    "import scipy.stats as st\n",
    "X = st.uniform()\n",
    "X.rvs(size=100)"
   ]
  },
  {
   "cell_type": "code",
   "execution_count": 21,
   "metadata": {},
   "outputs": [
    {
     "data": {
      "text/plain": [
       "array([0.93047699, 0.70452733, 0.32400039, 0.79351971, 0.09644334,\n",
       "       0.14250549, 0.15097308, 0.42079149, 0.81646454, 0.93474093,\n",
       "       0.68966055, 0.42291135, 0.00460852, 0.80650043, 0.86374546,\n",
       "       0.32985606, 0.41665748, 0.67987991, 0.56148087, 0.40074017,\n",
       "       0.99038165, 0.83435689, 0.6491392 , 0.28326444, 0.11986552,\n",
       "       0.56219766, 0.01764162, 0.95956211, 0.24851413, 0.09543243,\n",
       "       0.79037408, 0.7487405 , 0.86308378, 0.48561978, 0.26957468,\n",
       "       0.85665805, 0.94409256, 0.3797687 , 0.51160432, 0.27595893,\n",
       "       0.7758237 , 0.04300905, 0.27996879, 0.38274528, 0.28746461,\n",
       "       0.40831685, 0.77549821, 0.99188279, 0.75254367, 0.7068021 ,\n",
       "       0.66741   , 0.7484342 , 0.29547547, 0.98525308, 0.65275087,\n",
       "       0.65804392, 0.40831117, 0.31133782, 0.56524455, 0.03912499,\n",
       "       0.68696881, 0.62633371, 0.56234214, 0.31596913, 0.14654898,\n",
       "       0.85931737, 0.80973576, 0.43625377, 0.21725101, 0.84225354,\n",
       "       0.72787398, 0.95782445, 0.73765638, 0.84157174, 0.93641097,\n",
       "       0.08169986, 0.50947595, 0.50253699, 0.01372467, 0.76295472,\n",
       "       0.6308268 , 0.52753999, 0.53683401, 0.97662742, 0.58988308,\n",
       "       0.90089868, 0.05573687, 0.77173002, 0.80052788, 0.56702092,\n",
       "       0.02391704, 0.09194274, 0.4389419 , 0.45307656, 0.93810607,\n",
       "       0.7067315 , 0.1857926 , 0.4065133 , 0.18622056, 0.21978657])"
      ]
     },
     "execution_count": 21,
     "metadata": {},
     "output_type": "execute_result"
    }
   ],
   "source": [
    "# An alternative way is to use the functionality of numpy\n",
    "np.random.rand(100)"
   ]
  },
  {
   "cell_type": "markdown",
   "metadata": {},
   "source": [
    "### Questions\n",
    "\n",
    "+ Modify the code above so that you sample from a uniform distribution taking values in $[2, 5]$?"
   ]
  },
  {
   "cell_type": "markdown",
   "metadata": {},
   "source": [
    "## Joint probability density function\n",
    "\n",
    "Let $X$ and $Y$ be two random variables.\n",
    "There joint probability density $f_{X,Y}(x,y)$ is the function that can give us the probability that the pair $(X,Y)$ belongs to any \"good\" subset $A$ of $\\mathbb{R}^2$ as follows:\n",
    "$$\n",
    "\\mathbb{P}\\left((X,Y)\\in A\\right) = \\int\\int_{A} f_{X,Y}(x,y)dxdy.\n",
    "$$\n",
    "Of course, we will be writing:\n",
    "$$\n",
    "p(x,y) := f_{X,Y}(x,y),\n",
    "$$\n",
    "when there is no ambiguity.\n",
    "\n",
    "If you integrate one of the variables out of the joint, you get the PDF of the other variable.\n",
    "For example:\n",
    "$$\n",
    "p(x) = \\int_{-\\infty}^\\infty p(x,y) dy,\n",
    "$$\n",
    "and\n",
    "$$\n",
    "p(y) = \\int_{-\\infty}^\\infty p(x, y) dx.\n",
    "$$\n",
    "\n",
    "For many random variables $X_1,\\dots,X_N$ their joint PDF $p(x_1,\\dot,x_N)$ is similarly defined.\n",
    "Again, integrating out some variables gives the pdf of the others."
   ]
  },
  {
   "cell_type": "markdown",
   "metadata": {},
   "source": [
    "## Conditioning a random variable on another\n",
    "\n",
    "Consider two random variables $X$ and $Y$.\n",
    "If we had observed that $Y=y$, how would this change the PDF of $X$?\n",
    "The answer is given via Bayes' rule.\n",
    "The PDF of $X$ conditioned on $Y=y$ is:\n",
    "$$\n",
    "p(x|y) = \\frac{p(x,y)}{p(y)}.\n",
    "$$"
   ]
  },
  {
   "cell_type": "markdown",
   "metadata": {},
   "source": [
    "## Example: Inferring the probability of a coin toss from data (1/4)\n",
    "\n",
    "This is our first Bayesian inference example!\n",
    "\n",
    "Let's say that we run a coin toss experiment $N$ times and we wish to figure out the probability of heads.\n",
    "We will bring into the picture all the mathematical machinery we have introduced so far.\n",
    "Let's say that the data we have observe are $x_1,\\dots,x_N$.\n",
    "For notational convenience we will be writing:\n",
    "$$\n",
    "x_{1:N} := (x_1,\\dots,x_N).\n",
    "$$\n",
    "\n",
    "First, let's start with the probability of success of the coin toss.\n",
    "Let's call it $\\theta$.\n",
    "How can we describe our uncertainty about it?\n",
    "We have to assign a *prior* probability distribution on it.\n",
    "Let's say that we don't know anything about it except that it must be between 0 and 1.\n",
    "What distribution should we assign?\n",
    "Of course, a uniform distribution:\n",
    "$$\n",
    "\\theta \\sim U([0,1]).\n",
    "$$\n",
    "Second, each coin toss experiment corresponds to an independent Bernoulli variable with the same probability of success $\\theta$.\n",
    "We write:\n",
    "$$\n",
    "X_n | \\theta \\sim \\operatorname{Bernoulli}(\\theta),\n",
    "$$\n",
    "for $n=1,\\dots,N$.\n",
    "Note that these random variables depend on $\\theta$.\n",
    "That's why we are conditioning like this.\n",
    "\n",
    "Before proceeding with the mathematics, let's draw the graph."
   ]
  },
  {
   "cell_type": "code",
   "execution_count": 22,
   "metadata": {},
   "outputs": [
    {
     "data": {
      "image/svg+xml": [
       "<?xml version=\"1.0\" encoding=\"UTF-8\" standalone=\"no\"?>\n",
       "<!DOCTYPE svg PUBLIC \"-//W3C//DTD SVG 1.1//EN\"\n",
       " \"http://www.w3.org/Graphics/SVG/1.1/DTD/svg11.dtd\">\n",
       "<!-- Generated by graphviz version 2.43.0 (0)\n",
       " -->\n",
       "<!-- Title: coin_toss_bayes_1 Pages: 1 -->\n",
       "<svg width=\"62pt\" height=\"116pt\"\n",
       " viewBox=\"0.00 0.00 62.00 116.00\" xmlns=\"http://www.w3.org/2000/svg\" xmlns:xlink=\"http://www.w3.org/1999/xlink\">\n",
       "<g id=\"graph0\" class=\"graph\" transform=\"scale(1 1) rotate(0) translate(4 112)\">\n",
       "<title>coin_toss_bayes_1</title>\n",
       "<polygon fill=\"white\" stroke=\"transparent\" points=\"-4,4 -4,-112 58,-112 58,4 -4,4\"/>\n",
       "<!-- theta -->\n",
       "<g id=\"node1\" class=\"node\">\n",
       "<title>theta</title>\n",
       "<ellipse fill=\"none\" stroke=\"black\" cx=\"27\" cy=\"-90\" rx=\"27\" ry=\"18\"/>\n",
       "<text text-anchor=\"start\" x=\"23.11\" y=\"-85.8\" font-family=\"Times,serif\" font-size=\"14.00\">θ</text>\n",
       "</g>\n",
       "<!-- X1 -->\n",
       "<g id=\"node2\" class=\"node\">\n",
       "<title>X1</title>\n",
       "<ellipse fill=\"lightgrey\" stroke=\"black\" cx=\"27\" cy=\"-18\" rx=\"27\" ry=\"18\"/>\n",
       "<text text-anchor=\"start\" x=\"18.44\" y=\"-14.8\" font-family=\"Times,serif\" font-size=\"14.00\">X</text>\n",
       "<text text-anchor=\"start\" x=\"28.56\" y=\"-14.8\" font-family=\"Times,serif\" baseline-shift=\"sub\" font-size=\"14.00\">1</text>\n",
       "</g>\n",
       "<!-- theta&#45;&gt;X1 -->\n",
       "<g id=\"edge1\" class=\"edge\">\n",
       "<title>theta&#45;&gt;X1</title>\n",
       "<path fill=\"none\" stroke=\"black\" d=\"M27,-71.7C27,-63.98 27,-54.71 27,-46.11\"/>\n",
       "<polygon fill=\"black\" stroke=\"black\" points=\"30.5,-46.1 27,-36.1 23.5,-46.1 30.5,-46.1\"/>\n",
       "</g>\n",
       "</g>\n",
       "</svg>\n"
      ],
      "text/plain": [
       "<graphviz.dot.Digraph at 0x1a2794f8d0>"
      ]
     },
     "execution_count": 22,
     "metadata": {},
     "output_type": "execute_result"
    }
   ],
   "source": [
    "# First for one coin toss\n",
    "from graphviz import Digraph\n",
    "gc = Digraph('coin_toss_bayes_1')\n",
    "gc.node('theta', label='<&theta;>')\n",
    "gc.node('X1', label='<X<sub>1</sub>>', style='filled')\n",
    "gc.edge('theta', 'X1')\n",
    "gc.render('coin_toss_bayes_1', format='png')\n",
    "gc"
   ]
  },
  {
   "cell_type": "code",
   "execution_count": 23,
   "metadata": {},
   "outputs": [
    {
     "data": {
      "image/svg+xml": [
       "<?xml version=\"1.0\" encoding=\"UTF-8\" standalone=\"no\"?>\n",
       "<!DOCTYPE svg PUBLIC \"-//W3C//DTD SVG 1.1//EN\"\n",
       " \"http://www.w3.org/Graphics/SVG/1.1/DTD/svg11.dtd\">\n",
       "<!-- Generated by graphviz version 2.43.0 (0)\n",
       " -->\n",
       "<!-- Title: coin_toss_bayes_2 Pages: 1 -->\n",
       "<svg width=\"134pt\" height=\"116pt\"\n",
       " viewBox=\"0.00 0.00 134.00 116.00\" xmlns=\"http://www.w3.org/2000/svg\" xmlns:xlink=\"http://www.w3.org/1999/xlink\">\n",
       "<g id=\"graph0\" class=\"graph\" transform=\"scale(1 1) rotate(0) translate(4 112)\">\n",
       "<title>coin_toss_bayes_2</title>\n",
       "<polygon fill=\"white\" stroke=\"transparent\" points=\"-4,4 -4,-112 130,-112 130,4 -4,4\"/>\n",
       "<!-- theta -->\n",
       "<g id=\"node1\" class=\"node\">\n",
       "<title>theta</title>\n",
       "<ellipse fill=\"none\" stroke=\"black\" cx=\"63\" cy=\"-90\" rx=\"27\" ry=\"18\"/>\n",
       "<text text-anchor=\"start\" x=\"59.11\" y=\"-85.8\" font-family=\"Times,serif\" font-size=\"14.00\">θ</text>\n",
       "</g>\n",
       "<!-- X1 -->\n",
       "<g id=\"node2\" class=\"node\">\n",
       "<title>X1</title>\n",
       "<ellipse fill=\"lightgrey\" stroke=\"black\" cx=\"27\" cy=\"-18\" rx=\"27\" ry=\"18\"/>\n",
       "<text text-anchor=\"start\" x=\"18.44\" y=\"-14.8\" font-family=\"Times,serif\" font-size=\"14.00\">X</text>\n",
       "<text text-anchor=\"start\" x=\"28.56\" y=\"-14.8\" font-family=\"Times,serif\" baseline-shift=\"sub\" font-size=\"14.00\">1</text>\n",
       "</g>\n",
       "<!-- theta&#45;&gt;X1 -->\n",
       "<g id=\"edge1\" class=\"edge\">\n",
       "<title>theta&#45;&gt;X1</title>\n",
       "<path fill=\"none\" stroke=\"black\" d=\"M54.65,-72.76C50.29,-64.28 44.85,-53.71 39.96,-44.2\"/>\n",
       "<polygon fill=\"black\" stroke=\"black\" points=\"42.99,-42.44 35.3,-35.15 36.77,-45.64 42.99,-42.44\"/>\n",
       "</g>\n",
       "<!-- X2 -->\n",
       "<g id=\"node3\" class=\"node\">\n",
       "<title>X2</title>\n",
       "<ellipse fill=\"lightgrey\" stroke=\"black\" cx=\"99\" cy=\"-18\" rx=\"27\" ry=\"18\"/>\n",
       "<text text-anchor=\"start\" x=\"90.44\" y=\"-14.8\" font-family=\"Times,serif\" font-size=\"14.00\">X</text>\n",
       "<text text-anchor=\"start\" x=\"100.56\" y=\"-14.8\" font-family=\"Times,serif\" baseline-shift=\"sub\" font-size=\"14.00\">2</text>\n",
       "</g>\n",
       "<!-- theta&#45;&gt;X2 -->\n",
       "<g id=\"edge2\" class=\"edge\">\n",
       "<title>theta&#45;&gt;X2</title>\n",
       "<path fill=\"none\" stroke=\"black\" d=\"M71.35,-72.76C75.71,-64.28 81.15,-53.71 86.04,-44.2\"/>\n",
       "<polygon fill=\"black\" stroke=\"black\" points=\"89.23,-45.64 90.7,-35.15 83.01,-42.44 89.23,-45.64\"/>\n",
       "</g>\n",
       "</g>\n",
       "</svg>\n"
      ],
      "text/plain": [
       "<graphviz.dot.Digraph at 0x1a27528048>"
      ]
     },
     "execution_count": 23,
     "metadata": {},
     "output_type": "execute_result"
    }
   ],
   "source": [
    "# Now for two coin tosses\n",
    "gc2 = Digraph('coin_toss_bayes_2')\n",
    "gc2.node('theta', label='<&theta;>')\n",
    "gc2.node('X1', label='<X<sub>1</sub>>', style='filled')\n",
    "gc2.node('X2', label='<X<sub>2</sub>>', style='filled')\n",
    "gc2.edge('theta', 'X1')\n",
    "gc2.edge('theta', 'X2')\n",
    "gc2.render('coin_toss_bayes_2', format='png')\n",
    "gc2"
   ]
  },
  {
   "cell_type": "code",
   "execution_count": 24,
   "metadata": {},
   "outputs": [
    {
     "data": {
      "image/svg+xml": [
       "<?xml version=\"1.0\" encoding=\"UTF-8\" standalone=\"no\"?>\n",
       "<!DOCTYPE svg PUBLIC \"-//W3C//DTD SVG 1.1//EN\"\n",
       " \"http://www.w3.org/Graphics/SVG/1.1/DTD/svg11.dtd\">\n",
       "<!-- Generated by graphviz version 2.43.0 (0)\n",
       " -->\n",
       "<!-- Title: coin_toss_bayes_3 Pages: 1 -->\n",
       "<svg width=\"206pt\" height=\"116pt\"\n",
       " viewBox=\"0.00 0.00 206.00 116.00\" xmlns=\"http://www.w3.org/2000/svg\" xmlns:xlink=\"http://www.w3.org/1999/xlink\">\n",
       "<g id=\"graph0\" class=\"graph\" transform=\"scale(1 1) rotate(0) translate(4 112)\">\n",
       "<title>coin_toss_bayes_3</title>\n",
       "<polygon fill=\"white\" stroke=\"transparent\" points=\"-4,4 -4,-112 202,-112 202,4 -4,4\"/>\n",
       "<!-- theta -->\n",
       "<g id=\"node1\" class=\"node\">\n",
       "<title>theta</title>\n",
       "<ellipse fill=\"none\" stroke=\"black\" cx=\"99\" cy=\"-90\" rx=\"27\" ry=\"18\"/>\n",
       "<text text-anchor=\"start\" x=\"95.11\" y=\"-85.8\" font-family=\"Times,serif\" font-size=\"14.00\">θ</text>\n",
       "</g>\n",
       "<!-- X1 -->\n",
       "<g id=\"node2\" class=\"node\">\n",
       "<title>X1</title>\n",
       "<ellipse fill=\"lightgrey\" stroke=\"black\" cx=\"27\" cy=\"-18\" rx=\"27\" ry=\"18\"/>\n",
       "<text text-anchor=\"start\" x=\"18.44\" y=\"-14.8\" font-family=\"Times,serif\" font-size=\"14.00\">X</text>\n",
       "<text text-anchor=\"start\" x=\"28.56\" y=\"-14.8\" font-family=\"Times,serif\" baseline-shift=\"sub\" font-size=\"14.00\">1</text>\n",
       "</g>\n",
       "<!-- theta&#45;&gt;X1 -->\n",
       "<g id=\"edge1\" class=\"edge\">\n",
       "<title>theta&#45;&gt;X1</title>\n",
       "<path fill=\"none\" stroke=\"black\" d=\"M84.43,-74.83C74.25,-64.94 60.48,-51.55 48.97,-40.36\"/>\n",
       "<polygon fill=\"black\" stroke=\"black\" points=\"51.41,-37.85 41.8,-33.38 46.53,-42.87 51.41,-37.85\"/>\n",
       "</g>\n",
       "<!-- X2 -->\n",
       "<g id=\"node3\" class=\"node\">\n",
       "<title>X2</title>\n",
       "<ellipse fill=\"lightgrey\" stroke=\"black\" cx=\"99\" cy=\"-18\" rx=\"27\" ry=\"18\"/>\n",
       "<text text-anchor=\"start\" x=\"90.44\" y=\"-14.8\" font-family=\"Times,serif\" font-size=\"14.00\">X</text>\n",
       "<text text-anchor=\"start\" x=\"100.56\" y=\"-14.8\" font-family=\"Times,serif\" baseline-shift=\"sub\" font-size=\"14.00\">2</text>\n",
       "</g>\n",
       "<!-- theta&#45;&gt;X2 -->\n",
       "<g id=\"edge2\" class=\"edge\">\n",
       "<title>theta&#45;&gt;X2</title>\n",
       "<path fill=\"none\" stroke=\"black\" d=\"M99,-71.7C99,-63.98 99,-54.71 99,-46.11\"/>\n",
       "<polygon fill=\"black\" stroke=\"black\" points=\"102.5,-46.1 99,-36.1 95.5,-46.1 102.5,-46.1\"/>\n",
       "</g>\n",
       "<!-- X3 -->\n",
       "<g id=\"node4\" class=\"node\">\n",
       "<title>X3</title>\n",
       "<ellipse fill=\"lightgrey\" stroke=\"black\" cx=\"171\" cy=\"-18\" rx=\"27\" ry=\"18\"/>\n",
       "<text text-anchor=\"start\" x=\"162.44\" y=\"-14.8\" font-family=\"Times,serif\" font-size=\"14.00\">X</text>\n",
       "<text text-anchor=\"start\" x=\"172.56\" y=\"-14.8\" font-family=\"Times,serif\" baseline-shift=\"sub\" font-size=\"14.00\">3</text>\n",
       "</g>\n",
       "<!-- theta&#45;&gt;X3 -->\n",
       "<g id=\"edge3\" class=\"edge\">\n",
       "<title>theta&#45;&gt;X3</title>\n",
       "<path fill=\"none\" stroke=\"black\" d=\"M113.57,-74.83C123.75,-64.94 137.52,-51.55 149.03,-40.36\"/>\n",
       "<polygon fill=\"black\" stroke=\"black\" points=\"151.47,-42.87 156.2,-33.38 146.59,-37.85 151.47,-42.87\"/>\n",
       "</g>\n",
       "</g>\n",
       "</svg>\n"
      ],
      "text/plain": [
       "<graphviz.dot.Digraph at 0x1a268b8128>"
      ]
     },
     "execution_count": 24,
     "metadata": {},
     "output_type": "execute_result"
    }
   ],
   "source": [
    "# Now for three coin tosses\n",
    "gc3 = Digraph('coin_toss_bayes_3')\n",
    "gc3.node('theta', label='<&theta;>')\n",
    "gc3.node('X1', label='<X<sub>1</sub>>', style='filled')\n",
    "gc3.node('X2', label='<X<sub>2</sub>>', style='filled')\n",
    "gc3.node('X3', label='<X<sub>3</sub>>', style='filled')\n",
    "gc3.edge('theta', 'X1')\n",
    "gc3.edge('theta', 'X2')\n",
    "gc3.edge('theta', 'X3')\n",
    "gc3.render('coin_toss_bayes_3', format='png')\n",
    "gc3"
   ]
  },
  {
   "cell_type": "markdown",
   "metadata": {},
   "source": [
    "Because this notation gets a little bit too involved, we introduce the so called [plate notation](https://en.wikipedia.org/wiki/Plate_notation).\n",
    "Whategver is inside the subgrpah indicated by the box is supposed to be repeated as many times as indicated:"
   ]
  },
  {
   "cell_type": "code",
   "execution_count": 25,
   "metadata": {},
   "outputs": [
    {
     "data": {
      "image/svg+xml": [
       "<?xml version=\"1.0\" encoding=\"UTF-8\" standalone=\"no\"?>\n",
       "<!DOCTYPE svg PUBLIC \"-//W3C//DTD SVG 1.1//EN\"\n",
       " \"http://www.w3.org/Graphics/SVG/1.1/DTD/svg11.dtd\">\n",
       "<!-- Generated by graphviz version 2.43.0 (0)\n",
       " -->\n",
       "<!-- Title: coin_toss_bayes_plate Pages: 1 -->\n",
       "<svg width=\"94pt\" height=\"154pt\"\n",
       " viewBox=\"0.00 0.00 94.00 154.00\" xmlns=\"http://www.w3.org/2000/svg\" xmlns:xlink=\"http://www.w3.org/1999/xlink\">\n",
       "<g id=\"graph0\" class=\"graph\" transform=\"scale(1 1) rotate(0) translate(4 150)\">\n",
       "<title>coin_toss_bayes_plate</title>\n",
       "<polygon fill=\"white\" stroke=\"transparent\" points=\"-4,4 -4,-150 90,-150 90,4 -4,4\"/>\n",
       "<g id=\"clust1\" class=\"cluster\">\n",
       "<title>cluster_0</title>\n",
       "<polygon fill=\"none\" stroke=\"black\" points=\"8,-8 8,-82 78,-82 78,-8 8,-8\"/>\n",
       "<text text-anchor=\"middle\" x=\"43\" y=\"-14.8\" font-family=\"Times,serif\" font-size=\"14.00\">n=1,...,N</text>\n",
       "</g>\n",
       "<!-- theta -->\n",
       "<g id=\"node1\" class=\"node\">\n",
       "<title>theta</title>\n",
       "<ellipse fill=\"none\" stroke=\"black\" cx=\"43\" cy=\"-128\" rx=\"27\" ry=\"18\"/>\n",
       "<text text-anchor=\"start\" x=\"39.11\" y=\"-123.8\" font-family=\"Times,serif\" font-size=\"14.00\">θ</text>\n",
       "</g>\n",
       "<!-- Xn -->\n",
       "<g id=\"node2\" class=\"node\">\n",
       "<title>Xn</title>\n",
       "<ellipse fill=\"lightgrey\" stroke=\"black\" cx=\"43\" cy=\"-56\" rx=\"27\" ry=\"18\"/>\n",
       "<text text-anchor=\"start\" x=\"34.44\" y=\"-52.8\" font-family=\"Times,serif\" font-size=\"14.00\">X</text>\n",
       "<text text-anchor=\"start\" x=\"44.56\" y=\"-52.8\" font-family=\"Times,serif\" baseline-shift=\"sub\" font-size=\"14.00\">n</text>\n",
       "</g>\n",
       "<!-- theta&#45;&gt;Xn -->\n",
       "<g id=\"edge1\" class=\"edge\">\n",
       "<title>theta&#45;&gt;Xn</title>\n",
       "<path fill=\"none\" stroke=\"black\" d=\"M43,-109.7C43,-101.98 43,-92.71 43,-84.11\"/>\n",
       "<polygon fill=\"black\" stroke=\"black\" points=\"46.5,-84.1 43,-74.1 39.5,-84.1 46.5,-84.1\"/>\n",
       "</g>\n",
       "</g>\n",
       "</svg>\n"
      ],
      "text/plain": [
       "<graphviz.dot.Digraph at 0x1a268b8748>"
      ]
     },
     "execution_count": 25,
     "metadata": {},
     "output_type": "execute_result"
    }
   ],
   "source": [
    "gcp = Digraph('coin_toss_bayes_plate')\n",
    "gcp.node('theta', label='<&theta;>')\n",
    "with gcp.subgraph(name='cluster_0') as sg:\n",
    "    sg.node('Xn', label='<X<sub>n</sub>>', style='filled')\n",
    "    sg.attr(label='n=1,...,N')\n",
    "    sg.attr(labelloc='b')\n",
    "gcp.edge('theta', 'Xn')\n",
    "gcp.render('coin_toss_bayes_plate', format='png')\n",
    "gcp"
   ]
  },
  {
   "cell_type": "markdown",
   "metadata": {},
   "source": [
    "To carry out Bayesian inference, we need the joint probability density of all variables.\n",
    "It is:\n",
    "$$\n",
    "p(x_1,\\dots,x_N, \\theta) = p(x_{1:N}|\\theta) p(\\theta) = \\left(\\prod_{n=1}p(x_n|\\theta)\\right)p(\\theta),\n",
    "$$\n",
    "where we first used Bayes' rule and then the fact that the coin tosses are independent.\n",
    "We must find the mathematical form of all these expressions.\n",
    "For $\\theta$, we simply have:\n",
    "$$\n",
    "p(\\theta) = 1_{[0,1]}(\\theta),\n",
    "$$\n",
    "where $1_A(x)$ is the indicator function of $A$, i.e., $1_A(x) = 1$ if $x$ is in $A$ and zero otherwise.\n",
    "For the Bernoulli pmf's we have:\n",
    "$$\n",
    "p(X_n = 1|\\theta) = \\theta,\n",
    "$$\n",
    "and\n",
    "$$\n",
    "p(X_n = 0|\\theta) = 1- \\theta.\n",
    "$$\n",
    "So, in a unified way, we can write:\n",
    "$$\n",
    "p(x_n | \\theta) = \\theta^{x_n}(1-\\theta)^{1-x_n}.\n",
    "$$\n",
    "Now, let's re-write the joint pmf:\n",
    "$$\n",
    "p(x_1,\\dots,x_N, \\theta) = \\theta^{\\sum_{n=1}^Nx_n}(1-\\theta)^{N-\\sum_{n=1}^Nx_n}1_{[0,1]}(\\theta),\n",
    "$$\n",
    "which has a nice interpretation as it depends only on the total number of heads $\\sum_{n=1}^Nx_n$.\n",
    "\n",
    "Now, we are in a position to apply Bayes rule to condition on the data.\n",
    "We have:\n",
    "$$\n",
    "p(\\theta|x_{1:N}) = \\frac{p(x_{1:N},\\theta)}{p(x_{1:N})} \\propto p(x_{1:N}, \\theta) = \\theta^{\\sum_{n=1}^Nx_n}(1-\\theta)^{N-\\sum_{n=1}^Nx_n}1_{[0,1]}(\\theta).\n",
    "$$\n",
    "It may be the first time you encounter this, but we have actually discovered a new distribution called the [Beta distribution](https://en.wikipedia.org/wiki/Beta_distribution).\n",
    "This is what the posterior turns out to be.\n",
    "This is one of the few instances where the posterior is analytically available.\n",
    "We will return to the example, once we introduce the Beta distribution."
   ]
  },
  {
   "cell_type": "markdown",
   "metadata": {},
   "source": [
    "## Example: The Beta distribution\n",
    "\n",
    "The Beta distribution is suitable for random variables that take values in $[0,1]$ but are not necessarily uniform.\n",
    "We write:\n",
    "$$\n",
    "X\\sim \\operatorname{Beta}(\\alpha, \\beta),\n",
    "$$\n",
    "where $\\alpha$ and $\\beta$ are positive shape parameters.\n",
    "The interpretation of the parameters is more or less this:\n",
    "+ The bigger $\\alpha$ is, the more the distribution is pulled towards zero.\n",
    "+ The bigger $\\beta$ is, the more the distribution is pulled towards one.\n",
    "\n",
    "The PDF of the Beta is:\n",
    "$$\n",
    "p(x) = \\frac{x^{\\alpha-1}(1-x)^{\\beta - 1}}{B(\\alpha,\\beta)},\n",
    "$$\n",
    "where\n",
    "$$\n",
    "B(\\alpha,\\beta) = \\frac{\\Gamma(\\alpha)\\Gamma(\\beta)}{\\Gamma(\\alpha+\\beta)},\n",
    "$$\n",
    "where $\\Gamma$ is the [Gamma function](https://en.wikipedia.org/wiki/Gamma_function).\n",
    "It's expectation is:\n",
    "$$\n",
    "\\mathbb{E}[X] = \\frac{\\alpha}{\\alpha + \\beta}.\n",
    "$$"
   ]
  },
  {
   "cell_type": "markdown",
   "metadata": {},
   "source": [
    "## Example: Inferring the probability of a coin toss from data (2/4)\n",
    "\n",
    "Now, that we know about the Beta distribution, we can write for the posterior of $\\theta$:\n",
    "$$\n",
    "p(\\theta|x_{1:N}) = \\operatorname{Beta}\\left(\\theta\\middle|1 + \\sum_{n=1}^Nx_n, 1 + N - \\sum_{n=1}^Nx_n\\right).\n",
    "$$\n",
    "where with $\\operatorname{Beta}(\\theta|\\alpha,\\beta)$ we mean the PDF of the $\\operatorname{Beta}(\\alpha,\\beta)$ evaluated at $\\theta$ (this is a very useful notation).\n",
    "So, we see that the $\\alpha$ parameter is just one plus the number of heads and the $\\beta$ parameter is one plus the number of tails.\n",
    "\n",
    "Let's try this out with some fake data."
   ]
  },
  {
   "cell_type": "code",
   "execution_count": 36,
   "metadata": {},
   "outputs": [
    {
     "data": {
      "text/plain": [
       "<matplotlib.legend.Legend at 0x1a2688f160>"
      ]
     },
     "execution_count": 36,
     "metadata": {},
     "output_type": "execute_result"
    },
    {
     "data": {
      "image/png": "[encoded data removed]",
      "text/plain": [
       "<Figure size 432x288 with 1 Axes>"
      ]
     },
     "metadata": {
      "needs_background": "light"
     },
     "output_type": "display_data"
    }
   ],
   "source": [
    "# Take a fake coin which is a little bit biased\n",
    "theta_true = 0.8\n",
    "# This is the random variable corresponding to a coin toss\n",
    "X = st.bernoulli(theta_true)\n",
    "# Sample from it a number of times to generate our data = (x1, ..., xN)\n",
    "N = 200\n",
    "data = X.rvs(size=N)\n",
    "# Now we are ready to calculate the posterior which the Beta we have above\n",
    "alpha = 1.0 + data.sum()\n",
    "beta = 1.0 + N - data.sum()\n",
    "Theta_post = st.beta(alpha, beta)\n",
    "# Now we can plot the posterior PDF for theta\n",
    "fig, ax = plt.subplots()\n",
    "thetas = np.linspace(0, 1, 100)\n",
    "ax.plot([theta_true], [0.0], 'o', markeredgewidth=2, markersize=10, label='True value')\n",
    "ax.plot(thetas, Theta_post.pdf(thetas), label=r'$p(\\theta|x_{1:N})$')\n",
    "ax.set_xlabel(r'$\\theta$')\n",
    "ax.set_title('$N={0:d}$'.format(N))\n",
    "plt.legend(loc='best')"
   ]
  },
  {
   "cell_type": "markdown",
   "metadata": {},
   "source": [
    "### Questions\n",
    "\n",
    "+ Experiment with different values of $\\theta_{\\text{true}}$ and different values of $N$.\n",
    "+ Is the true value always covered by the posterior PDF?"
   ]
  },
  {
   "cell_type": "markdown",
   "metadata": {},
   "source": [
    "## Quantiles of a random variable\n",
    "\n",
    "The posterior $p(\\theta|x_{1:N})$ summarizes everything that we have to say about $\\theta$.\n",
    "It is the complete picture.\n",
    "However, you may be asked to find an interval within which $\\theta$ lies with high accuracy?\n",
    "How do you do that?\n",
    "For this we need the idea of quantiles.\n",
    "\n",
    "Let $X$ be a random variable and $q$ be a number between $0$ and $1$.\n",
    "The $q$-quantile of $X$ is the smaller number $x_q$ such that $X$ is smaller than $x_q$ with probability $q$.\n",
    "Mathematically:\n",
    "$$\n",
    "\\mathbb{P}(X\\le x_q) = F_X(x_q) = q.\n",
    "$$\n",
    "(For the proper mathematical definition we need to use the concept of infimum.)\n",
    "For example, you can find the $2.5\\%$ quantile of a random variable, $x_{0.025}$:\n",
    "$$\n",
    "\\mathbb{P}(X\\le x_{0.025}) = 0.025,\n",
    "$$\n",
    "or the $97.5\\%$ quantile:\n",
    "$$\n",
    "\\mathbb{P}(X\\le x_{0.975}) = 0.975.\n",
    "$$\n",
    "Then you can say that, with 95\\% probability, $X$ lies between $x_{0.025}$ and $x_{0.975}$.\n",
    "The interval $[x_{0.025}, x_{0.975}]$ is called a $95\\%$ predictive interval."
   ]
  },
  {
   "cell_type": "markdown",
   "metadata": {},
   "source": [
    "## Example: Inferring the probability of a coin toss from data (3/4)\n",
    "\n",
    "Let's apply the idea of quantiles to the coin toss example to find a 95\\% predictive interval."
   ]
  },
  {
   "cell_type": "code",
   "execution_count": 40,
   "metadata": {},
   "outputs": [
    {
     "name": "stdout",
     "output_type": "stream",
     "text": [
      "Theta is in [0.74, 0.85] with 95% probability\n"
     ]
    }
   ],
   "source": [
    "theta_low = Theta_post.ppf(0.025) # ppf stands for percent point function\n",
    "theta_up = Theta_post.ppf(0.975)\n",
    "print('Theta is in [{0:1.2f}, {1:1.2f}] with 95% probability'.format(theta_low, theta_up))"
   ]
  },
  {
   "cell_type": "markdown",
   "metadata": {},
   "source": [
    "### Questions\n",
    "+ How many coin tosses do you have to do, in order to estimate $\\theta$ within an accuracy of $1\\%$ with $99\\%$ probability?"
   ]
  },
  {
   "cell_type": "markdown",
   "metadata": {},
   "source": [
    "## The decision making problem\n",
    "\n",
    "So, we learned about predictive intervals.\n",
    "But what if someone asks you to report a single value for $\\theta$ in the coin toss example?\n",
    "What is the correct way of doing this?\n",
    "\n",
    "This is actually a decision-making problem.\n",
    "To answer it, you have to quantify the cost of making a mistake and then make a decision that minimizes this cost.\n",
    "To formalize this concept, assume that we have a random variable $X$ and we have to guess a value for it.\n",
    "Let $\\ell(x, x')$ be the loss we incur when we guess $x$ and the true value is $x'$.\n",
    "This is a completly subjective quantity.\n",
    "However, here are some ideas:\n",
    "+ The square loss:\n",
    "$$\n",
    "\\ell_2(x,x') = (x-x')^2.\n",
    "$$\n",
    "+ The absolute loss:\n",
    "$$\n",
    "\\ell_1(x,x') = |x-x'|.\n",
    "$$\n",
    "\n",
    "The rational thing to do, when choosing a value for $x$ is to minimize our *expected loss*, i.e., we make our choice by solving this problem:\n",
    "$$\n",
    "x^* = \\min_x \\mathbb{E}[\\ell(x,X)].\n",
    "$$\n",
    "This, in general, is not a problem with an analytical solution.\n",
    "However, for the two special loss functions above the answer is:\n",
    "+ The choice that minimizes the square loss is the expectation of the random variable:\n",
    "$$\n",
    "x^* = \\mathbb{E}[X].\n",
    "$$\n",
    "+ The choice that minimizes the absolute loss is the median, i.e., $x^*$ is the 50\\% quantile:\n",
    "$$\n",
    "x^* = x_{0.5}.\n",
    "$$"
   ]
  },
  {
   "cell_type": "markdown",
   "metadata": {},
   "source": [
    "## Example: Inferring the probability of a coin toss from data (4/4)\n",
    "\n",
    "Let's pick a $\\theta$ by minimizing the square loss.\n",
    "We just have to find the expectation of the posterior $p(\\theta|x_{1:N})$ (which is just a Beta).\n",
    "It is:\n",
    "$$\n",
    "\\theta^*_N = \\mathbb{E}[\\theta|x_{1:N}] = \\frac{1+\\sum_{n=1}^Nx_n}{1+\\sum_{n=1}^Nx_n + N + 1 - \\sum_{n=1}^Nx_n}\n",
    "= \\frac{1 + \\sum_{n=1}^Nx_n}{N+2}.\n",
    "$$"
   ]
  },
  {
   "cell_type": "code",
   "execution_count": 41,
   "metadata": {},
   "outputs": [
    {
     "name": "stdout",
     "output_type": "stream",
     "text": [
      "E[X] = 0.80\n"
     ]
    }
   ],
   "source": [
    "# In the example we had above:\n",
    "theta_star = Theta_post.expect()\n",
    "print('E[X] = {0:1.2f}'.format(theta_star))"
   ]
  },
  {
   "cell_type": "markdown",
   "metadata": {},
   "source": [
    "### Questions\n",
    "+ Find the 50\\% quantile of $\\theta$ which minimizes the absolute loss."
   ]
  },
  {
   "cell_type": "markdown",
   "metadata": {},
   "source": [
    "## Example: The normal distribution\n",
    "\n",
    "The normal (or Gaussian) distribution is a ubiquitous one.\n",
    "It appears over and over again.\n",
    "There are two explanations as to why it appears so often:\n",
    "\n",
    "+ It is the distribution of maximum uncertainty that matches a known mean and a known variance variance.\n",
    "+ It is the distribution that arises when you add a lot of random variables together.\n",
    "\n",
    "We will learn about both these in the next lectures.\n",
    "\n",
    "We write:\n",
    "$$\n",
    "X | \\mu, \\sigma \\sim N(\\mu, \\sigma),\n",
    "$$\n",
    "and we read \"$X$ conditioned on $\\mu$ and $\\sigma$ follows a normal distribution with mean $\\mu$ and variance $\\sigma^2$.\n",
    "\n",
    "When $\\mu=0$ and $\\sigma^2=1$, we say that we have a *standard normal* distribution.\n",
    "Let\n",
    "$$\n",
    "Z\\sim N(0,1).\n",
    "$$\n",
    "The PDF of the standard normal is:\n",
    "$$\n",
    "\\phi(z) := N(z|0,1) = \\frac{1}{\\sqrt{2\\pi}}\\exp\\left\\{-\\frac{z^2}{2}\\right\\}.\n",
    "$$\n",
    "The CDF of the standard normal is:\n",
    "$$\n",
    "\\Phi(z) := \\mathbb{P}(Z \\le z) = \\int_{-\\infty}^z \\phi(z')dz',\n",
    "$$\n",
    "is not analytically available.\n",
    "However, there are codes that can compute it."
   ]
  },
  {
   "cell_type": "code",
   "execution_count": 48,
   "metadata": {},
   "outputs": [
    {
     "data": {
      "image/png": "[encoded data removed]",
      "text/plain": [
       "<Figure size 432x288 with 1 Axes>"
      ]
     },
     "metadata": {
      "needs_background": "light"
     },
     "output_type": "display_data"
    }
   ],
   "source": [
    "# Here is how you can get the PDF of the standard normal\n",
    "Z = st.norm()\n",
    "fig, ax = plt.subplots()\n",
    "zs = np.linspace(-4.0, 4.0, 100)\n",
    "ax.plot(zs, Z.pdf(zs))\n",
    "ax.set_xlabel('$x$')\n",
    "ax.set_ylabel('$\\phi(x) = N(x|0,1)$');"
   ]
  },
  {
   "cell_type": "code",
   "execution_count": 49,
   "metadata": {},
   "outputs": [
    {
     "data": {
      "image/png": "[encoded data removed]",
      "text/plain": [
       "<Figure size 432x288 with 1 Axes>"
      ]
     },
     "metadata": {
      "needs_background": "light"
     },
     "output_type": "display_data"
    }
   ],
   "source": [
    "# And here is the CDF of the standard normal\n",
    "fig, ax = plt.subplots()\n",
    "ax.plot(zs, Z.cdf(zs))\n",
    "ax.set_xlabel('$x$')\n",
    "ax.set_ylabel('$\\Phi(x)$');"
   ]
  },
  {
   "cell_type": "code",
   "execution_count": 50,
   "metadata": {},
   "outputs": [
    {
     "name": "stdout",
     "output_type": "stream",
     "text": [
      "[-1.22660647 -0.1576608   0.59723153 -0.97264543  0.98435586 -0.3926714\n",
      " -0.57282631 -0.54823664 -0.36726582  0.65951648  0.80311501 -1.51946052\n",
      "  0.58569344 -1.12388771 -0.12035593  1.48648834  0.6182361  -1.31417303\n",
      "  1.0303515   0.13559988  0.38171876 -0.33271074 -0.22400054  0.17668206\n",
      "  0.62393856 -2.25342774  0.4046836  -0.28418459  1.57320481 -0.18229138\n",
      "  0.13535137  0.78914749 -1.60366226 -1.2444578  -0.95193494 -0.04592564\n",
      "  0.84628224 -1.25485437  0.4883098  -1.82564689 -0.93825621  0.23724405\n",
      " -1.08419871 -0.32065128  0.63794084 -1.07014575  0.1565253   0.35677482\n",
      "  0.33771487 -0.18160901 -1.5970214   1.11090821 -1.92047955 -0.08907276\n",
      " -0.98411301  0.66836046 -0.23916349 -0.71732664 -2.135425   -0.25539052\n",
      "  0.68411464  1.46730128 -0.45746748 -1.88792765  0.45380468 -1.20034007\n",
      "  0.58140844  0.46866407 -2.68759767 -0.88836431 -0.54728045 -1.43816053\n",
      " -0.52271981  1.09698294 -0.17449963  0.03284705 -0.38701455 -1.24909383\n",
      " -0.1405669   0.82855898 -0.15135838  0.4615397  -0.41237725  1.6276069\n",
      " -0.17712899  0.80314125 -0.92353011  0.66377355  0.14727995 -0.05256619\n",
      "  2.09780824  0.65579266  1.87775682 -1.16591696  0.15065101 -0.46160957\n",
      "  1.65424713  0.94183635  0.09959566 -0.56702504]\n"
     ]
    }
   ],
   "source": [
    "# You can sample from the normal like this:\n",
    "print(Z.rvs(size=100))"
   ]
  },
  {
   "cell_type": "markdown",
   "metadata": {},
   "source": [
    "Using the standard normal, we can express any normal.\n",
    "It is easy to show that:\n",
    "$$\n",
    "X = \\mu + \\sigma Z,\n",
    "$$\n",
    "follows a $N(\\mu,\\sigma^2)$ if $Z$ follows and $N(0,1)$.\n",
    "You must remember this!\n",
    "It is extremely useful and it will appear again and again.\n",
    "For example, using this relationship you can sample from any normal using samples from the standard normal.\n",
    "Let's take some samples exploiting this relationship and then compare the histogram to the true PDF."
   ]
  },
  {
   "cell_type": "code",
   "execution_count": 51,
   "metadata": {},
   "outputs": [
    {
     "data": {
      "image/png": "[encoded data removed]",
      "text/plain": [
       "<Figure size 432x288 with 1 Axes>"
      ]
     },
     "metadata": {
      "needs_background": "light"
     },
     "output_type": "display_data"
    }
   ],
   "source": [
    "mu = 1.0\n",
    "sigma = 0.1\n",
    "X = st.norm(mu, sigma)\n",
    "xs = np.linspace(mu - 6.0 * sigma, mu + 6.0 * sigma, 100)\n",
    "x_samples = mu + sigma * Z.rvs(size=10000)\n",
    "fig, ax = plt.subplots()\n",
    "ax.hist(x_samples, density=True, alpha=0.5)\n",
    "ax.plot(xs, X.pdf(xs))\n",
    "ax.set_xlabel('$x$')\n",
    "ax.set_ylabel('$p(x)$');"
   ]
  },
  {
   "cell_type": "markdown",
   "metadata": {},
   "source": [
    "The reverse of the previous expression also holds.\n",
    "For example, if $X | \\mu, \\sigma\\sim N(\\mu,\\sigma)$, then the random variable\n",
    "$$\n",
    "Z = \\frac{X-\\mu}{\\sigma},\n",
    "$$\n",
    "follows a standard normal.\n",
    "You will be asked to prove this in the homework.\n",
    "\n",
    "You should also remember the mathematical form of the PDF of $N(\\mu,\\sigma)$ which is:\n",
    "$$\n",
    "p(x) := \\frac{1}{\\sqrt{2\\pi}\\sigma}\\exp\\left\\{-\\frac{(x-\\mu)^2}{2\\sigma^2}\\right\\} = \\frac{1}{\\sigma}\\phi\\left(\\frac{x-\\mu}{\\sigma}\\right).\n",
    "$$\n",
    "\n",
    "There is also a very nice relationship between the CDF of $N(\\mu,\\sigma)$, call it $F(x)$, and the CDF of the standard normal $\\Phi(z)$.\n",
    "It is:\n",
    "$$\n",
    "F(x) = \\mathbb{P}(X\\le x|\\mu,\\sigma) = \\mathbb{P}\\left(\\frac{X-\\mu}{\\sigma}\\le \\frac{x-\\mu}{\\sigma}\\right) = \\Phi\\left(\\frac{x-\\mu}{\\sigma}\\right).\n",
    "$$"
   ]
  },
  {
   "cell_type": "markdown",
   "metadata": {},
   "source": [
    "## Example: Infering the mean of a normal with a known variance\n",
    "\n",
    "Assume that we are performing an experiment $X_n$ that measures the acceleration of gravity and that we know that the measurement variance is $\\sigma = 0.1$.\n",
    "So, we have:\n",
    "$$\n",
    "X_n | g, \\sigma \\sim N(g, \\sigma^2).\n",
    "$$\n",
    "So, the model says that the measured acceleration of gravity is around the true one with some Gaussian noise.\n",
    "\n",
    "What is our state of knowlegde about $g$ before we see any data?\n",
    "Assume that it is adequately captured by:\n",
    "$$\n",
    "g | g_0, s_0 \\sim N(g_0, s_0^2),\n",
    "$$\n",
    "with known $g_0 = 10$, $s_0 = 0.4$.\n",
    "\n",
    "The situtation is captured in the following graph:"
   ]
  },
  {
   "cell_type": "code",
   "execution_count": 52,
   "metadata": {},
   "outputs": [
    {
     "data": {
      "image/svg+xml": [
       "<?xml version=\"1.0\" encoding=\"UTF-8\" standalone=\"no\"?>\n",
       "<!DOCTYPE svg PUBLIC \"-//W3C//DTD SVG 1.1//EN\"\n",
       " \"http://www.w3.org/Graphics/SVG/1.1/DTD/svg11.dtd\">\n",
       "<!-- Generated by graphviz version 2.43.0 (0)\n",
       " -->\n",
       "<!-- Title: infer_normal_mu Pages: 1 -->\n",
       "<svg width=\"170pt\" height=\"226pt\"\n",
       " viewBox=\"0.00 0.00 170.00 226.00\" xmlns=\"http://www.w3.org/2000/svg\" xmlns:xlink=\"http://www.w3.org/1999/xlink\">\n",
       "<g id=\"graph0\" class=\"graph\" transform=\"scale(1 1) rotate(0) translate(4 222)\">\n",
       "<title>infer_normal_mu</title>\n",
       "<polygon fill=\"white\" stroke=\"transparent\" points=\"-4,4 -4,-222 166,-222 166,4 -4,4\"/>\n",
       "<g id=\"clust1\" class=\"cluster\">\n",
       "<title>cluster_0</title>\n",
       "<polygon fill=\"none\" stroke=\"black\" points=\"28,-8 28,-82 98,-82 98,-8 28,-8\"/>\n",
       "<text text-anchor=\"middle\" x=\"63\" y=\"-14.8\" font-family=\"Times,serif\" font-size=\"14.00\">n=1,...,N</text>\n",
       "</g>\n",
       "<!-- g -->\n",
       "<g id=\"node1\" class=\"node\">\n",
       "<title>g</title>\n",
       "<ellipse fill=\"none\" stroke=\"black\" cx=\"99\" cy=\"-128\" rx=\"27\" ry=\"18\"/>\n",
       "<text text-anchor=\"middle\" x=\"99\" y=\"-123.8\" font-family=\"Times,serif\" font-size=\"14.00\">g</text>\n",
       "</g>\n",
       "<!-- Xn -->\n",
       "<g id=\"node5\" class=\"node\">\n",
       "<title>Xn</title>\n",
       "<ellipse fill=\"lightgrey\" stroke=\"black\" cx=\"63\" cy=\"-56\" rx=\"27\" ry=\"18\"/>\n",
       "<text text-anchor=\"start\" x=\"54.44\" y=\"-52.8\" font-family=\"Times,serif\" font-size=\"14.00\">X</text>\n",
       "<text text-anchor=\"start\" x=\"64.56\" y=\"-52.8\" font-family=\"Times,serif\" baseline-shift=\"sub\" font-size=\"14.00\">n</text>\n",
       "</g>\n",
       "<!-- g&#45;&gt;Xn -->\n",
       "<g id=\"edge3\" class=\"edge\">\n",
       "<title>g&#45;&gt;Xn</title>\n",
       "<path fill=\"none\" stroke=\"black\" d=\"M90.65,-110.76C86.29,-102.28 80.85,-91.71 75.96,-82.2\"/>\n",
       "<polygon fill=\"black\" stroke=\"black\" points=\"78.99,-80.44 71.3,-73.15 72.77,-83.64 78.99,-80.44\"/>\n",
       "</g>\n",
       "<!-- g0 -->\n",
       "<g id=\"node2\" class=\"node\">\n",
       "<title>g0</title>\n",
       "<ellipse fill=\"lightgrey\" stroke=\"black\" cx=\"63\" cy=\"-200\" rx=\"27\" ry=\"18\"/>\n",
       "<text text-anchor=\"start\" x=\"56\" y=\"-196.8\" font-family=\"Times,serif\" font-size=\"14.00\">g</text>\n",
       "<text text-anchor=\"start\" x=\"63\" y=\"-196.8\" font-family=\"Times,serif\" baseline-shift=\"sub\" font-size=\"14.00\">0</text>\n",
       "</g>\n",
       "<!-- g0&#45;&gt;g -->\n",
       "<g id=\"edge1\" class=\"edge\">\n",
       "<title>g0&#45;&gt;g</title>\n",
       "<path fill=\"none\" stroke=\"black\" d=\"M71.35,-182.76C75.71,-174.28 81.15,-163.71 86.04,-154.2\"/>\n",
       "<polygon fill=\"black\" stroke=\"black\" points=\"89.23,-155.64 90.7,-145.15 83.01,-152.44 89.23,-155.64\"/>\n",
       "</g>\n",
       "<!-- s0 -->\n",
       "<g id=\"node3\" class=\"node\">\n",
       "<title>s0</title>\n",
       "<ellipse fill=\"lightgrey\" stroke=\"black\" cx=\"135\" cy=\"-200\" rx=\"27\" ry=\"18\"/>\n",
       "<text text-anchor=\"start\" x=\"128.78\" y=\"-196.8\" font-family=\"Times,serif\" font-size=\"14.00\">s</text>\n",
       "<text text-anchor=\"start\" x=\"134.22\" y=\"-196.8\" font-family=\"Times,serif\" baseline-shift=\"sub\" font-size=\"14.00\">0</text>\n",
       "</g>\n",
       "<!-- s0&#45;&gt;g -->\n",
       "<g id=\"edge2\" class=\"edge\">\n",
       "<title>s0&#45;&gt;g</title>\n",
       "<path fill=\"none\" stroke=\"black\" d=\"M126.65,-182.76C122.29,-174.28 116.85,-163.71 111.96,-154.2\"/>\n",
       "<polygon fill=\"black\" stroke=\"black\" points=\"114.99,-152.44 107.3,-145.15 108.77,-155.64 114.99,-152.44\"/>\n",
       "</g>\n",
       "<!-- sigma -->\n",
       "<g id=\"node4\" class=\"node\">\n",
       "<title>sigma</title>\n",
       "<ellipse fill=\"lightgrey\" stroke=\"black\" cx=\"27\" cy=\"-128\" rx=\"27\" ry=\"18\"/>\n",
       "<text text-anchor=\"start\" x=\"23.11\" y=\"-123.8\" font-family=\"Times,serif\" font-size=\"14.00\">σ</text>\n",
       "</g>\n",
       "<!-- sigma&#45;&gt;Xn -->\n",
       "<g id=\"edge4\" class=\"edge\">\n",
       "<title>sigma&#45;&gt;Xn</title>\n",
       "<path fill=\"none\" stroke=\"black\" d=\"M35.35,-110.76C39.71,-102.28 45.15,-91.71 50.04,-82.2\"/>\n",
       "<polygon fill=\"black\" stroke=\"black\" points=\"53.23,-83.64 54.7,-73.15 47.01,-80.44 53.23,-83.64\"/>\n",
       "</g>\n",
       "</g>\n",
       "</svg>\n"
      ],
      "text/plain": [
       "<graphviz.dot.Digraph at 0x1a29dc8208>"
      ]
     },
     "execution_count": 52,
     "metadata": {},
     "output_type": "execute_result"
    }
   ],
   "source": [
    "gn = Digraph('infer_normal_mu')\n",
    "gn.node('g')\n",
    "gn.node('g0', label='<g<sub>0</sub>>', style='filled')\n",
    "gn.node('s0', label='<s<sub>0</sub>>', style='filled')\n",
    "gn.edge('g0', 'g')\n",
    "gn.edge('s0', 'g')\n",
    "gn.node('sigma', label='<&sigma;>', style='filled')\n",
    "with gn.subgraph(name='cluster_0') as sg:\n",
    "    sg.node('Xn', label='<X<sub>n</sub>>', style='filled')\n",
    "    sg.attr(label='n=1,...,N')\n",
    "    sg.attr(labelloc='b')\n",
    "gn.edge('g', 'Xn')\n",
    "gn.edge('sigma', 'Xn')\n",
    "gn.render('infer_normal_mu', format='png')\n",
    "gn"
   ]
  },
  {
   "cell_type": "markdown",
   "metadata": {},
   "source": [
    "We can directly condition on the variables that are at edges of the tree, $\\sigma, g_0$ and $s_0$.\n",
    "That is, you can just treat them as constants.\n",
    "The joint probability density of the rest conditioned on these known parameters is (we read it from the graph):\n",
    "$$\n",
    "\\begin{split}\n",
    "p(x_{1:N}, g|\\sigma, g_0, s_0) &=& p(x_{1:N}|g, \\sigma) p(g|g_0, s_0)\\\\\n",
    "&=& \\left(\\prod_{n=1}^Np(x_n|g, \\sigma)\\right) p(g|g_0, s_0)\\\\\n",
    "&=& \\left(\\prod_{n=1}^NN(x_n|g,\\sigma)\\right)N(g|g_0,s_0)\\\\\n",
    "&=& \\left(\\prod_{n=1}^N\\frac{1}{\\sqrt{2\\pi}\\sigma}\\exp\\left\\{-\\frac{(x_n-g)^2}{2\\sigma^2}\\right\\}\\right)\\frac{1}{\\sqrt{2\\pi}s_0}\\exp\\left\\{-\\frac{(g-g_0)^2}{2s_0^2}\\right\\}\\\\\n",
    "&\\propto& \\exp\\left\\{-\\frac{\\sum_{n=1}^N(x_n-g)^2}{2\\sigma^2}-\\frac{(g-g_0)^2}{2s_0^2}\\right\\},\n",
    "\\end{split}\n",
    "$$\n",
    "where we have ignored all proportionality constants for convenience.\n",
    "\n",
    "From Bayes' rule, we have that our posterior state of knowledge:\n",
    "$$\n",
    "\\begin{split}\n",
    "p(g|x_{1:N}, \\sigma, g_0, s_0) &=& \\frac{p(x_{1:N}, g|\\sigma, g_0, s_0)}{p(x_{1:N}|\\sigma, g_0, s_0)}\\\\\n",
    "&\\propto& p(x_{1:N}, g|\\sigma, g_0, s_0)\\\\\n",
    "&\\propto& \\exp\\left\\{-\\frac{\\sum_{n=1}^N(x_n-g)^2}{2\\sigma^2}-\\frac{(g-g_0)^2}{2s_0^2}\\right\\}.\n",
    "\\end{split}\n",
    "$$\n",
    "\n",
    "That's pretty much the answer without the normalization constant.\n",
    "But in this particular case, we can actually match this posterior to a normal distribution by following a technique known as \"completing the square.\"\n",
    "It is straightfoward, but it takes a little bit of algebra.\n",
    "You take whatever is inside the exponentials and you try to form something like $(g-g')^2$ for some $g'$, whatever it turns out to be.\n",
    "Let's try it out (you can lump into an additive \"const\" everything that doesn't depend on $g$):\n",
    "$$\n",
    "\\begin{split}\n",
    "\\frac{\\sum_{n=1}^N(x_n-g)^2}{2\\sigma^2}+\\frac{(g-g_0)^2}{2s_0^2} &=&\n",
    "\\frac{s_0^2 \\sum_{n=1}^N(x_n-g)^2 + \\sigma^2 (g-g_0)^2}{2\\sigma^2s_0^2}\\\\\n",
    "&=& \\frac{s_0^2 N g^2 - 2s_0^2g\\sum_{n=1}^Nx_n + s_0^2\\sum_{n=1}^Nx_n + \\sigma^2 g^2 - 2\\sigma^2 gg_0 + \\sigma^2g_0^2}{2\\sigma^2s_0^2}\\\\\n",
    "&=& \\frac{g^2(s_0^2 N + \\sigma^2) - 2 g (s_0^2\\sum_{n=1}^Nx_n + \\sigma^2 g_0)}{2\\sigma^2s_0^2}+\\text{const}\\\\\n",
    "&=& \\frac{g^2 - 2 g(s_0^2\\sum_{n=1}^Nx_n + \\sigma^2 g_0)(s_0^2 N + \\sigma^2)^{-1}}{2\\sigma^2s_0^2(s_0^2 N + \\sigma^2)^{-1}} + \\text{const}\\\\\n",
    "&=& \\frac{g^2 - 2 g \\frac{1}{\\frac{N}{\\sigma^2} + \\frac{1}{s_0^2}}\\left(\\frac{g_0}{s_0^2} + \\frac{\\sum_{n=1}^Nx_n}{\\sigma^2}\\right)}{2\\left(\\frac{1}{s_0^2} + \\frac{N}{\\sigma^2}\\right)^{-1}} + \\text{const}.\n",
    "\\end{split}\n",
    "$$\n",
    "Ok, it takes a bit more algebra than usual.\n",
    "Now, we put this back into the exponential (with the minus sign in front of it), and we observe that it gives a normal for the posterior:\n",
    "$$\n",
    "p(g|x_{1:N}, \\sigma, g_0, s_0) = N\\left(g\\middle| \\frac{1}{\\frac{N}{\\sigma^2} + \\frac{1}{s_0^2}}\\left(\\frac{g_0}{s_0^2} + \\frac{\\sum_{n=1}^Nx_n}{\\sigma^2}\\right),\n",
    "\\left(\\frac{1}{s_0^2} + \\frac{N}{\\sigma^2}\\right)^{-1}\n",
    "\\right).\n",
    "$$\n",
    "Not very pretty. But it is what it is. Let's experiment with this."
   ]
  },
  {
   "cell_type": "code",
   "execution_count": 53,
   "metadata": {},
   "outputs": [
    {
     "data": {
      "text/plain": [
       "<matplotlib.legend.Legend at 0x1a29fe67f0>"
      ]
     },
     "execution_count": 53,
     "metadata": {},
     "output_type": "execute_result"
    },
    {
     "data": {
      "image/png": "[encoded data removed]",
      "text/plain": [
       "<Figure size 432x288 with 1 Axes>"
      ]
     },
     "metadata": {
      "needs_background": "light"
     },
     "output_type": "display_data"
    }
   ],
   "source": [
    "# Get the true acceleration of gravity from scipy\n",
    "import scipy.constants\n",
    "g_true = scipy.constants.g\n",
    "# Generate some synthetic data\n",
    "N = 10\n",
    "sigma = 0.2\n",
    "gs = g_true + sigma * np.random.randn(N)\n",
    "fig, ax = plt.subplots()\n",
    "ax.plot(gs, 'o', label='Data')\n",
    "ax.plot(range(N), [g_true] * N, 'r--', label='True $g$')\n",
    "ax.set_xlabel('$n$')\n",
    "ax.set_ylabel('$x_n$')\n",
    "plt.legend(loc='best')"
   ]
  },
  {
   "cell_type": "code",
   "execution_count": 54,
   "metadata": {},
   "outputs": [
    {
     "name": "stdout",
     "output_type": "stream",
     "text": [
      "The posterior of g is N(9.83, (0.06)^2)\n"
     ]
    }
   ],
   "source": [
    "# Our prior state of knowledge\n",
    "g0 = 9.8\n",
    "s0 = 0.2\n",
    "G_prior = st.norm(g0, s0)\n",
    "# We shoed that the posterior for g conditioned on data is a Gaussian with mean\n",
    "gn = 1.0 / (N / sigma ** 2 + 1.0 / s0 ** 2) * (g0 / s0 ** 2 + gs.sum() / sigma ** 2)\n",
    "# And standard deviation\n",
    "sigman = np.sqrt(1.0 / (1.0 / s0 ** 2 + N / sigma ** 2))\n",
    "print('The posterior of g is N({0:1.2f}, ({1:1.2f})^2)'.format(gn, sigman))"
   ]
  },
  {
   "cell_type": "code",
   "execution_count": 55,
   "metadata": {},
   "outputs": [
    {
     "data": {
      "image/png": "[encoded data removed]",
      "text/plain": [
       "<Figure size 432x288 with 1 Axes>"
      ]
     },
     "metadata": {
      "needs_background": "light"
     },
     "output_type": "display_data"
    }
   ],
   "source": [
    "# Let's draw this\n",
    "G_post = st.norm(gn, sigman)\n",
    "fig, ax = plt.subplots()\n",
    "ggs = np.linspace(g0 - 6.0 * s0, g0 + 6.0 * s0, 100)\n",
    "ax.plot(ggs, G_prior.pdf(ggs), label='prior')\n",
    "ax.plot(gs, np.zeros(gs.shape), 'x', label='data')\n",
    "ax.plot(ggs, G_post.pdf(ggs), label='posterior')\n",
    "ax.plot([g_true], [0.0], 'ro', label='True $g$')\n",
    "plt.legend(loc='best');"
   ]
  },
  {
   "cell_type": "code",
   "execution_count": 56,
   "metadata": {},
   "outputs": [
    {
     "name": "stdout",
     "output_type": "stream",
     "text": [
      "g is in [9.71, 9.94] with 95% probability\n"
     ]
    }
   ],
   "source": [
    "# Let's get a predictive interval:\n",
    "g_025 = G_post.ppf(0.025)\n",
    "g_975 = G_post.ppf(0.975)\n",
    "print('g is in [{0:1.2f}, {1:1.2f}] with 95% probability'.format(g_025, g_975))"
   ]
  },
  {
   "cell_type": "markdown",
   "metadata": {},
   "source": [
    "### Questions\n",
    "\n",
    "+ Experiment with the a very wrong prior knowledge, say $g_0 = 5$. Try at least a case where you are wrong but not very sure $s_0 = 1.0$ and a case where you are wrong and very sure $s_0 = 0.01$.\n",
    "In both cases, increase $N$ until you get close enough to the true value of $g$."
   ]
  }
 ],
 "metadata": {
  "anaconda-cloud": {},
  "kernelspec": {
   "display_name": "Python 3",
   "language": "python",
   "name": "python3"
  },
  "language_info": {
   "codemirror_mode": {
    "name": "ipython",
    "version": 3
   },
   "file_extension": ".py",
   "mimetype": "text/x-python",
   "name": "python",
   "nbconvert_exporter": "python",
   "pygments_lexer": "ipython3",
   "version": "3.6.8"
  },
  "latex_envs": {
   "bibliofile": "biblio.bib",
   "cite_by": "apalike",
   "current_citInitial": 1,
   "eqLabelWithNumbers": true,
   "eqNumInitial": 0
  },
  "widgets": {
   "state": {
    "968a18c908c6495081a9936faebe0473": {
     "views": [
      {
       "cell_index": 11
      }
     ]
    }
   },
   "version": "1.2.0"
  }
 },
 "nbformat": 4,
 "nbformat_minor": 2
}
