{
 "cells": [
  {
   "cell_type": "markdown",
   "metadata": {},
   "source": [
    "# Lecture 24 - Sequential Monte Carlo in `PyMC3`"
   ]
  },
  {
   "cell_type": "code",
   "execution_count": 4,
   "metadata": {},
   "outputs": [],
   "source": [
    "import numpy as np\n",
    "import pymc3 as pm\n",
    "import theano as T\n",
    "from theano import shared, function, tensor as tt\n",
    "\n",
    "try:\n",
    "    import sympy\n",
    "except:\n",
    "    _=!pip install sympy\n",
    "    import sympy\n",
    "\n",
    "import matplotlib.pyplot as plt \n",
    "import seaborn as sns\n",
    "sns.set()\n",
    "\n",
    "import logging\n",
    "\n",
    "%matplotlib inline "
   ]
  },
  {
   "cell_type": "markdown",
   "metadata": {},
   "source": [
    "## Objectives\n",
    "\n",
    "+ Compute the model evidence using `PyMC3`.\n",
    "+ Do model selection with `PyMC3`."
   ]
  },
  {
   "cell_type": "markdown",
   "metadata": {},
   "source": [
    "## Sanity check - Does the calculation of the evidence with PySMC work?\n",
    "\n",
    "Let\n",
    "$$\n",
    "p(\\theta) = \\mathcal{N}(\\theta|0, 1),\n",
    "$$\n",
    "and\n",
    "$$\n",
    "p(y|\\theta) = \\mathcal{N}(y|\\theta,0).\n",
    "$$\n",
    "The posterior of $\\theta$ given $y$ is:\n",
    "$$\n",
    "p(\\theta|y) = \\frac{p(y|\\theta)p(\\theta)}{Z},\n",
    "$$\n",
    "where\n",
    "$$\n",
    "Z = \\int_{-\\infty}^{\\infty} p(y|\\theta)p(\\theta)d\\theta.\n",
    "$$\n",
    "Let's first calculate $Z$ analytically."
   ]
  },
  {
   "cell_type": "code",
   "execution_count": 5,
   "metadata": {},
   "outputs": [
    {
     "data": {
      "image/png": "[encoded data removed]",
      "text/latex": [
       "$\\displaystyle \\frac{0.5 e^{- 0.25 y^{2}}}{\\sqrt{\\pi}}$"
      ],
      "text/plain": [
       "            2\n",
       "     -0.25⋅y \n",
       "0.5⋅ℯ        \n",
       "─────────────\n",
       "      √π     "
      ]
     },
     "execution_count": 5,
     "metadata": {},
     "output_type": "execute_result"
    }
   ],
   "source": [
    "import sympy.stats\n",
    "sympy.init_printing()\n",
    "y, t = sympy.symbols('y \\\\theta')\n",
    "q = 1. / sympy.sqrt(2. * sympy.pi) * sympy.exp(-0.5 * (y - t) ** 2) * \\\n",
    "    1. / sympy.sqrt(2. * sympy.pi) * sympy.exp(-0.5 * t ** 2)\n",
    "sympy.simplify(sympy.integrate(q, (t, -sympy.oo, sympy.oo)))"
   ]
  },
  {
   "cell_type": "markdown",
   "metadata": {},
   "source": [
    "So, if the observed $y$ was zero, then the Z should be:\n",
    "$$\n",
    "Z = \\frac{1}{2\\sqrt{\\pi}}.\n",
    "$$"
   ]
  },
  {
   "cell_type": "code",
   "execution_count": 7,
   "metadata": {},
   "outputs": [
    {
     "name": "stdout",
     "output_type": "stream",
     "text": [
      "log Z = -1.266\n"
     ]
    }
   ],
   "source": [
    "Z = 1 /  2. / np.sqrt(np.pi)\n",
    "print('log Z = {0:.3f}'.format(np.log(Z)))"
   ]
  },
  {
   "cell_type": "markdown",
   "metadata": {},
   "source": [
    "All, right. Now, let's program this thing in pysmc and compare the results.\n",
    "\n",
    "We start with the model:"
   ]
  },
  {
   "cell_type": "code",
   "execution_count": 59,
   "metadata": {},
   "outputs": [
    {
     "name": "stderr",
     "output_type": "stream",
     "text": [
      "Sample initial stage: ...\n",
      "Stage:   0 Beta: 1.000 Steps:  25 Acce: 1.000\n"
     ]
    }
   ],
   "source": [
    "model = pm.Model()\n",
    "yobs = 0.\n",
    "with model:\n",
    "    # prior over theta \n",
    "    theta = pm.Normal('theta', mu=0., sigma=1.,testval=0.)\n",
    "    \n",
    "    # log likelihood \n",
    "    llk = pm.Potential('llk', pm.Normal.dist(theta, 1.).logp(yobs))\n",
    "    \n",
    "    trace, smcres = pm.sample_smc(1000)"
   ]
  },
  {
   "cell_type": "code",
   "execution_count": 67,
   "metadata": {},
   "outputs": [
    {
     "name": "stdout",
     "output_type": "stream",
     "text": [
      "True log evidence: -1.2655 \n",
      "SMC log evidence: -1.2839\n"
     ]
    }
   ],
   "source": [
    "# get the model evidence \n",
    "log_evidence_smc = np.log(smcres.model.marginal_likelihood)\n",
    "print('True log evidence: %.4f \\nSMC log evidence: %.4f'%(np.log(Z), log_evidence_smc))"
   ]
  },
  {
   "cell_type": "markdown",
   "metadata": {},
   "source": [
    "Which is close to the truth."
   ]
  },
  {
   "cell_type": "markdown",
   "metadata": {},
   "source": [
    "### Questions\n",
    "\n",
    "+ Repeat the calculations above for a varying number of SMC particles. Start from 10 and go up to 10,000."
   ]
  },
  {
   "cell_type": "markdown",
   "metadata": {},
   "source": [
    "## Polynomial Regression"
   ]
  },
  {
   "cell_type": "code",
   "execution_count": 115,
   "metadata": {},
   "outputs": [],
   "source": [
    "def compute_design_matrix(X, phi):\n",
    "    \"\"\"\n",
    "    Arguments:\n",
    "    \n",
    "    X   -  The observed inputs (1D array)\n",
    "    phi -  The basis functions.\n",
    "    \"\"\"\n",
    "    num_observations = X.shape[0]\n",
    "    num_basis = phi.num_basis\n",
    "    Phi = np.ndarray((num_observations, num_basis))\n",
    "    for i in range(num_observations):\n",
    "        Phi[i, :] = phi(X[i, :])\n",
    "    return Phi\n",
    "\n",
    "class PolynomialBasis(object):\n",
    "    \"\"\"\n",
    "    A set of linear basis functions.\n",
    "    \n",
    "    Arguments:\n",
    "    degree  -  The degree of the polynomial.\n",
    "    \"\"\"\n",
    "    def __init__(self, degree):\n",
    "        self.degree = degree\n",
    "        self.num_basis = degree + 1\n",
    "    def __call__(self, x):\n",
    "        return np.array([x[0] ** i for i in range(self.degree + 1)])\n",
    "    \n",
    "\n",
    "class FourierBasis(object):\n",
    "    \"\"\"\n",
    "    A set of linear basis functions.\n",
    "    \n",
    "    Arguments:\n",
    "    num_terms  -  The number of Fourier terms.\n",
    "    L          -  The period of the function.\n",
    "    \"\"\"\n",
    "    def __init__(self, num_terms, L):\n",
    "        self.num_terms = num_terms\n",
    "        self.L = L\n",
    "        self.num_basis = 2 * num_terms\n",
    "    def __call__(self, x):\n",
    "        res = np.ndarray((self.num_basis,))\n",
    "        for i in range(num_terms):\n",
    "            res[2 * i] = np.cos(2 * i * np.pi / self.L * x[0])\n",
    "            res[2 * i + 1] = np.sin(2 * (i+1) * np.pi / self.L * x[0])\n",
    "        return res\n",
    "    \n",
    "\n",
    "class RadialBasisFunctions(object):\n",
    "    \"\"\"\n",
    "    A set of linear basis functions.\n",
    "    \n",
    "    Arguments:\n",
    "    X   -  The centers of the radial basis functions.\n",
    "    ell -  The assumed lengthscale.\n",
    "    \"\"\"\n",
    "    def __init__(self, X, ell):\n",
    "        self.X = X\n",
    "        self.ell = ell\n",
    "        self.num_basis = X.shape[0]\n",
    "    def __call__(self, x):\n",
    "        return np.exp(-.5 * (x - self.X) ** 2 / self.ell ** 2).flatten()"
   ]
  },
  {
   "cell_type": "markdown",
   "metadata": {},
   "source": [
    "Let's generate some fake data."
   ]
  },
  {
   "cell_type": "code",
   "execution_count": 114,
   "metadata": {},
   "outputs": [
    {
     "data": {
      "image/png": "[encoded data removed]",
      "text/plain": [
       "<Figure size 576x432 with 1 Axes>"
      ]
     },
     "metadata": {
      "needs_background": "light"
     },
     "output_type": "display_data"
    }
   ],
   "source": [
    "np.random.seed(12345)\n",
    "def getdata(N, sigma2):\n",
    "    X = 2 * np.random.rand(N) - 1.\n",
    "    y = 0.5 * X  ** 3 - 0.3 * X ** 2 + np.sqrt(sigma2) * np.random.rand(N)\n",
    "    return X, y\n",
    "\n",
    "num_samples = 50\n",
    "sigma2 = 1e-3\n",
    "X, y = getdata(num_samples, sigma2)\n",
    "plt.figure(figsize=(8, 6))\n",
    "plt.plot(X, y, 'o', markeredgewidth=2, label='Data')\n",
    "plt.xlabel('$x$', fontsize=20)\n",
    "plt.ylabel('$y$', fontsize=20)\n",
    "plt.legend(loc='best', fontsize=20)\n",
    "plt.tight_layout()"
   ]
  },
  {
   "cell_type": "markdown",
   "metadata": {},
   "source": [
    "We are going to implement a standard Bayesian linear regression and train it with `PyMC3`.\n",
    "We will compute the evidence in order to select the best class of basis functions.\n",
    "The model is as follows:\n",
    "\n",
    "The output $y$ conditioned on the input $x$, the weights of the basis functions $w$ and\n",
    "the noise variance $\\sigma^2$ has likelihood:\n",
    "$$\n",
    "p(y|x,w,\\sigma, \\mathcal{M}) = \\mathcal{N}(y|w^T\\phi_{\\mathcal{M}}(x), \\sigma^2),\n",
    "$$\n",
    "where $\\phi_{\\mathcal{M},1}(\\cdot), \\dots, \\phi_{\\mathcal{M},m_{\\mathcal{M}}}(\\cdot)$ are the\n",
    "$m_{\\mathcal{M}}$ basis functions of the model $\\mathcal{M}$.\n",
    "We put a normal prior on the weights:\n",
    "$$\n",
    "p(w|\\alpha) = \\mathcal{N}(w|0, \\alpha I_{m_{\\mathcal{M}}}),\n",
    "$$\n",
    "and an inverse Gamma prior for $\\sigma$ and $\\alpha$:\n",
    "$$\n",
    "p(\\sigma^2) = \\mathrm{IG}(\\sigma^2|1, 1),\n",
    "$$\n",
    "and\n",
    "$$\n",
    "p(\\alpha) = \\mathrm{IG}(\\alpha|1,1).\n",
    "$$\n",
    "\n",
    "Assume that the data we have observed are:\n",
    "$$\n",
    "x_{1:n} = \\{x_1,\\dots,x_n\\},\\;\\mathrm{and}\\;y_{1:n} = \\{y_1,\\dots,y_n\\}.\n",
    "$$\n",
    "Consider the design matrix $\\Phi_{\\mathcal{M}}\\in\\mathbb{R}^{n\\times m}$:\n",
    "$$\n",
    "\\Phi_{\\mathcal{M},ij} = \\phi_{\\mathcal{M},j}(x_i).\n",
    "$$\n",
    "The likelihood of the data is:\n",
    "$$\n",
    "p(y_{1:n} | x_{1:n}, w, \\sigma, \\mathcal{M}) = \\mathcal{N}(y_{1:n}|\\Phi_{\\mathcal{M}}w, \\sigma^2I_n).\n",
    "$$\n",
    "Let's turn this into `PyMC3` code."
   ]
  },
  {
   "cell_type": "code",
   "execution_count": 160,
   "metadata": {},
   "outputs": [],
   "source": [
    "def make_model(Phi, y):\n",
    "    \"\"\"\n",
    "    INPUTS:\n",
    "        Phi -> Design matrix.\n",
    "        y   -> Target vector. \n",
    "        \n",
    "    RETURNS:\n",
    "        model -> `pymc3.model` context.\n",
    "    \"\"\"\n",
    "    num_data, num_features = Phi.shape\n",
    "    \n",
    "    # define the model \n",
    "    with pm.Model() as model:\n",
    "        # prior on the weights \n",
    "        alpha = pm.InverseGamma('alpha', alpha=1., beta=1.)\n",
    "        w = pm.Normal('w', mu=0., tau=alpha, shape=num_features)\n",
    "        \n",
    "        # prior on the likelihood noise variance \n",
    "        sigma2 = pm.InverseGamma('sigma2', alpha=5., beta=0.1)\n",
    "        \n",
    "        # the data likelihood mean \n",
    "        ymean = pm.Deterministic('ymean', tt.dot(Phi, w))\n",
    "        \n",
    "        # likelihood \n",
    "        y = pm.Normal('y', ymean, sigma2, shape=num_data, observed=y)\n",
    "        #llk = pm.Potential('llk', pm.Normal.dist(ymean, tt.sqrt(sigma2)).logp_sum(y))\n",
    "    return model"
   ]
  },
  {
   "cell_type": "markdown",
   "metadata": {},
   "source": [
    "Now, let's create a function that trains the model using pysmc for a polynomial basis with a given order."
   ]
  },
  {
   "cell_type": "code",
   "execution_count": 181,
   "metadata": {
    "scrolled": true
   },
   "outputs": [
    {
     "name": "stderr",
     "output_type": "stream",
     "text": [
      "Sample initial stage: ...\n",
      "Stage:   0 Beta: 0.000 Steps:  25 Acce: 1.000\n",
      "100%|██████████| 100/100 [00:00<00:00, 1046.69it/s]\n",
      "Stage:   1 Beta: 0.000 Steps:  25 Acce: 0.174\n",
      "100%|██████████| 100/100 [00:00<00:00, 1069.99it/s]\n",
      "Stage:   2 Beta: 0.000 Steps:  24 Acce: 0.203\n",
      "100%|██████████| 100/100 [00:00<00:00, 1298.73it/s]\n",
      "Stage:   3 Beta: 0.000 Steps:  20 Acce: 0.236\n",
      "100%|██████████| 100/100 [00:00<00:00, 1524.57it/s]\n",
      "Stage:   4 Beta: 0.000 Steps:  17 Acce: 0.228\n",
      "100%|██████████| 100/100 [00:00<00:00, 1511.62it/s]\n",
      "Stage:   5 Beta: 0.001 Steps:  17 Acce: 0.275\n",
      "100%|██████████| 100/100 [00:00<00:00, 1831.06it/s]\n",
      "Stage:   6 Beta: 0.001 Steps:  14 Acce: 0.276\n",
      "100%|██████████| 100/100 [00:00<00:00, 1822.83it/s]\n",
      "Stage:   7 Beta: 0.002 Steps:  14 Acce: 0.243\n",
      "100%|██████████| 100/100 [00:00<00:00, 1607.01it/s]\n",
      "Stage:   8 Beta: 0.003 Steps:  16 Acce: 0.240\n",
      "100%|██████████| 100/100 [00:00<00:00, 1587.45it/s]\n",
      "Stage:   9 Beta: 0.005 Steps:  16 Acce: 0.237\n",
      "100%|██████████| 100/100 [00:00<00:00, 1527.51it/s]\n",
      "Stage:  10 Beta: 0.009 Steps:  17 Acce: 0.205\n",
      "100%|██████████| 100/100 [00:00<00:00, 1255.43it/s]\n",
      "Stage:  11 Beta: 0.014 Steps:  20 Acce: 0.209\n",
      "100%|██████████| 100/100 [00:00<00:00, 1282.91it/s]\n",
      "Stage:  12 Beta: 0.022 Steps:  19 Acce: 0.224\n",
      "100%|██████████| 100/100 [00:00<00:00, 1411.69it/s]\n",
      "Stage:  13 Beta: 0.032 Steps:  18 Acce: 0.285\n",
      "100%|██████████| 100/100 [00:00<00:00, 1967.46it/s]\n",
      "Stage:  14 Beta: 0.046 Steps:  13 Acce: 0.265\n",
      "100%|██████████| 100/100 [00:00<00:00, 1789.54it/s]\n",
      "Stage:  15 Beta: 0.061 Steps:  14 Acce: 0.261\n",
      "100%|██████████| 100/100 [00:00<00:00, 1586.50it/s]\n",
      "Stage:  16 Beta: 0.079 Steps:  15 Acce: 0.236\n",
      "100%|██████████| 100/100 [00:00<00:00, 1502.38it/s]\n",
      "Stage:  17 Beta: 0.104 Steps:  17 Acce: 0.304\n",
      "100%|██████████| 100/100 [00:00<00:00, 2120.71it/s]\n",
      "Stage:  18 Beta: 0.133 Steps:  12 Acce: 0.299\n",
      "100%|██████████| 100/100 [00:00<00:00, 2060.28it/s]\n",
      "Stage:  19 Beta: 0.167 Steps:  12 Acce: 0.316\n",
      "100%|██████████| 100/100 [00:00<00:00, 1918.95it/s]\n",
      "Stage:  20 Beta: 0.214 Steps:  12 Acce: 0.329\n",
      "100%|██████████| 100/100 [00:00<00:00, 2257.64it/s]\n",
      "Stage:  21 Beta: 0.264 Steps:  11 Acce: 0.312\n",
      "100%|██████████| 100/100 [00:00<00:00, 2107.66it/s]\n",
      "Stage:  22 Beta: 0.336 Steps:  12 Acce: 0.295\n",
      "100%|██████████| 100/100 [00:00<00:00, 1907.96it/s]\n",
      "Stage:  23 Beta: 0.440 Steps:  13 Acce: 0.302\n",
      "100%|██████████| 100/100 [00:00<00:00, 2032.32it/s]\n",
      "Stage:  24 Beta: 0.552 Steps:  12 Acce: 0.229\n",
      "100%|██████████| 100/100 [00:00<00:00, 1374.51it/s]\n",
      "Stage:  25 Beta: 0.716 Steps:  17 Acce: 0.270\n",
      "100%|██████████| 100/100 [00:00<00:00, 1605.83it/s]\n",
      "Stage:  26 Beta: 0.947 Steps:  14 Acce: 0.255\n",
      "100%|██████████| 100/100 [00:00<00:00, 1530.08it/s]\n",
      "Stage:  27 Beta: 1.000 Steps:  15 Acce: 0.269\n",
      "100%|██████████| 100/100 [00:00<00:00, 1801.93it/s]\n"
     ]
    }
   ],
   "source": [
    "def fit_poly(phi, X, y, num_particles=100):\n",
    "    \"\"\"\n",
    "    \n",
    "    RETURNS:\n",
    "        1. An instance of pymc3.Model for the SMC model.\n",
    "        2. The SMC trace.\n",
    "        3. An instance of pymc3.smc.SMC containing sampling information.\n",
    "    \"\"\"\n",
    "    Phi = compute_design_matrix(X[:, None], phi)\n",
    "    smcmodel = make_model(Phi, y)\n",
    "    trace, res = pm.sample_smc(draws=num_particles, \n",
    "                         model=smcmodel, \n",
    "                         progressbar=True, \n",
    "                         threshold=0.8)\n",
    "    return model, trace, res\n",
    "\n",
    "phi = PolynomialBasis(3)\n",
    "model, trace, res = fit_poly(phi, X, y)"
   ]
  },
  {
   "cell_type": "markdown",
   "metadata": {},
   "source": [
    "### Postprocessing \n",
    "\n",
    "Once you have the `trace` object for the SMC simulation you can apply all the standard postprocessing tools from `PyMC3` as usual. "
   ]
  },
  {
   "cell_type": "markdown",
   "metadata": {},
   "source": [
    "Here's the posterior distribution over the weights precision and the the likelihood noise, $\\alpha$ and $\\sigma^2$ respectively:"
   ]
  },
  {
   "cell_type": "code",
   "execution_count": 200,
   "metadata": {},
   "outputs": [
    {
     "data": {
      "image/png": "[encoded data removed]",
      "text/plain": [
       "<Figure size 993.6x331.2 with 2 Axes>"
      ]
     },
     "metadata": {
      "needs_background": "light"
     },
     "output_type": "display_data"
    }
   ],
   "source": [
    "_=pm.plot_posterior(trace, var_names=['alpha', 'sigma2'])"
   ]
  },
  {
   "cell_type": "markdown",
   "metadata": {},
   "source": [
    "Here's the posterior predictive mean of the output $y$, i.e., $\\mathbb{E}[y|x, w, \\sigma]$:"
   ]
  },
  {
   "cell_type": "code",
   "execution_count": 201,
   "metadata": {},
   "outputs": [
    {
     "name": "stderr",
     "output_type": "stream",
     "text": [
      "100%|██████████| 100/100 [00:00<00:00, 3727.18it/s]\n"
     ]
    },
    {
     "data": {
      "image/png": "[encoded data removed]",
      "text/plain": [
       "<Figure size 720x576 with 1 Axes>"
      ]
     },
     "metadata": {
      "needs_background": "light"
     },
     "output_type": "display_data"
    }
   ],
   "source": [
    "ppsamples = pm.sample_posterior_predictive(model=model, \n",
    "                               trace=trace, var_names=['ymean'])['ymean']\n",
    "\n",
    "idx = np.argsort(X)\n",
    "plt.figure(figsize=(10, 8))\n",
    "plt.plot(X[idx], ppsamples.mean(0)[idx], linewidth=2.5, label='Posterior Predictive Mean' )\n",
    "plt.plot(X, y, 'x', markeredgewidth=2.5, markersize=10, label='Observed data')\n",
    "\n",
    "plt.legend(loc='best', fontsize=20)\n",
    "plt.tight_layout()"
   ]
  },
  {
   "cell_type": "markdown",
   "metadata": {},
   "source": [
    "SMC does a particle approximation of the posterior distribution. The particles themselves can be obtained from the `trace` object and the particle weights can be obtained from the  `res` object. \n",
    "\n",
    "Recall that the approximate posterior distribution is of the form $p(\\theta|\\mathcal{D}) = \\sum_{j=1}^{N} w_j \\delta(\\theta - \\theta_j)$."
   ]
  },
  {
   "cell_type": "code",
   "execution_count": 205,
   "metadata": {},
   "outputs": [],
   "source": [
    "particles_w = trace.w\n",
    "particles_alpha = trace.alpha\n",
    "particle_weights = res.weights   # <- these are the ws from the above equation"
   ]
  },
  {
   "cell_type": "markdown",
   "metadata": {},
   "source": [
    "## Model comparison"
   ]
  },
  {
   "cell_type": "markdown",
   "metadata": {},
   "source": [
    "Since SMC can approximate the model evidence it provides a principled way of comparing models. Let's compare 5 different polynomial regression models where we change the degree of the polynomial from 1 to 5. "
   ]
  },
  {
   "cell_type": "code",
   "execution_count": 191,
   "metadata": {
    "scrolled": true
   },
   "outputs": [
    {
     "name": "stderr",
     "output_type": "stream",
     "text": [
      "Sample initial stage: ...\n",
      "Stage:   0 Beta: 0.000 Steps:  25 Acce: 1.000\n",
      "100%|██████████| 500/500 [00:00<00:00, 1033.05it/s]\n",
      "Stage:   1 Beta: 0.000 Steps:  25 Acce: 0.280\n",
      "100%|██████████| 500/500 [00:00<00:00, 1802.62it/s]\n",
      "Stage:   2 Beta: 0.000 Steps:  14 Acce: 0.267\n",
      "100%|██████████| 500/500 [00:00<00:00, 1821.83it/s]\n",
      "Stage:   3 Beta: 0.000 Steps:  14 Acce: 0.264\n",
      "100%|██████████| 500/500 [00:00<00:00, 1691.76it/s]\n",
      "Stage:   4 Beta: 0.001 Steps:  15 Acce: 0.220\n",
      "100%|██████████| 500/500 [00:00<00:00, 1417.67it/s]\n",
      "Stage:   5 Beta: 0.001 Steps:  18 Acce: 0.234\n",
      "100%|██████████| 500/500 [00:00<00:00, 1527.72it/s]\n",
      "Stage:   6 Beta: 0.002 Steps:  17 Acce: 0.244\n",
      "100%|██████████| 500/500 [00:00<00:00, 1604.54it/s]\n",
      "Stage:   7 Beta: 0.004 Steps:  16 Acce: 0.257\n",
      "100%|██████████| 500/500 [00:00<00:00, 1721.23it/s]\n",
      "Stage:   8 Beta: 0.007 Steps:  15 Acce: 0.226\n",
      "100%|██████████| 500/500 [00:00<00:00, 1432.95it/s]\n",
      "Stage:   9 Beta: 0.011 Steps:  18 Acce: 0.232\n",
      "100%|██████████| 500/500 [00:00<00:00, 1521.32it/s]\n",
      "Stage:  10 Beta: 0.017 Steps:  17 Acce: 0.252\n",
      "100%|██████████| 500/500 [00:00<00:00, 1743.75it/s]\n",
      "Stage:  11 Beta: 0.028 Steps:  15 Acce: 0.231\n",
      "100%|██████████| 500/500 [00:00<00:00, 1538.07it/s]\n",
      "Stage:  12 Beta: 0.044 Steps:  17 Acce: 0.230\n",
      "100%|██████████| 500/500 [00:00<00:00, 1541.50it/s]\n",
      "Stage:  13 Beta: 0.071 Steps:  17 Acce: 0.270\n",
      "100%|██████████| 500/500 [00:00<00:00, 1833.17it/s]\n",
      "Stage:  14 Beta: 0.112 Steps:  14 Acce: 0.254\n",
      "100%|██████████| 500/500 [00:00<00:00, 1702.46it/s]\n",
      "Stage:  15 Beta: 0.175 Steps:  15 Acce: 0.252\n",
      "100%|██████████| 500/500 [00:00<00:00, 1715.19it/s]\n",
      "Stage:  16 Beta: 0.269 Steps:  15 Acce: 0.245\n",
      "100%|██████████| 500/500 [00:00<00:00, 1602.31it/s]\n",
      "Stage:  17 Beta: 0.423 Steps:  16 Acce: 0.260\n",
      "100%|██████████| 500/500 [00:00<00:00, 1715.03it/s]\n",
      "Stage:  18 Beta: 0.657 Steps:  15 Acce: 0.251\n",
      "100%|██████████| 500/500 [00:00<00:00, 1713.66it/s]\n",
      "Stage:  19 Beta: 1.000 Steps:  15 Acce: 0.249\n",
      "100%|██████████| 500/500 [00:00<00:00, 1571.18it/s]\n",
      "Sample initial stage: ...\n",
      "Stage:   0 Beta: 0.000 Steps:  25 Acce: 1.000\n",
      "100%|██████████| 500/500 [00:00<00:00, 1052.20it/s]\n",
      "Stage:   1 Beta: 0.000 Steps:  25 Acce: 0.215\n",
      "100%|██████████| 500/500 [00:00<00:00, 1393.37it/s]\n",
      "Stage:   2 Beta: 0.000 Steps:  19 Acce: 0.224\n",
      "100%|██████████| 500/500 [00:00<00:00, 1437.99it/s]\n",
      "Stage:   3 Beta: 0.000 Steps:  18 Acce: 0.242\n",
      "100%|██████████| 500/500 [00:00<00:00, 1579.58it/s]\n",
      "Stage:   4 Beta: 0.001 Steps:  16 Acce: 0.251\n",
      "100%|██████████| 500/500 [00:00<00:00, 1699.18it/s]\n",
      "Stage:   5 Beta: 0.001 Steps:  15 Acce: 0.211\n",
      "100%|██████████| 500/500 [00:00<00:00, 1350.14it/s]\n",
      "Stage:   6 Beta: 0.002 Steps:  19 Acce: 0.254\n",
      "100%|██████████| 500/500 [00:00<00:00, 1706.45it/s]\n",
      "Stage:   7 Beta: 0.003 Steps:  15 Acce: 0.238\n",
      "100%|██████████| 500/500 [00:00<00:00, 1605.83it/s]\n",
      "Stage:   8 Beta: 0.005 Steps:  16 Acce: 0.212\n",
      "100%|██████████| 500/500 [00:00<00:00, 1360.17it/s]\n",
      "Stage:   9 Beta: 0.008 Steps:  19 Acce: 0.208\n",
      "100%|██████████| 500/500 [00:00<00:00, 1365.56it/s]\n",
      "Stage:  10 Beta: 0.013 Steps:  19 Acce: 0.239\n",
      "100%|██████████| 500/500 [00:00<00:00, 1612.49it/s]\n",
      "Stage:  11 Beta: 0.021 Steps:  16 Acce: 0.259\n",
      "100%|██████████| 500/500 [00:00<00:00, 1708.48it/s]\n",
      "Stage:  12 Beta: 0.033 Steps:  15 Acce: 0.260\n",
      "100%|██████████| 500/500 [00:00<00:00, 1705.61it/s]\n",
      "Stage:  13 Beta: 0.050 Steps:  15 Acce: 0.255\n",
      "100%|██████████| 500/500 [00:00<00:00, 1692.62it/s]\n",
      "Stage:  14 Beta: 0.079 Steps:  15 Acce: 0.255\n",
      "100%|██████████| 500/500 [00:00<00:00, 1706.92it/s]\n",
      "Stage:  15 Beta: 0.117 Steps:  15 Acce: 0.265\n",
      "100%|██████████| 500/500 [00:00<00:00, 1834.52it/s]\n",
      "Stage:  16 Beta: 0.172 Steps:  14 Acce: 0.257\n",
      "100%|██████████| 500/500 [00:00<00:00, 1706.83it/s]\n",
      "Stage:  17 Beta: 0.257 Steps:  15 Acce: 0.277\n",
      "100%|██████████| 500/500 [00:00<00:00, 1812.56it/s]\n",
      "Stage:  18 Beta: 0.379 Steps:  14 Acce: 0.252\n",
      "100%|██████████| 500/500 [00:00<00:00, 1706.83it/s]\n",
      "Stage:  19 Beta: 0.558 Steps:  15 Acce: 0.252\n",
      "100%|██████████| 500/500 [00:00<00:00, 1710.45it/s]\n",
      "Stage:  20 Beta: 0.843 Steps:  15 Acce: 0.263\n",
      "100%|██████████| 500/500 [00:00<00:00, 1699.82it/s]\n",
      "Stage:  21 Beta: 1.000 Steps:  15 Acce: 0.253\n",
      "100%|██████████| 500/500 [00:00<00:00, 1638.36it/s]\n",
      "Sample initial stage: ...\n",
      "Stage:   0 Beta: 0.000 Steps:  25 Acce: 1.000\n",
      "100%|██████████| 500/500 [00:00<00:00, 1000.72it/s]\n",
      "Stage:   1 Beta: 0.000 Steps:  25 Acce: 0.191\n",
      "100%|██████████| 500/500 [00:00<00:00, 1243.10it/s]\n",
      "Stage:   2 Beta: 0.000 Steps:  21 Acce: 0.204\n",
      "100%|██████████| 500/500 [00:00<00:00, 1286.13it/s]\n",
      "Stage:   3 Beta: 0.000 Steps:  20 Acce: 0.201\n",
      "100%|██████████| 500/500 [00:00<00:00, 1304.60it/s]\n",
      "Stage:   4 Beta: 0.000 Steps:  20 Acce: 0.230\n",
      "100%|██████████| 500/500 [00:00<00:00, 1510.89it/s]\n",
      "Stage:   5 Beta: 0.001 Steps:  17 Acce: 0.220\n",
      "100%|██████████| 500/500 [00:00<00:00, 1443.76it/s]\n",
      "Stage:   6 Beta: 0.001 Steps:  18 Acce: 0.238\n",
      "100%|██████████| 500/500 [00:00<00:00, 1645.84it/s]\n",
      "Stage:   7 Beta: 0.002 Steps:  16 Acce: 0.223\n",
      "100%|██████████| 500/500 [00:00<00:00, 1470.39it/s]\n",
      "Stage:   8 Beta: 0.004 Steps:  18 Acce: 0.246\n",
      "100%|██████████| 500/500 [00:00<00:00, 1629.10it/s]\n",
      "Stage:   9 Beta: 0.006 Steps:  16 Acce: 0.237\n",
      "100%|██████████| 500/500 [00:00<00:00, 1536.84it/s]\n",
      "Stage:  10 Beta: 0.010 Steps:  17 Acce: 0.235\n",
      "100%|██████████| 500/500 [00:00<00:00, 1526.10it/s]\n",
      "Stage:  11 Beta: 0.016 Steps:  17 Acce: 0.266\n",
      "100%|██████████| 500/500 [00:00<00:00, 1834.64it/s]\n",
      "Stage:  12 Beta: 0.023 Steps:  14 Acce: 0.251\n",
      "100%|██████████| 500/500 [00:00<00:00, 1749.35it/s]\n",
      "Stage:  13 Beta: 0.033 Steps:  15 Acce: 0.238\n",
      "100%|██████████| 500/500 [00:00<00:00, 1643.73it/s]\n",
      "Stage:  14 Beta: 0.044 Steps:  16 Acce: 0.221\n",
      "100%|██████████| 500/500 [00:00<00:00, 1454.96it/s]\n",
      "Stage:  15 Beta: 0.057 Steps:  18 Acce: 0.234\n",
      "100%|██████████| 500/500 [00:00<00:00, 1516.56it/s]\n",
      "Stage:  16 Beta: 0.073 Steps:  17 Acce: 0.257\n",
      "100%|██████████| 500/500 [00:00<00:00, 1711.62it/s]\n",
      "Stage:  17 Beta: 0.092 Steps:  15 Acce: 0.310\n",
      "100%|██████████| 500/500 [00:00<00:00, 2113.19it/s]\n",
      "Stage:  18 Beta: 0.115 Steps:  12 Acce: 0.311\n",
      "100%|██████████| 500/500 [00:00<00:00, 2132.74it/s]\n",
      "Stage:  19 Beta: 0.144 Steps:  12 Acce: 0.317\n",
      "100%|██████████| 500/500 [00:00<00:00, 2123.00it/s]\n",
      "Stage:  20 Beta: 0.180 Steps:  12 Acce: 0.327\n",
      "100%|██████████| 500/500 [00:00<00:00, 2318.18it/s]\n",
      "Stage:  21 Beta: 0.227 Steps:  11 Acce: 0.321\n",
      "100%|██████████| 500/500 [00:00<00:00, 2334.30it/s]\n",
      "Stage:  22 Beta: 0.284 Steps:  11 Acce: 0.302\n",
      "100%|██████████| 500/500 [00:00<00:00, 2106.27it/s]\n",
      "Stage:  23 Beta: 0.354 Steps:  12 Acce: 0.263\n",
      "100%|██████████| 500/500 [00:00<00:00, 1720.74it/s]\n",
      "Stage:  24 Beta: 0.448 Steps:  15 Acce: 0.289\n",
      "100%|██████████| 500/500 [00:00<00:00, 1985.25it/s]\n",
      "Stage:  25 Beta: 0.574 Steps:  13 Acce: 0.271\n",
      "100%|██████████| 500/500 [00:00<00:00, 1842.34it/s]\n",
      "Stage:  26 Beta: 0.760 Steps:  14 Acce: 0.262\n",
      "100%|██████████| 500/500 [00:00<00:00, 1741.09it/s]\n",
      "Stage:  27 Beta: 1.000 Steps:  15 Acce: 0.253\n",
      "100%|██████████| 500/500 [00:00<00:00, 1723.45it/s]\n",
      "Sample initial stage: ...\n",
      "Stage:   0 Beta: 0.000 Steps:  25 Acce: 1.000\n",
      "100%|██████████| 500/500 [00:00<00:00, 1062.02it/s]\n",
      "Stage:   1 Beta: 0.000 Steps:  25 Acce: 0.177\n",
      "100%|██████████| 500/500 [00:00<00:00, 1120.46it/s]\n",
      "Stage:   2 Beta: 0.000 Steps:  23 Acce: 0.206\n",
      "100%|██████████| 500/500 [00:00<00:00, 1346.02it/s]\n",
      "Stage:   3 Beta: 0.000 Steps:  19 Acce: 0.210\n",
      "100%|██████████| 500/500 [00:00<00:00, 1382.19it/s]\n",
      "Stage:   4 Beta: 0.000 Steps:  19 Acce: 0.227\n",
      "100%|██████████| 500/500 [00:00<00:00, 1531.52it/s]\n",
      "Stage:   5 Beta: 0.001 Steps:  17 Acce: 0.226\n",
      "100%|██████████| 500/500 [00:00<00:00, 1446.57it/s]\n",
      "Stage:   6 Beta: 0.001 Steps:  18 Acce: 0.251\n",
      "100%|██████████| 500/500 [00:00<00:00, 1759.90it/s]\n",
      "Stage:   7 Beta: 0.002 Steps:  15 Acce: 0.261\n",
      "100%|██████████| 500/500 [00:00<00:00, 1726.56it/s]\n",
      "Stage:   8 Beta: 0.004 Steps:  15 Acce: 0.259\n",
      "100%|██████████| 500/500 [00:00<00:00, 1732.46it/s]\n",
      "Stage:   9 Beta: 0.006 Steps:  15 Acce: 0.247\n",
      "100%|██████████| 500/500 [00:00<00:00, 1639.83it/s]\n",
      "Stage:  10 Beta: 0.010 Steps:  16 Acce: 0.242\n",
      "100%|██████████| 500/500 [00:00<00:00, 1598.25it/s]\n",
      "Stage:  11 Beta: 0.016 Steps:  16 Acce: 0.251\n",
      "100%|██████████| 500/500 [00:00<00:00, 1721.25it/s]\n",
      "Stage:  12 Beta: 0.024 Steps:  15 Acce: 0.246\n"
     ]
    },
    {
     "name": "stderr",
     "output_type": "stream",
     "text": [
      "100%|██████████| 500/500 [00:00<00:00, 1601.16it/s]\n",
      "Stage:  13 Beta: 0.035 Steps:  16 Acce: 0.227\n",
      "100%|██████████| 500/500 [00:00<00:00, 1527.01it/s]\n",
      "Stage:  14 Beta: 0.048 Steps:  17 Acce: 0.282\n",
      "100%|██████████| 500/500 [00:00<00:00, 1967.20it/s]\n",
      "Stage:  15 Beta: 0.063 Steps:  13 Acce: 0.270\n",
      "100%|██████████| 500/500 [00:00<00:00, 1844.91it/s]\n",
      "Stage:  16 Beta: 0.080 Steps:  14 Acce: 0.277\n",
      "100%|██████████| 500/500 [00:00<00:00, 1838.81it/s]\n",
      "Stage:  17 Beta: 0.100 Steps:  14 Acce: 0.268\n",
      "100%|██████████| 500/500 [00:00<00:00, 1862.00it/s]\n",
      "Stage:  18 Beta: 0.124 Steps:  14 Acce: 0.302\n",
      "100%|██████████| 500/500 [00:00<00:00, 2137.77it/s]\n",
      "Stage:  19 Beta: 0.152 Steps:  12 Acce: 0.271\n",
      "100%|██████████| 500/500 [00:00<00:00, 1850.84it/s]\n",
      "Stage:  20 Beta: 0.187 Steps:  14 Acce: 0.270\n",
      "100%|██████████| 500/500 [00:00<00:00, 1836.02it/s]\n",
      "Stage:  21 Beta: 0.229 Steps:  14 Acce: 0.304\n",
      "100%|██████████| 500/500 [00:00<00:00, 2136.66it/s]\n",
      "Stage:  22 Beta: 0.280 Steps:  12 Acce: 0.303\n",
      "100%|██████████| 500/500 [00:00<00:00, 2145.00it/s]\n",
      "Stage:  23 Beta: 0.347 Steps:  12 Acce: 0.289\n",
      "100%|██████████| 500/500 [00:00<00:00, 1982.91it/s]\n",
      "Stage:  24 Beta: 0.432 Steps:  13 Acce: 0.276\n",
      "100%|██████████| 500/500 [00:00<00:00, 1859.86it/s]\n",
      "Stage:  25 Beta: 0.544 Steps:  14 Acce: 0.275\n",
      "100%|██████████| 500/500 [00:00<00:00, 1856.09it/s]\n",
      "Stage:  26 Beta: 0.697 Steps:  14 Acce: 0.257\n",
      "100%|██████████| 500/500 [00:00<00:00, 1758.85it/s]\n",
      "Stage:  27 Beta: 0.889 Steps:  15 Acce: 0.260\n",
      "100%|██████████| 500/500 [00:00<00:00, 1709.69it/s]\n",
      "Stage:  28 Beta: 1.000 Steps:  15 Acce: 0.251\n",
      "100%|██████████| 500/500 [00:00<00:00, 1712.05it/s]\n",
      "Sample initial stage: ...\n",
      "Stage:   0 Beta: 0.000 Steps:  25 Acce: 1.000\n",
      "100%|██████████| 500/500 [00:00<00:00, 1056.62it/s]\n",
      "Stage:   1 Beta: 0.000 Steps:  25 Acce: 0.180\n",
      "100%|██████████| 500/500 [00:00<00:00, 1130.69it/s]\n",
      "Stage:   2 Beta: 0.000 Steps:  23 Acce: 0.224\n",
      "100%|██████████| 500/500 [00:00<00:00, 1427.89it/s]\n",
      "Stage:   3 Beta: 0.000 Steps:  18 Acce: 0.219\n",
      "100%|██████████| 500/500 [00:00<00:00, 1404.83it/s]\n",
      "Stage:   4 Beta: 0.000 Steps:  18 Acce: 0.222\n",
      "100%|██████████| 500/500 [00:00<00:00, 1430.79it/s]\n",
      "Stage:   5 Beta: 0.001 Steps:  18 Acce: 0.221\n",
      "100%|██████████| 500/500 [00:00<00:00, 1438.80it/s]\n",
      "Stage:   6 Beta: 0.001 Steps:  18 Acce: 0.252\n",
      "100%|██████████| 500/500 [00:00<00:00, 1731.71it/s]\n",
      "Stage:   7 Beta: 0.003 Steps:  15 Acce: 0.248\n",
      "100%|██████████| 500/500 [00:00<00:00, 1638.20it/s]\n",
      "Stage:   8 Beta: 0.005 Steps:  16 Acce: 0.233\n",
      "100%|██████████| 500/500 [00:00<00:00, 1525.95it/s]\n",
      "Stage:   9 Beta: 0.008 Steps:  17 Acce: 0.254\n",
      "100%|██████████| 500/500 [00:00<00:00, 1721.19it/s]\n",
      "Stage:  10 Beta: 0.012 Steps:  15 Acce: 0.232\n",
      "100%|██████████| 500/500 [00:00<00:00, 1544.85it/s]\n",
      "Stage:  11 Beta: 0.019 Steps:  17 Acce: 0.230\n",
      "100%|██████████| 500/500 [00:00<00:00, 1520.30it/s]\n",
      "Stage:  12 Beta: 0.028 Steps:  17 Acce: 0.247\n",
      "100%|██████████| 500/500 [00:00<00:00, 1609.09it/s]\n",
      "Stage:  13 Beta: 0.039 Steps:  16 Acce: 0.235\n",
      "100%|██████████| 500/500 [00:00<00:00, 1529.85it/s]\n",
      "Stage:  14 Beta: 0.053 Steps:  17 Acce: 0.277\n",
      "100%|██████████| 500/500 [00:00<00:00, 1859.50it/s]\n",
      "Stage:  15 Beta: 0.070 Steps:  14 Acce: 0.262\n",
      "100%|██████████| 500/500 [00:00<00:00, 1748.11it/s]\n",
      "Stage:  16 Beta: 0.090 Steps:  15 Acce: 0.292\n",
      "100%|██████████| 500/500 [00:00<00:00, 1973.10it/s]\n",
      "Stage:  17 Beta: 0.113 Steps:  13 Acce: 0.313\n",
      "100%|██████████| 500/500 [00:00<00:00, 2174.52it/s]\n",
      "Stage:  18 Beta: 0.139 Steps:  12 Acce: 0.292\n",
      "100%|██████████| 500/500 [00:00<00:00, 1965.32it/s]\n",
      "Stage:  19 Beta: 0.171 Steps:  13 Acce: 0.291\n",
      "100%|██████████| 500/500 [00:00<00:00, 1982.18it/s]\n",
      "Stage:  20 Beta: 0.207 Steps:  13 Acce: 0.297\n",
      "100%|██████████| 500/500 [00:00<00:00, 1975.63it/s]\n",
      "Stage:  21 Beta: 0.249 Steps:  13 Acce: 0.292\n",
      "100%|██████████| 500/500 [00:00<00:00, 1998.04it/s]\n",
      "Stage:  22 Beta: 0.301 Steps:  13 Acce: 0.300\n",
      "100%|██████████| 500/500 [00:00<00:00, 2151.54it/s]\n",
      "Stage:  23 Beta: 0.366 Steps:  12 Acce: 0.281\n",
      "100%|██████████| 500/500 [00:00<00:00, 1962.25it/s]\n",
      "Stage:  24 Beta: 0.442 Steps:  13 Acce: 0.288\n",
      "100%|██████████| 500/500 [00:00<00:00, 2007.83it/s]\n",
      "Stage:  25 Beta: 0.542 Steps:  13 Acce: 0.270\n",
      "100%|██████████| 500/500 [00:00<00:00, 1879.78it/s]\n",
      "Stage:  26 Beta: 0.665 Steps:  14 Acce: 0.265\n",
      "100%|██████████| 500/500 [00:00<00:00, 1795.49it/s]\n",
      "Stage:  27 Beta: 0.823 Steps:  14 Acce: 0.246\n",
      "100%|██████████| 500/500 [00:00<00:00, 1617.62it/s]\n",
      "Stage:  28 Beta: 1.000 Steps:  16 Acce: 0.254\n",
      "100%|██████████| 500/500 [00:00<00:00, 1713.01it/s]\n"
     ]
    }
   ],
   "source": [
    "# Evaluate the evidence for the various degrees\n",
    "log_Zs = []\n",
    "D = [1, 2, 3, 4, 5]\n",
    "for d in D:\n",
    "    phi = PolynomialBasis(d)\n",
    "    _, _, res = fit_poly(phi, X, y, num_particles=500)\n",
    "    log_Z = np.log(res.model.marginal_likelihood)\n",
    "    log_Zs.append(log_Z)"
   ]
  },
  {
   "cell_type": "code",
   "execution_count": 192,
   "metadata": {},
   "outputs": [
    {
     "name": "stdout",
     "output_type": "stream",
     "text": [
      "degree 1 gives 25.0149\n",
      "degree 2 gives 41.1663\n",
      "degree 3 gives 142.2407\n",
      "degree 4 gives 139.2474\n",
      "degree 5 gives 137.2698\n"
     ]
    }
   ],
   "source": [
    "for d, log_Z in zip(D, log_Zs):\n",
    "    print('degree %d gives %.4f'%(d, log_Z))"
   ]
  },
  {
   "cell_type": "code",
   "execution_count": 199,
   "metadata": {},
   "outputs": [
    {
     "data": {
      "image/png": "[encoded data removed]",
      "text/plain": [
       "<Figure size 720x360 with 1 Axes>"
      ]
     },
     "metadata": {
      "needs_background": "light"
     },
     "output_type": "display_data"
    }
   ],
   "source": [
    "plt.figure(figsize=(10, 5))\n",
    "_=plt.bar(D, log_Zs, width=0.3)\n",
    "_=plt.xticks(D)\n",
    "plt.xticks(fontsize=20)\n",
    "plt.yticks(fontsize=20)\n",
    "plt.xlabel('Polynomial degree', fontsize=20)\n",
    "plt.ylabel('Model Evidence', fontsize=20)\n",
    "plt.tight_layout()"
   ]
  },
  {
   "cell_type": "markdown",
   "metadata": {},
   "source": [
    "## Questions\n",
    "+ The model with degree 3 polynomials has the gradest evidence. However, the degree 4 and 5 seem also very plausible. Is this a problem for the theory of Bayesian model selection? What complicates things here, is that model 3 is included in model 4 which is included in model 5. This requires us to design special priors for the models being right. They have to be consistent in some sense. For example, if model 3 is right then model 4 must be right, etc.\n",
    "\n",
    "+ Revisit the motorcycle dataset problem. Evaluate the model evidence for a 1) Polynomial basis; 2) a Fourier basis; and 3) a Radial basis function basis."
   ]
  },
  {
   "cell_type": "markdown",
   "metadata": {},
   "source": [
    "## Revisiting Challenger Disaster Problem (Model Selection)"
   ]
  },
  {
   "cell_type": "code",
   "execution_count": 206,
   "metadata": {},
   "outputs": [
    {
     "name": "stdout",
     "output_type": "stream",
     "text": [
      "Temp (F), O-Ring failure?\n",
      "[[66.  0.]\n",
      " [70.  1.]\n",
      " [69.  0.]\n",
      " [68.  0.]\n",
      " [67.  0.]\n",
      " [72.  0.]\n",
      " [73.  0.]\n",
      " [70.  0.]\n",
      " [57.  1.]\n",
      " [63.  1.]\n",
      " [70.  1.]\n",
      " [78.  0.]\n",
      " [67.  0.]\n",
      " [53.  1.]\n",
      " [67.  0.]\n",
      " [75.  0.]\n",
      " [70.  0.]\n",
      " [81.  0.]\n",
      " [76.  0.]\n",
      " [79.  0.]\n",
      " [75.  1.]\n",
      " [76.  0.]\n",
      " [58.  1.]]\n"
     ]
    }
   ],
   "source": [
    "challenger_data = np.genfromtxt(\"challenger_data.csv\", skip_header=1,\n",
    "                                usecols=[1, 2], missing_values=\"NA\",\n",
    "                                delimiter=\",\")\n",
    "# drop the NA values\n",
    "challenger_data = challenger_data[~np.isnan(challenger_data[:, 1])]\n",
    "\n",
    "# plot it, as a function of temperature (the first column)\n",
    "print(\"Temp (F), O-Ring failure?\")\n",
    "print(challenger_data)"
   ]
  },
  {
   "cell_type": "code",
   "execution_count": 207,
   "metadata": {},
   "outputs": [
    {
     "data": {
      "image/png": "[encoded data removed]",
      "text/plain": [
       "<Figure size 864x360 with 1 Axes>"
      ]
     },
     "metadata": {
      "needs_background": "light"
     },
     "output_type": "display_data"
    }
   ],
   "source": [
    "# plot it, as a function of temperature (the first column)\n",
    "plt.figure(figsize=(12, 5))\n",
    "plt.plot(challenger_data[:, 0], challenger_data[:, 1], 'ro', \n",
    "         markersize=15)\n",
    "plt.ylabel(\"Damage Incident?\",fontsize=20)\n",
    "plt.xlabel(\"Outside temperature (Fahrenheit)\",fontsize=20)\n",
    "plt.title(\"Defects of the Space Shuttle O-Rings vs temperature\",\n",
    "          fontsize=20)\n",
    "plt.yticks([0, 1], fontsize=15)\n",
    "plt.xticks(fontsize=15)\n",
    "plt.tight_layout()"
   ]
  },
  {
   "cell_type": "code",
   "execution_count": 227,
   "metadata": {},
   "outputs": [
    {
     "name": "stdout",
     "output_type": "stream",
     "text": [
      "Challenger space shuttle disaster model:\n"
     ]
    },
    {
     "data": {
      "text/latex": [
       "$$\n",
       "            \\begin{array}{rcl}\n",
       "            \\text{alpha} &\\sim & \\text{Normal}(\\mathit{mu}=0.0,~\\mathit{sigma}=10.0)\\\\\\text{beta} &\\sim & \\text{Normal}(\\mathit{mu}=0.0,~\\mathit{sigma}=10.0)\\\\\\text{p} &\\sim & \\text{Deterministic}(\\text{Constant},~\\text{Constant},~\\text{alpha},~\\text{beta},~\\text{Constant})\\\\\\text{x} &\\sim & \\text{Bernoulli}(\\mathit{p}=\\text{p})\n",
       "            \\end{array}\n",
       "            $$"
      ],
      "text/plain": [
       "<pymc3.model.Model at 0x141ba56d8>"
      ]
     },
     "execution_count": 227,
     "metadata": {},
     "output_type": "execute_result"
    }
   ],
   "source": [
    "# gather the data and apply preprocessing if any \n",
    "temp = challenger_data[:, 0]\n",
    "temp_scaled = (temp - np.mean(temp))/np.std(temp)\n",
    "data = challenger_data[:, 1]\n",
    "\n",
    "# instantiate the pymc3 model\n",
    "challenger_model = pm.Model()\n",
    "\n",
    "# define the graph \n",
    "with challenger_model:\n",
    "    # define the prior\n",
    "    alpha = pm.Normal('alpha', mu=0., sigma=10.)\n",
    "    beta = pm.Normal('beta', mu=0., sigma=10.)\n",
    "    \n",
    "    # get the probabilities of failure at each observed temp \n",
    "    p = pm.Deterministic('p', 1./(1. + tt.exp(alpha + beta*temp_scaled)))\n",
    "    \n",
    "    # define the likelihood \n",
    "    x = pm.Bernoulli('x', p=p, observed=data)\n",
    "print(\"Challenger space shuttle disaster model:\")\n",
    "challenger_model"
   ]
  },
  {
   "cell_type": "code",
   "execution_count": 228,
   "metadata": {},
   "outputs": [
    {
     "name": "stderr",
     "output_type": "stream",
     "text": [
      "Sample initial stage: ...\n",
      "Stage:   0 Beta: 0.003 Steps:  25 Acce: 1.000\n",
      "100%|██████████| 500/500 [00:00<00:00, 1202.61it/s]\n",
      "Stage:   1 Beta: 0.015 Steps:  25 Acce: 0.532\n",
      "100%|██████████| 500/500 [00:00<00:00, 4538.19it/s]\n",
      "Stage:   2 Beta: 0.034 Steps:   6 Acce: 0.408\n",
      "100%|██████████| 500/500 [00:00<00:00, 3494.35it/s]\n",
      "Stage:   3 Beta: 0.067 Steps:   8 Acce: 0.372\n",
      "100%|██████████| 500/500 [00:00<00:00, 2971.66it/s]\n",
      "Stage:   4 Beta: 0.121 Steps:   9 Acce: 0.299\n",
      "100%|██████████| 500/500 [00:00<00:00, 2363.63it/s]\n",
      "Stage:   5 Beta: 0.203 Steps:  12 Acce: 0.259\n",
      "100%|██████████| 500/500 [00:00<00:00, 1924.47it/s]\n",
      "Stage:   6 Beta: 0.322 Steps:  15 Acce: 0.249\n",
      "100%|██████████| 500/500 [00:00<00:00, 1641.36it/s]\n",
      "Stage:   7 Beta: 0.548 Steps:  16 Acce: 0.273\n",
      "100%|██████████| 500/500 [00:00<00:00, 1931.08it/s]\n",
      "Stage:   8 Beta: 0.900 Steps:  14 Acce: 0.296\n",
      "100%|██████████| 500/500 [00:00<00:00, 2184.39it/s]\n",
      "Stage:   9 Beta: 1.000 Steps:  13 Acce: 0.278\n",
      "100%|██████████| 500/500 [00:00<00:00, 1972.54it/s]\n"
     ]
    }
   ],
   "source": [
    "num_particles = 500\n",
    "trace, smc = pm.sample_smc(model=challenger_model, \n",
    "                           draws=num_particles,\n",
    "                          threshold=0.8, \n",
    "                          progressbar=True)"
   ]
  },
  {
   "cell_type": "code",
   "execution_count": 229,
   "metadata": {},
   "outputs": [
    {
     "name": "stderr",
     "output_type": "stream",
     "text": [
      "100%|██████████| 500/500 [00:00<00:00, 3615.61it/s]\n"
     ]
    }
   ],
   "source": [
    "ppsamples = pm.sample_posterior_predictive(model=challenger_model, \n",
    "                                           trace=trace, \n",
    "                                           var_names=['p'])['p']"
   ]
  },
  {
   "cell_type": "code",
   "execution_count": 230,
   "metadata": {},
   "outputs": [],
   "source": [
    "ppmean = ppsamples.mean(0)\n",
    "pp_lower, pp_upper = np.percentile(ppsamples, axis=0, q=[2.5, 97.5])\n",
    "\n",
    "plt.figure(figsize=(15, 8))\n",
    "plt.plot(temp, data, 'ro', markersize=12, label='Observed data')\n",
    "idx=np.argsort(temp)\n",
    "plt.plot(temp[idx], ppmean[idx], linestyle='--', linewidth=2.5, \n",
    "         label='Post. pred. mean prob.')\n",
    "plt.fill_between(temp[idx], pp_lower[idx], pp_upper[idx], \n",
    "                color='purple', alpha=0.25, label='95% Confidence')\n",
    "plt.ylabel(\"Probability estimate\",fontsize=20)\n",
    "plt.xlabel(\"Outside temperature (Fahrenheit)\",fontsize=20)\n",
    "plt.title(\"Defects of the Space Shuttle O-Rings vs temperature\",\n",
    "          fontsize=20)\n",
    "plt.yticks(np.arange(0., 1.01, 0.2), fontsize=20)\n",
    "plt.xticks(fontsize=20)\n",
    "plt.legend(loc='best', fontsize=20)\n",
    "plt.tight_layout()"
   ]
  },
  {
   "cell_type": "code",
   "execution_count": 232,
   "metadata": {},
   "outputs": [],
   "source": [
    "logZ_temp = np.log(smc.model.marginal_likelihood)"
   ]
  }
 ],
 "metadata": {
  "kernelspec": {
   "display_name": "Python 3",
   "language": "python",
   "name": "python3"
  },
  "language_info": {
   "codemirror_mode": {
    "name": "ipython",
    "version": 3
   },
   "file_extension": ".py",
   "mimetype": "text/x-python",
   "name": "python",
   "nbconvert_exporter": "python",
   "pygments_lexer": "ipython3",
   "version": "3.6.8"
  }
 },
 "nbformat": 4,
 "nbformat_minor": 2
}
