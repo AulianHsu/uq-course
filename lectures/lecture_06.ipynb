{
 "cells": [
  {
   "cell_type": "markdown",
   "metadata": {},
   "source": [
    "# Lecture 6: Introduction to Probability Theory (Part IV)"
   ]
  },
  {
   "cell_type": "markdown",
   "metadata": {},
   "source": [
    "## Objectives\n",
    "\n",
    "+ Introduce pseudo-random number generators (PRNG).\n",
    "+ Demonstrate how we can sample from the uniform distribution using PRNGs.\n",
    "+ Demonstrate how we can sample from the Bernoulli using uniform samples.\n",
    "+ Demonstrate how we can sample from arbitrary discrete distributions using uniform samples.\n",
    "+ Demonstrate the central limit theorem and the natural rise of the Gaussian distribution.\n",
    "+ Demonstrate how we can sample from univariate continuous distributions using uniform samples (inverse transform sampling, rejection sampling)."
   ]
  },
  {
   "cell_type": "markdown",
   "metadata": {},
   "source": [
    "## Readings\n",
    "\n",
    "+ These notes.\n",
    "+ [Middlesquare algorithm](https://en.wikipedia.org/wiki/Middle-square_method).\n",
    "+ [Linear congruential generator](https://en.wikipedia.org/wiki/Linear_congruential_generator).\n",
    "+ [Empirical CDF](https://en.wikipedia.org/wiki/Empirical_distribution_function).\n",
    "+ [The central limit theorem](https://en.wikipedia.org/wiki/Central_limit_theorem).\n",
    "+ [Characteristic functions](https://en.wikipedia.org/wiki/Characteristic_function_(probability_theory)).\n",
    "+ [Inversion transform sampling](https://en.wikipedia.org/wiki/Inverse_transform_sampling).\n",
    "+ [Rejection sampling](https://en.wikipedia.org/wiki/Rejection_sampling)."
   ]
  },
  {
   "cell_type": "code",
   "execution_count": 31,
   "metadata": {},
   "outputs": [],
   "source": [
    "%matplotlib inline\n",
    "import matplotlib.pyplot as plt\n",
    "import seaborn as sns\n",
    "sns.set_context('talk')\n",
    "import numpy as np"
   ]
  },
  {
   "cell_type": "markdown",
   "metadata": {},
   "source": [
    "## Pseudo-random number generators (PRNG)\n",
    "\n",
    "Random number generation is the backbone of Bayesian inference.\n",
    "Computers are deterministic.\n",
    "So, how can they generate random numbers?\n",
    "Well they cannot!\n",
    "But they can produce sequence of numbers that look like random numbers!\n",
    "These \"fake\" random number generators are called Pseudo-random number generators (PRNG).\n",
    "They are used to generate random numbers between zero and a maximum integer, say $m$.\n",
    "As we will argue later this is sufficient to generate pretty much any random variable you want.\n",
    "\n",
    "### The middlesquare algorithm (Von Neumann)\n",
    "\n",
    "The [middlesquare algorithm](https://en.wikipedia.org/wiki/Middle-square_method) is the simplest PRNG.\n",
    "\n",
    "1. Take a number and square it.\n",
    "2. Pad the result with zeros to get to the desired number of digits.\n",
    "3. Take the middle digits of the resulting number.\n",
    "4. Repeat.\n",
    "\n",
    "Here is an implementation:"
   ]
  },
  {
   "cell_type": "code",
   "execution_count": 32,
   "metadata": {},
   "outputs": [],
   "source": [
    "def middlesquare(s, digits=4):\n",
    "    \"\"\"\n",
    "    :param s:      The initial seed.\n",
    "    :param digits: How many digits do you want.\n",
    "    \"\"\"\n",
    "    # Square the number\n",
    "    s2 = s ** 2\n",
    "    # Turn the resulting number into a string padding with zeros to get to the desired number of digits\n",
    "    s2_str = str(s2).zfill(2*digits)\n",
    "    # Keep only the middle\n",
    "    middle_str = s2_str[int(np.floor(digits/2)):][:-int(np.floor(digits/2))]\n",
    "    return int(middle_str)"
   ]
  },
  {
   "cell_type": "markdown",
   "metadata": {},
   "source": [
    "Let's draw some random numbers:"
   ]
  },
  {
   "cell_type": "code",
   "execution_count": 33,
   "metadata": {},
   "outputs": [
    {
     "name": "stdout",
     "output_type": "stream",
     "text": [
      "5227\n",
      "3215\n",
      "3362\n",
      "3030\n",
      "1809\n",
      "2724\n",
      "4201\n",
      "6484\n",
      "422\n",
      "1780\n",
      "1684\n",
      "8358\n",
      "8561\n",
      "2907\n",
      "4506\n",
      "3040\n",
      "2416\n",
      "8370\n",
      "569\n",
      "3237\n"
     ]
    }
   ],
   "source": [
    "seed = 1234\n",
    "s = seed\n",
    "for _ in range(20):\n",
    "    s = middlesquare(s, digits=4)\n",
    "    print(s)"
   ]
  },
  {
   "cell_type": "markdown",
   "metadata": {},
   "source": [
    "Unfortunately, the middlesquare algorithms results in periodic sequences with very small period. For example:"
   ]
  },
  {
   "cell_type": "code",
   "execution_count": 34,
   "metadata": {},
   "outputs": [
    {
     "name": "stdout",
     "output_type": "stream",
     "text": [
      "2916\n",
      "5030\n",
      "3009\n",
      "540\n",
      "2916\n",
      "5030\n",
      "3009\n",
      "540\n",
      "2916\n",
      "5030\n",
      "3009\n",
      "540\n",
      "2916\n",
      "5030\n",
      "3009\n",
      "540\n",
      "2916\n",
      "5030\n",
      "3009\n",
      "540\n"
     ]
    }
   ],
   "source": [
    "seed = 540\n",
    "s = seed\n",
    "for _ in range(20):\n",
    "    s = middlesquare(s, digits=4)\n",
    "    print(s)"
   ]
  },
  {
   "cell_type": "markdown",
   "metadata": {},
   "source": [
    "### Linear congruential generator (LCG)\n",
    "The [linear congruential generator](https://en.wikipedia.org/wiki/Linear_congruential_generator) works as follows. You pick three big integers $a$, $b$ and $m$.\n",
    "Pick a seed $x_0$.\n",
    "Then iterate:\n",
    "$$\n",
    "x_{i+1} = (a x_i + b)\\mod m\n",
    "$$\n",
    "\n",
    "Here is a simple implementation:"
   ]
  },
  {
   "cell_type": "code",
   "execution_count": 35,
   "metadata": {},
   "outputs": [],
   "source": [
    "def lcg(x, a=123456, b=978564, m=6012119):\n",
    "    \"\"\"\n",
    "    :param x: The previous number in the sequence.\n",
    "    :param a: A big integer.\n",
    "    :param b: Another big integer.\n",
    "    :param m: Another big integer.\n",
    "    \"\"\"\n",
    "    return (a * x + b) % m"
   ]
  },
  {
   "cell_type": "code",
   "execution_count": 36,
   "metadata": {},
   "outputs": [
    {
     "name": "stdout",
     "output_type": "stream",
     "text": [
      "3020293\n",
      "2650792\n",
      "5494308\n",
      "965075\n",
      "3115541\n",
      "1883116\n",
      "317849\n",
      "243995\n",
      "2909094\n",
      "134725\n",
      "4067010\n",
      "1658958\n",
      "451558\n",
      "4155644\n",
      "2001482\n",
      "3861575\n",
      "4605659\n",
      "1061643\n",
      "2982572\n",
      "5159241\n"
     ]
    }
   ],
   "source": [
    "# Let's draw some random numbers:\n",
    "seed = 1234\n",
    "s = seed\n",
    "for _ in range(20):\n",
    "    s = lcg(s)\n",
    "    print(s)"
   ]
  },
  {
   "cell_type": "markdown",
   "metadata": {},
   "source": [
    "The good thing about LCG is that you can prove a lot of stuff about it using group theory and that you know that the maximum possible number is $m-1$.\n",
    "That is, you know that it gives you numbers between 0 and $m-1$."
   ]
  },
  {
   "cell_type": "markdown",
   "metadata": {},
   "source": [
    "### Mersenne Twister PRNG\n",
    "Numpy uses the [Mersenne Twister](https://en.wikipedia.org/wiki/Mersenne_Twister) to generate random numbers.\n",
    "Its details are more complicated than LCG, but it is still initialized by an integer seed.\n",
    "You can test it as follows:"
   ]
  },
  {
   "cell_type": "code",
   "execution_count": 37,
   "metadata": {},
   "outputs": [
    {
     "name": "stdout",
     "output_type": "stream",
     "text": [
      "1396132\n",
      "2993577\n",
      "1134974\n",
      "5664101\n",
      "3555874\n"
     ]
    }
   ],
   "source": [
    "# set the seed\n",
    "np.random.seed(12345)\n",
    "# print 5 integers from 0 to 6012119\n",
    "for _ in range(5):\n",
    "    print(np.random.randint(0, 6012119))"
   ]
  },
  {
   "cell_type": "code",
   "execution_count": 38,
   "metadata": {},
   "outputs": [
    {
     "name": "stdout",
     "output_type": "stream",
     "text": [
      "5290753\n",
      "4246897\n",
      "3579195\n",
      "3692649\n",
      "3755099\n"
     ]
    }
   ],
   "source": [
    "# see what the seed does - Here is what happens if you rerun the code above:\n",
    "for _ in range(5):\n",
    "    print(np.random.randint(0, 6012119))"
   ]
  },
  {
   "cell_type": "code",
   "execution_count": 39,
   "metadata": {},
   "outputs": [
    {
     "name": "stdout",
     "output_type": "stream",
     "text": [
      "1396132\n",
      "2993577\n",
      "1134974\n",
      "5664101\n",
      "3555874\n"
     ]
    }
   ],
   "source": [
    "# And here is what happens if you reset the seed to its original value and rerun the code\n",
    "np.random.seed(12345)\n",
    "for _ in range(5):\n",
    "    print(np.random.randint(0, 6012119))"
   ]
  },
  {
   "cell_type": "markdown",
   "metadata": {},
   "source": [
    "So, resetting the seed gives you the same sequence. In your numerical simulations you should always set the seed by hand in order to ensure the reproducibility of your work."
   ]
  },
  {
   "cell_type": "markdown",
   "metadata": {},
   "source": [
    "## Sampling from the uniform distribution\n",
    "\n",
    "If we have a PRNG that samples between zero and a big integer, say $m$, we can create a generator that samples from the uniform distribution.\n",
    "If $d$ is the sample from the PRNG, then\n",
    "$$\n",
    "x = \\frac{d}{m},\n",
    "$$\n",
    "is approximately uniformly distributed.\n",
    "Let's experiment with this idea."
   ]
  },
  {
   "cell_type": "code",
   "execution_count": 40,
   "metadata": {},
   "outputs": [
    {
     "name": "stdout",
     "output_type": "stream",
     "text": [
      "LCG Uniform Samples:\n",
      "0.27292124457283695\n",
      "0.9279352255003602\n",
      "0.3339646138075444\n",
      "0.09812746554085174\n",
      "0.5871510527319902\n",
      "\n",
      "MT Uniform Samples:\n",
      "0.011933396527913037\n",
      "0.8868237638010824\n",
      "0.5074856302744507\n",
      "0.5300725085448242\n",
      "0.5373225313737137\n"
     ]
    }
   ],
   "source": [
    "# The maximum integer\n",
    "m = 6012119\n",
    "\n",
    "# First a uniform random generator based on lcg\n",
    "lcg_seed = 123456 # A seed of lcg\n",
    "lcg_state = lcg_seed # Internal state of lcg\n",
    "def unif_lcg():\n",
    "    \"\"\"\n",
    "    Samples from the uniform using LCG.\n",
    "    \"\"\"\n",
    "    global lcg_state\n",
    "    lcg_state = lcg(lcg_state)\n",
    "    return lcg_state / (1. * m) # The 1. in the denominator ensures\n",
    "                                # that the division is done in floating point arithmetic\n",
    "print('LCG Uniform Samples:')\n",
    "for _ in range(5):\n",
    "    print(unif_lcg())\n",
    "\n",
    "# And let's also do it with Mersenne Twister from numpy\n",
    "np.random.seed(123456)\n",
    "def unif_mt():\n",
    "    \"\"\"\n",
    "    Samples from the uniform using the MT.\n",
    "    \"\"\"\n",
    "    return np.random.randint(0, m) / (1. * m)\n",
    "print('\\nMT Uniform Samples:')\n",
    "for _ in range(5):\n",
    "    print(unif_mt())"
   ]
  },
  {
   "cell_type": "markdown",
   "metadata": {},
   "source": [
    "Which one of the two is better? There are many statistical tests that we would like our uniform random number generator to go through. First (and most importantly) the empirical histograms of the generated numbers should be uniform. Let's test this."
   ]
  },
  {
   "cell_type": "code",
   "execution_count": 41,
   "metadata": {},
   "outputs": [
    {
     "data": {
      "text/plain": [
       "<matplotlib.legend.Legend at 0x1a21efe588>"
      ]
     },
     "execution_count": 41,
     "metadata": {},
     "output_type": "execute_result"
    },
    {
     "data": {
      "image/png": "[encoded data removed]",
      "text/plain": [
       "<Figure size 432x288 with 1 Axes>"
      ]
     },
     "metadata": {
      "needs_background": "light"
     },
     "output_type": "display_data"
    }
   ],
   "source": [
    "# How many numbers to sample:\n",
    "N = 100\n",
    "lcg_X = [unif_lcg() for _ in range(N)]\n",
    "mt_X = [unif_mt() for _ in range(N)]\n",
    "# Plot the histograms\n",
    "fig, ax = plt.subplots()\n",
    "ax.hist(lcg_X, density=True, alpha=0.5, label='LGC_unif')\n",
    "ax.hist(mt_X, density=True, alpha=0.5, label='MT_unif')\n",
    "ax.set_xlabel('$x$')\n",
    "ax.set_ylabel('$p(x)$')\n",
    "plt.legend(loc='best')"
   ]
  },
  {
   "cell_type": "markdown",
   "metadata": {},
   "source": [
    "This was a rough visual test.\n",
    "We can do better.\n",
    "We can compare the [empirical CDF](https://en.wikipedia.org/wiki/Empirical_distribution_function) of each one of these algorithms with the ideal CDF, i.e., that of a real uniform.\n",
    "But what is the empirical CDF of a bunch of samples $x_{1:N}$?\n",
    "It is defined as follows:\n",
    "$$\n",
    "\\hat{F}_N(x) = \\frac{\\text{number of elements in sample}\\;\\le x}{N} = \\frac{1}{N}\\sum_{n=1}^N 1_{(-\\infty, x_i]}(x).\n",
    "$$\n",
    "Let's implement this:"
   ]
  },
  {
   "cell_type": "code",
   "execution_count": 42,
   "metadata": {},
   "outputs": [],
   "source": [
    "def ecdf(x):\n",
    "    \"\"\"\n",
    "    The empirical distribution function of scalar samples.\n",
    "    \n",
    "    From: https://stackoverflow.com/questions/15792552/numpy-scipy-equivalent-of-r-ecdfxx-function\n",
    "    \"\"\"\n",
    "    xs = np.sort(x)\n",
    "    ys = np.arange(1, len(xs)+1)/float(len(xs))\n",
    "    return xs, ys"
   ]
  },
  {
   "cell_type": "markdown",
   "metadata": {},
   "source": [
    "Now, let's plot the empirical CDF of each of the samples and plot it against $F(x) = x$ (the tru CDF of the uniform)."
   ]
  },
  {
   "cell_type": "code",
   "execution_count": 43,
   "metadata": {},
   "outputs": [
    {
     "data": {
      "image/png": "[encoded data removed]",
      "text/plain": [
       "<Figure size 432x288 with 1 Axes>"
      ]
     },
     "metadata": {
      "needs_background": "light"
     },
     "output_type": "display_data"
    }
   ],
   "source": [
    "fig, ax = plt.subplots()\n",
    "ax.plot(*ecdf(lcg_X), label='LCG')\n",
    "ax.plot(*ecdf(mt_X), label='MT')\n",
    "ax.plot(np.linspace(0, 1), np.linspace(0, 1), label='Uniform')\n",
    "ax.set_xlabel('$x$')\n",
    "ax.set_ylabel('$\\hat{F}_N(x)$')\n",
    "plt.legend(loc='best');"
   ]
  },
  {
   "cell_type": "markdown",
   "metadata": {},
   "source": [
    "This is still visual. The [Kolmogorov-Smirnov test](https://en.wikipedia.org/wiki/Kolmogorov%E2%80%93Smirnov_test) summarizes calculate a distance between the empirical distribution and the ideal one.\n",
    "It is defined as follows:\n",
    "$$\n",
    "D_N = \\sup_x |F(x) - \\hat{F}_N(x)|,\n",
    "$$\n",
    "where (if you don't know what it is) you can think of the supremum ($\\sup$) as just the maximum.\n",
    "In other words, $D_N$ is the maximum absolute difference between $F(x)$ and $\\hat{F}_N(x)$.\n",
    "Let's see what we get for LCG and MT compared to the uniform:"
   ]
  },
  {
   "cell_type": "code",
   "execution_count": 44,
   "metadata": {},
   "outputs": [
    {
     "name": "stdout",
     "output_type": "stream",
     "text": [
      "KS statistic for LCG vs uniform: 0.13\n",
      "KS statistic for MT vs uniform: 0.06\n"
     ]
    }
   ],
   "source": [
    "import scipy.stats as st\n",
    "D_lcg, p_val_lcg = st.kstest(lcg_X, 'uniform')\n",
    "D_mt, p_val_mt = st.kstest(mt_X, 'uniform')\n",
    "print('KS statistic for LCG vs uniform: {0:1.2f}'.format(D_lcg))\n",
    "print('KS statistic for MT vs uniform: {0:1.2f}'.format(D_mt))"
   ]
  },
  {
   "cell_type": "markdown",
   "metadata": {},
   "source": [
    "### Question\n",
    "+ Hmm, we probably need to increase the number of samples to observe this statistic better. Increase $N$ from 100 to $1,000$ and then to $10,000$. How do the distributions look like now?\n",
    "\n",
    "+ A second thing that we would like to test is whether or not consecutive numbers are all independent (Idependent identically distributed). Unfortunately, we need more theory than we know to do this.\n",
    "\n",
    "+ For future reference, note that you should not really use ``unif_mt`` to generate uniform random numbers. Numpy already implements this in ``numpy.random.rand``. We provide an example right below. "
   ]
  },
  {
   "cell_type": "code",
   "execution_count": 45,
   "metadata": {},
   "outputs": [
    {
     "name": "stdout",
     "output_type": "stream",
     "text": [
      "[0.15584706 0.86260898 0.6830463  0.0857089  0.56610253 0.14982485\n",
      " 0.47745445 0.84893827 0.14014442 0.32955081]\n"
     ]
    }
   ],
   "source": [
    "# Generate some random numbers with numpy's unif_mt:\n",
    "X = np.random.rand(10)\n",
    "print(X)"
   ]
  },
  {
   "cell_type": "markdown",
   "metadata": {},
   "source": [
    "## Example: Sampling the Bernoulli distribution\n",
    "The Bernoulli distribution arises from a binary random variable representing the outcome of an experiment with a given probability of success.\n",
    "Let us encode success with 1 and failure with 0.\n",
    "Then, we say that the random variable\n",
    "$$\n",
    "X\\sim \\operatorname{Bernoulli}(\\theta),\n",
    "$$\n",
    "is a Bernoulli random variable with parameter $\\theta$ if:\n",
    "$$\n",
    "X = \\begin{cases}\n",
    "1,\\;\\text{with probability}\\;\\theta,\\\\\n",
    "0,\\;\\text{otherwise}.\n",
    "\\end{cases}\n",
    "$$\n",
    "Another way to write the same thing is through the probability density function of $X$:\n",
    "$$\n",
    "p(x) = \\theta \\delta(x-1) + (1-\\theta)\\delta(x),\n",
    "$$\n",
    "where we used Dirac's delta to talk about point masses.\n",
    "To sample from it, we do the following steps:\n",
    "\n",
    "+ Sample a uniform number $u$ (i.e., a number of $\\mathcal{U}([0,1])$).\n",
    "\n",
    "+ If $u\\le \\theta$, then set $x = 1$.\n",
    "\n",
    "+ Otherwise, set $x = 0$.\n",
    "\n",
    "Let's see if this process does indeed produce the desired result."
   ]
  },
  {
   "cell_type": "code",
   "execution_count": 48,
   "metadata": {},
   "outputs": [
    {
     "name": "stdout",
     "output_type": "stream",
     "text": [
      "1\n",
      "0\n",
      "1\n",
      "1\n",
      "1\n",
      "1\n",
      "1\n",
      "0\n",
      "0\n",
      "1\n"
     ]
    }
   ],
   "source": [
    "def sample_bernoulli(theta):\n",
    "    \"\"\"\n",
    "    Samples from the Bernoulli.\n",
    "    \"\"\"\n",
    "    u = np.random.rand()\n",
    "    if u <= theta:\n",
    "        return 1\n",
    "    return 0\n",
    "\n",
    "for _ in range(10):\n",
    "    print(sample_bernoulli(0.5))"
   ]
  },
  {
   "cell_type": "code",
   "execution_count": 49,
   "metadata": {},
   "outputs": [
    {
     "data": {
      "text/plain": [
       "Text(0, 0.5, '$p(x)$')"
      ]
     },
     "execution_count": 49,
     "metadata": {},
     "output_type": "execute_result"
    },
    {
     "data": {
      "image/png": "[encoded data removed]",
      "text/plain": [
       "<Figure size 432x288 with 1 Axes>"
      ]
     },
     "metadata": {
      "needs_background": "light"
     },
     "output_type": "display_data"
    }
   ],
   "source": [
    "# Let's do a histogram like before\n",
    "N = 1000\n",
    "X = [sample_bernoulli(0.3) for _ in range(N)]\n",
    "fig, ax = plt.subplots()\n",
    "ax.hist(X, alpha=0.5)\n",
    "ax.set_xlabel('$x$')\n",
    "ax.set_ylabel('$p(x)$')"
   ]
  },
  {
   "cell_type": "markdown",
   "metadata": {},
   "source": [
    "Ok, it looks fine. About $\\theta N$ samples went to 1 and $(1-\\theta)N$ samples went to 0.\n",
    "\n",
    "Of course, we have already seen that this is implemented in scipy.stats.\n",
    "Here is a quick reminder of that code."
   ]
  },
  {
   "cell_type": "code",
   "execution_count": 50,
   "metadata": {},
   "outputs": [
    {
     "data": {
      "text/plain": [
       "array([0, 0, 0, 0, 0, 1, 0, 0, 0, 0])"
      ]
     },
     "execution_count": 50,
     "metadata": {},
     "output_type": "execute_result"
    }
   ],
   "source": [
    "X = st.bernoulli(0.3)\n",
    "X.rvs(size=10)"
   ]
  },
  {
   "cell_type": "markdown",
   "metadata": {},
   "source": [
    "## Sampling discrete distributions\n",
    "Consider a generic discrete random variable $X$ taking $K$ different values.\n",
    "Without loss of generality, you may assume that these values are integers $\\{0, 1,2,\\dots,K-1\\}$ (they are just the labels of the discrete objects anyway).\n",
    "Let us assume that\n",
    "$$\n",
    "p(X=k) = p_k,\n",
    "$$\n",
    "where, of course, we must have:\n",
    "$$\n",
    "p_k \\ge 0,\n",
    "$$\n",
    "and\n",
    "$$\n",
    "\\sum_{k=0}^{K-1} p_k = 1.\n",
    "$$\n",
    "Remember, that an succinct way to write this is using the Dirac delta:\n",
    "$$\n",
    "p(x) = \\sum_{k=0}^{K-1}p_k\\delta(x-k).\n",
    "$$\n",
    "In any case, here is how you sample from such a distribution:\n",
    "\n",
    "+ Draw a uniform sample $u$.\n",
    "+ Find the index $j\\in\\{0,1,\\dots,K-1\\}$ such that:\n",
    "$$\n",
    "\\sum_{k=0}^{j-1}p_k \\le u < \\sum_{k=0}^jp_k.\n",
    "$$\n",
    "+ Then, your sample is $j$.\n",
    "\n",
    "Let's code it."
   ]
  },
  {
   "cell_type": "code",
   "execution_count": 51,
   "metadata": {},
   "outputs": [],
   "source": [
    "def sample_discrete(p):\n",
    "    \"\"\"\n",
    "    Sample from a discrete probability density.\n",
    "    \n",
    "    :param p: An array specifying the probability of each possible state.\n",
    "              The number of states ``m=len(p)``.\n",
    "    :returns: A random integer.\n",
    "    \n",
    "    (btw this is how you document a python function)\n",
    "    \"\"\"\n",
    "    K = len(p)\n",
    "    u = np.random.rand()\n",
    "    c = 0.\n",
    "    for j in range(K):\n",
    "        c += p[j]\n",
    "        if u <= c:\n",
    "            return j"
   ]
  },
  {
   "cell_type": "code",
   "execution_count": 52,
   "metadata": {},
   "outputs": [
    {
     "data": {
      "text/plain": [
       "Text(0, 0.5, '$p(x)$')"
      ]
     },
     "execution_count": 52,
     "metadata": {},
     "output_type": "execute_result"
    },
    {
     "data": {
      "image/png": "[encoded data removed]",
      "text/plain": [
       "<Figure size 432x288 with 1 Axes>"
      ]
     },
     "metadata": {
      "needs_background": "light"
     },
     "output_type": "display_data"
    }
   ],
   "source": [
    "# Let's test it with a four-state discrete random variable with probabilities\n",
    "p = [0.2, 0.3, 0.4, 0.1]\n",
    "# Let's take 1,000 samples\n",
    "N = 1000\n",
    "X = [sample_discrete(p) for _ in range(N)]\n",
    "# and do the empirical histrogram\n",
    "fig, ax = plt.subplots()\n",
    "ax.hist(X, alpha=0.5)\n",
    "ax.set_xlabel('$x$')\n",
    "ax.set_ylabel('$p(x)$')"
   ]
  },
  {
   "cell_type": "markdown",
   "metadata": {},
   "source": [
    "Of course, numpy already implements this functionality. Here is how to do the same thing numpy:"
   ]
  },
  {
   "cell_type": "code",
   "execution_count": 53,
   "metadata": {},
   "outputs": [
    {
     "data": {
      "text/plain": [
       "<matplotlib.legend.Legend at 0x1a2252bbe0>"
      ]
     },
     "execution_count": 53,
     "metadata": {},
     "output_type": "execute_result"
    },
    {
     "data": {
      "image/png": "[encoded data removed]",
      "text/plain": [
       "<Figure size 432x288 with 1 Axes>"
      ]
     },
     "metadata": {
      "needs_background": "light"
     },
     "output_type": "display_data"
    }
   ],
   "source": [
    "X_np = np.random.choice(np.arange(4), # The objects that you want to sample (here integers, 0,1,2,3)\n",
    "                        p=p,          # The probability of sampling each object\n",
    "                        size=N        # How many samples you want  \n",
    "                       )\n",
    "# Let's compare the two histograms\n",
    "fig, ax = plt.subplots()\n",
    "ax.hist(X, alpha=0.5, label='Our implementation')\n",
    "ax.hist(X_np, alpha=0.5, label='Numpy implementation')\n",
    "ax.set_xlabel('$x$')\n",
    "ax.set_ylabel('$p(x)$')\n",
    "plt.legend(loc='best')"
   ]
  },
  {
   "cell_type": "markdown",
   "metadata": {},
   "source": [
    "And it is also possible to do it using a Categorical random variable from scipy:"
   ]
  },
  {
   "cell_type": "code",
   "execution_count": 54,
   "metadata": {},
   "outputs": [
    {
     "data": {
      "text/plain": [
       "array([2, 2, 0, 3, 3, 2, 0, 2, 0, 2, 1, 1, 0, 2, 2, 2, 2, 1, 2, 2, 0, 2,\n",
       "       2, 2, 1, 2, 2, 2, 2, 1, 3, 0, 1, 0, 3, 3, 1, 1, 2, 2, 3, 0, 0, 3,\n",
       "       0, 0, 2, 2, 3, 1, 2, 1, 2, 2, 2, 1, 3, 1, 2, 2, 0, 2, 0, 2, 1, 1,\n",
       "       0, 0, 1, 2, 2, 2, 0, 2, 2, 2, 3, 2, 1, 0, 2, 1, 1, 2, 2, 1, 2, 1,\n",
       "       2, 1, 0, 0, 1, 1, 0, 3, 2, 2, 1, 1])"
      ]
     },
     "execution_count": 54,
     "metadata": {},
     "output_type": "execute_result"
    }
   ],
   "source": [
    "X_st = st.rv_discrete(values=(np.arange(4), p))\n",
    "X_st.rvs(size=100)"
   ]
  },
  {
   "cell_type": "markdown",
   "metadata": {},
   "source": [
    "## Example: The Binomial distribution for large $N$\n",
    "\n",
    "The Binomial distribution gives you the number of successes in $N$ tries of a random experiment with probability of success $\\theta$.\n",
    "We write:\n",
    "$$\n",
    "X\\sim B(N,\\theta).\n",
    "$$\n",
    "You can easily simulate it (excersize) by noticing that:\n",
    "$$\n",
    "X = \\sum_{i=1}^N X_i,\n",
    "$$\n",
    "where\n",
    "$$\n",
    "X_i \\sim B(\\theta),\n",
    "$$\n",
    "are indepdent Bernoulli trials.\n",
    "We can also show that:\n",
    "$$\n",
    "p(X=k) = \\left(\\begin{array}{c}N\\\\ k\\end{array}\\right)\\theta^k(1-\\theta)^{N-k}.\n",
    "$$\n",
    "Let's plot this distribution for various $N$'s.\n",
    "We will use the built-in ``scipy.stats`` functionality for this one.\n",
    "For your future reference, you can find it [here](https://docs.scipy.org/doc/scipy/reference/stats.html)."
   ]
  },
  {
   "cell_type": "code",
   "execution_count": 55,
   "metadata": {},
   "outputs": [
    {
     "data": {
      "image/png": "[encoded data removed]",
      "text/plain": [
       "<Figure size 432x288 with 1 Axes>"
      ]
     },
     "metadata": {
      "needs_background": "light"
     },
     "output_type": "display_data"
    }
   ],
   "source": [
    "import scipy.stats as st\n",
    "\n",
    "def plot_binom_pdf(N, theta):\n",
    "    k = np.arange(N) + 1. # From 1 to N\n",
    "    p_k = st.binom(N, theta).pmf(k) # pmf is short for probability mass function\n",
    "                                    # which is the right terminology for a discrete variable\n",
    "                                    # (i.e., we use 'mass' instead of 'density')\n",
    "    fig, ax = plt.subplots()\n",
    "    ax.plot(k, p_k, 'o', color='b')\n",
    "    ax.vlines(k, 0, p_k, colors='b', lw=5, alpha=0.5)\n",
    "    ax.set_xlabel('$x$')\n",
    "    ax.set_ylabel('$p(x)$')\n",
    "    ax.set_title(r'$\\mathcal{B}(N=%d, \\theta=%.2f)$' % (N, theta)) # the 'r' is required to render\n",
    "                                                                   # '\\' character correctly\n",
    "    \n",
    "plot_binom_pdf(4, 0.3)"
   ]
  },
  {
   "cell_type": "markdown",
   "metadata": {},
   "source": [
    "Ok, now let's play with $N$."
   ]
  },
  {
   "cell_type": "code",
   "execution_count": 56,
   "metadata": {},
   "outputs": [
    {
     "data": {
      "image/png": "[encoded data removed]",
      "text/plain": [
       "<Figure size 432x288 with 1 Axes>"
      ]
     },
     "metadata": {
      "needs_background": "light"
     },
     "output_type": "display_data"
    }
   ],
   "source": [
    "plot_binom_pdf(10, 0.3)"
   ]
  },
  {
   "cell_type": "markdown",
   "metadata": {},
   "source": [
    "### Question\n",
    "+ Start increasing $N$. Try really big numbers. Does the result remind you a familiar distribution?\n",
    "\n",
    "+ Play a little bit with $\\theta$. What happens as you move it around?"
   ]
  },
  {
   "cell_type": "markdown",
   "metadata": {},
   "source": [
    "## The central limit theorem (CLT)\n",
    "Consider, $X_1,X_2,\\dots$ be iid random variables with mean $\\mu$ and variance $\\sigma^2$.\n",
    "Define their sum:\n",
    "$$\n",
    "S_N = \\frac{X_1+\\dots+X_N}{N}.\n",
    "$$\n",
    "The Central Limit Theorem (CLT), states that:\n",
    "$$\n",
    "S_N \\sim \\mathcal{N}(S_N|\\mu, \\frac{\\sigma^2}{N}),\n",
    "$$\n",
    "for large $N$.\n",
    "That is, they start to look like Gaussian.\n",
    "Let's test it for the Exponential distribution.\n",
    "We will use ``numpy.random.exponential`` to sample from the exponential."
   ]
  },
  {
   "cell_type": "code",
   "execution_count": 57,
   "metadata": {},
   "outputs": [
    {
     "data": {
      "text/plain": [
       "<matplotlib.legend.Legend at 0x1a22b38e80>"
      ]
     },
     "execution_count": 57,
     "metadata": {},
     "output_type": "execute_result"
    },
    {
     "data": {
      "image/png": "[encoded data removed]",
      "text/plain": [
       "<Figure size 432x288 with 1 Axes>"
      ]
     },
     "metadata": {
      "needs_background": "light"
     },
     "output_type": "display_data"
    }
   ],
   "source": [
    "r = 0.5\n",
    "N = 5   # How many iid variables are we going to sum\n",
    "M = 10000 # How many times do you want to sample\n",
    "Ts = np.random.exponential(scale=1./r, size=(N, M))  # Notice that it uses the inverse of the rate.\n",
    "                                                     # It is always a good idea to look at the documentation\n",
    "                                                     # if you are unsure.\n",
    "# These are the samples of SN:\n",
    "SN = np.sum(Ts, axis=0) / N  # Notice that I am only summing the rows\n",
    "\n",
    "fig, ax = plt.subplots()\n",
    "ax.hist(SN, bins=100, density=True, alpha=0.5, label='Empirical histogram of $S_N$')\n",
    "mu_CLT = 1. / r             # CLT mean\n",
    "sigma_CLT = np.sqrt(1. / (N * r**2)) # CLT standard deviation\n",
    "Ss = np.linspace(SN.min(), SN.max(), 100)\n",
    "ax.plot(Ss, st.norm(loc=mu_CLT, scale=sigma_CLT).pdf(Ss), label='CLT Gaussian')\n",
    "ax.set_xlabel('$S_N$')\n",
    "ax.set_ylabel('$p(S_N)$')\n",
    "ax.set_title('CLT: Exponential by Gaussian (N=%d)' % N)\n",
    "plt.legend(loc='best')"
   ]
  },
  {
   "cell_type": "markdown",
   "metadata": {},
   "source": [
    "### Questions\n",
    "\n",
    "+ Start increase $N$ and observe the convergence.\n",
    "+ Go back to the Bernoulli distribution. What are its mean and variance? What is the mean and the variance of the Gaussian approximating the sum of idenpdent Bernoulli distributions? Verify this result numerically (copy paste the code above and make the appropriate changes)."
   ]
  },
  {
   "cell_type": "markdown",
   "metadata": {},
   "source": [
    "## A simple proof of the central limit theorem\n",
    "\n",
    "The proof of the CLT is surprisingly simple.\n",
    "It goes as follows:\n",
    "+ Take the [Fourier transform](https://en.wikipedia.org/wiki/Fourier_transform) of the PDF of\n",
    "$$\n",
    "Z_N = \\frac{X_1 + \\dots + X_N - N\\mu}{\\sqrt{N}\\sigma}.\n",
    "$$\n",
    "+ Take the limit of $N\\rightarrow +\\infty$.\n",
    "+ Compare what you find to the Fourier transform of the PDF of the standard normal $Z\\sim N(0,1)$.\n",
    "\n",
    "Note: The Fourier transform of the PDF of a random variable is called the [characteristic function](https://en.wikipedia.org/wiki/Characteristic_function_(probability_theory)) of the random variable.\n",
    "\n",
    "Ok, let's start with the PDF of the standard normal $Z\\sim N(0,1)$ so that we know what we should expect to find.\n",
    "The PDF of the standard normal is:\n",
    "$$\n",
    "\\phi(z) = \\frac{1}{\\sqrt{2\\pi}}\\exp\\left\\{-\\frac{z^2}{2}\\right\\}.\n",
    "$$\n",
    "We have (we just looked it up in Fourier transform table):\n",
    "$$\n",
    "\\hat{\\phi}(t) = \\int_{-\\infty}^{+\\infty} e^{itz}\\phi(z)dz \\equiv \\mathbb{E}\\left[e^{itZ}\\right] = e^{-\\frac{t^2}{2}}.\n",
    "$$\n",
    "Notice that the Fourier transform is nothing more than an expectation.\n",
    "This notation is very convenient.\n",
    "\n",
    "Now, let's work on the fourier transform of the PDF of $S_N$:\n",
    "$$\n",
    "\\begin{split}\n",
    "\\hat{p}_{Z_N}(t) &=& \\mathbb{E}\\left[e^{tZ_N}\\right]\\;\\text{(definition)}\\\\\n",
    "&=& \\mathbb{E}\\left[e^{t\\frac{X_1+\\dots+X_N-N\\mu}{\\sqrt{N}\\sigma}}\\right]\\;\\text{(definition)}\\\\\n",
    "&=& \\prod_{n=1}^N \\mathbb{E}\\left[e^{t\\frac{X_n-\\mu}{\\sqrt{N}\\sigma}}\\right]\\;\\text{(independent r.v.)}\\\\\n",
    "&=& \\prod_{n=1}^N \\hat{p}_{Y_n}\\left(\\frac{t}{\\sqrt{N}}\\right);\\text{(FT definition)}\\\\\n",
    "&=& \\left[\\hat{p}_{Y_1}\\left(\\frac{t}{\\sqrt{N}}\\right)\\right]^N\\;\\text{(identical dist. r.v.)}\\\\\n",
    "&=& \\left[\\hat{p}_{Y_1}(0) + \\frac{t}{\\sqrt{N}}\\hat{p}_{Y_1}'(0) + \\frac{t^2}{2N}\\hat{p}_{Y_1}''(0) + \\dots\\right]^N\\;\\text{(Taylor expansion)}\\\\\n",
    "&=& \\left[1 + \\frac{t}{\\sqrt{N}}\\cdot 0 + \\frac{t^2}{2N}\\cdot(-1) + \\dots\\right]^N\\;\\text{(see below)}\\\\\n",
    "&=& \\left[1 - \\frac{t^2}{2N} + \\dots\\right]^N\n",
    "\\end{split}\n",
    "$$\n",
    "where we have defined the centered and normalized random variables:\n",
    "$$\n",
    "Y_n = \\frac{X_n - \\mu}{\\sigma},\n",
    "$$\n",
    "and we used the fact that:\n",
    "$$\n",
    "\\hat{p}_{Y_n}(0) = \\mathbb{E}\\left[e^{itY_n}\\right]|_{t=0} = 1,\n",
    "$$\n",
    "$$\n",
    "\\hat{p}_{Y_n}'(0) = \\left\\{\\mathbb{E}\\left[e^{itY_n}\\right]\\right\\}'|_{t=0} = \\mathbb{E}\\left[iY_ne^{itY_n}\\right]|_{t=0} = i \\mathbb{E}[Y_n] = 0,\n",
    "$$\n",
    "and\n",
    "$$\n",
    "\\begin{split}\n",
    "\\hat{p}_{Y_n}''(0) &=& \\left\\{\\mathbb{E}\\left[e^{itY_n}\\right]\\right\\}''|_{t=0}\\\\\n",
    "&=& \\left\\{\\mathbb{E}\\left[iY_ne^{itY_n}\\right]\\right\\}'|_{t=0}\\\\\n",
    "&=& \\left\\{\\mathbb{E}\\left[i^2Y_n^2e^{itY_n}\\right]\\right\\}'|_{t=0}\\\\\n",
    "&=& -\\mathbb{E}[Y_n^2]\\\\\n",
    "&=& -1.\n",
    "\\end{split}\n",
    "$$\n",
    "\n",
    "Finally, we can take the limit $N\\rightarrow+\\infty$ to get:\n",
    "$$\n",
    "\\hat{p}_{Z_N}(t) = \\left[1 - \\frac{t^2}{2N} + \\dots\\right]^N\\rightarrow e^{-\\frac{t^2}{2}}.\n",
    "$$"
   ]
  },
  {
   "cell_type": "markdown",
   "metadata": {},
   "source": [
    "## Inverse sampling\n",
    "How do you sample an arbitrary univariate continuous random variable $X$ with CDF $F(x)$.\n",
    "In this scenario, *inverse sampling* is the way to go.\n",
    "It relies on the observation that the random variable\n",
    "$$\n",
    "Y = F^{-1}(U),\n",
    "$$\n",
    "where $F^{-1}$ is the inverse of the CDF of $X$ and $U\\sim\\mathcal{U}([0,1])$ has exactly the same distribution as $X$.\n",
    "\n",
    "We will demonstrate this by example. To this end, let us consider an [exponential random variable](https://en.wikipedia.org/wiki/Exponential_distribution):\n",
    "$$\n",
    "T \\sim E(r),\n",
    "$$\n",
    "where $r > 0$ is known as the *rate parameter*.\n",
    "The exponential distribution describes the time it passes between random events that occur at a constnat rate $r$.\n",
    "Its PDF is:\n",
    "$$\n",
    "p(t) = re^{-rt},\n",
    "$$\n",
    "and its CDF is:\n",
    "$$\n",
    "F(t) = p(T\\le t) = 1 - e^{-rt}.\n",
    "$$\n",
    "We plot it next."
   ]
  },
  {
   "cell_type": "code",
   "execution_count": 26,
   "metadata": {},
   "outputs": [
    {
     "data": {
      "image/png": "[encoded data removed]",
      "text/plain": [
       "<Figure size 432x288 with 1 Axes>"
      ]
     },
     "metadata": {
      "needs_background": "light"
     },
     "output_type": "display_data"
    }
   ],
   "source": [
    "r = .5 # Events occur every 0.5 minutes\n",
    "fig, ax = plt.subplots()\n",
    "t = np.linspace(0., 5. / r, 100)\n",
    "ax.plot(t, st.expon(scale=1./r).cdf(t))\n",
    "ax.set_xlabel('$t$')\n",
    "ax.set_ylabel(r'$F(t) = p(T <= t)$')\n",
    "ax.set_title(r'$T\\sim E(r=%.2f)$' % r);"
   ]
  },
  {
   "cell_type": "markdown",
   "metadata": {},
   "source": [
    "To sample $T$ using inverse sampling, we need the inverse of the CDF. This is easily shown to be:\n",
    "$$\n",
    "F^{-1}(u) = -\\frac{\\ln(1-u)}{r}.\n",
    "$$\n",
    "Let's see if this is going to give us the right samples.\n",
    "We will compare the empirical histogram obtained by inverse sampling to the actual PDF $p(t)$."
   ]
  },
  {
   "cell_type": "code",
   "execution_count": 27,
   "metadata": {},
   "outputs": [
    {
     "data": {
      "text/plain": [
       "<matplotlib.legend.Legend at 0x1a221bbe10>"
      ]
     },
     "execution_count": 27,
     "metadata": {},
     "output_type": "execute_result"
    },
    {
     "data": {
      "image/png": "[encoded data removed]",
      "text/plain": [
       "<Figure size 432x288 with 1 Axes>"
      ]
     },
     "metadata": {
      "needs_background": "light"
     },
     "output_type": "display_data"
    }
   ],
   "source": [
    "def sample_exp(r):\n",
    "    u = np.random.rand()\n",
    "    return -np.log(1. - u) / r\n",
    "\n",
    "N = 10000\n",
    "T = [sample_exp(r) for _ in range(N)]\n",
    "fig, ax = plt.subplots()\n",
    "ax.hist(T, alpha=0.5, density=True, bins=100, label='Histogram of samples')\n",
    "ax.plot(t, st.expon(scale=1./r).pdf(t))\n",
    "ax.set_xlabel('$t$')\n",
    "ax.set_ylabel('$p(t)')\n",
    "ax.set_title(r'$T\\sim\\mathcal{E}(r=%.2f)$' % r)\n",
    "plt.legend(loc='best')"
   ]
  },
  {
   "cell_type": "markdown",
   "metadata": {},
   "source": [
    "### Questions\n",
    "\n",
    "+ Implement inverse sampling for a univariate Gaussian with zero mean and unit variance. Use ``scipy.stats`` to find the inverse CDF of the Gaussian (It is ``st.norm.ippf``)."
   ]
  },
  {
   "cell_type": "markdown",
   "metadata": {},
   "source": [
    "## Rejection sampling\n",
    "\n",
    "Rejection sampling is a method that allows us to sample from a PDF of a scalar random variable even if we do not know its normalization constant.\n",
    "That is, we can use it to sample from a PDF of the form:\n",
    "$$\n",
    "p(x) = \\frac{\\pi(x)}{Z},\n",
    "$$\n",
    "where $Z$ is not explicitly known.\n",
    "How does it work?\n",
    "The basic ingredient is another PDF, say $q(x)$, for each we can show that:\n",
    "$$\n",
    "M q(x) \\ge \\pi(x),\n",
    "$$\n",
    "for some constant $M$ and from which we can easily sample.\n",
    "Instead of introducing the method theoretically, let's introduce it via an specific example.\n",
    "\n",
    "### Example: Using rejection sampling to sample from the beta distribution\n",
    "\n",
    "The PDF of the Beta is:\n",
    "$$\n",
    "p(x) \\propto x^{\\alpha-1}(1-x)^{\\beta - 1}1_{[0,1]}(x),\n",
    "$$\n",
    "for some $\\alpha$ and $\\beta$ positive.\n",
    "Of course, in this case, we do know the normalization constant but let's pretend that we don't know it.\n",
    "We need to find a PDF $q(x)$ from which we can easily sample and a constant $M$ so that the inequality we introduced above is satisfied.\n",
    "Let's take the PDF of the uniform:\n",
    "$$\n",
    "q(x) = 1_{[0,1]}(x).\n",
    "$$\n",
    "How can we find the desired constant.\n",
    "We want to have:\n",
    "$$\n",
    "\\begin{split}\n",
    "M q(x) &\\ge& \\pi(x)\\\\\n",
    "M &\\ge& \\frac{\\pi(x)}{q(x)}\\\\\n",
    "M &\\ge& x^{\\alpha-1}(1-x)^{\\beta - 1}1_{[0,1](x)} = h(x).\n",
    "\\end{split}\n",
    "$$\n",
    "So, $M=1$ always works because $x$ is in $[0,1]$.\n",
    "We can also find a smaller $M$ by using a little bit of calculus, but we are not going to bother.\n",
    "\n",
    "Alright. Nothing so far.\n",
    "You will see the idea of rejection sampling once we draw the following graph."
   ]
  },
  {
   "cell_type": "code",
   "execution_count": 28,
   "metadata": {},
   "outputs": [
    {
     "name": "stdout",
     "output_type": "stream",
     "text": [
      "I am using M = 0.15\n"
     ]
    },
    {
     "data": {
      "image/png": "[encoded data removed]",
      "text/plain": [
       "<Figure size 432x288 with 1 Axes>"
      ]
     },
     "metadata": {
      "needs_background": "light"
     },
     "output_type": "display_data"
    }
   ],
   "source": [
    "a = 2.0\n",
    "b = 3.0\n",
    "pi = lambda x: x ** (a - 1.0) * (1.0 - x) ** (b - 1.0)\n",
    "q = lambda x: np.ones_like(x)\n",
    "xs = np.linspace(0, 1, 100)\n",
    "M = np.max(pi(xs))\n",
    "print('I am using M = {0:1.2f}'.format(M))\n",
    "fig, ax = plt.subplots()\n",
    "ax.plot(xs, pi(xs), label='$\\pi(x)$')\n",
    "ax.plot(xs, M * q(xs), label='$M\\cdot q(x)$')\n",
    "# Let's also color the region between \n",
    "ax.fill_between(xs, pi(xs), M * q(xs), alpha=0.25)\n",
    "plt.legend(loc='best');"
   ]
  },
  {
   "cell_type": "markdown",
   "metadata": {},
   "source": [
    "Here is the idea:\n",
    "+ We sample a point inside the area specified by $M\\cdot q(x)$.\n",
    "+ If we hit the white area, we keep the sample and go to the next step\n",
    "Otherwise, we reject the sample, and go to the first step.\n",
    "+ The $x$-coordinate of the accepted sample is a sample from $p(x)$.\n",
    "\n",
    "Let's try it out."
   ]
  },
  {
   "cell_type": "code",
   "execution_count": 29,
   "metadata": {},
   "outputs": [],
   "source": [
    "# Number of samples to take:\n",
    "num_samples = 1000\n",
    "# An array to store the samples\n",
    "x_rs = np.ndarray((num_samples,))\n",
    "# Start sampling\n",
    "for n in range(num_samples):\n",
    "    # Keep sampling until a sample is accepted\n",
    "    while True:\n",
    "        # Sample a point in the 2D domain defined by M * q(x)\n",
    "        # x coordinate comes by sampling q(x) (which is uniform here)\n",
    "        x_c = np.random.rand()\n",
    "        # y coordinate comes by sampling a number between 0 and M * q(x_c)\n",
    "        y_c = M * q(x_c) * np.random.rand()\n",
    "        # Test if we are above or below pi(x_c)\n",
    "        if y_c <= pi(x_c):\n",
    "            # The sample is accepted, break the loop\n",
    "            break\n",
    "        # The sample is rejected. The loop will be repeated.\n",
    "    x_rs[n] = x_c"
   ]
  },
  {
   "cell_type": "code",
   "execution_count": 30,
   "metadata": {},
   "outputs": [
    {
     "data": {
      "text/plain": [
       "[<matplotlib.lines.Line2D at 0x1a21a1f630>]"
      ]
     },
     "execution_count": 30,
     "metadata": {},
     "output_type": "execute_result"
    },
    {
     "data": {
      "image/png": "[encoded data removed]",
      "text/plain": [
       "<Figure size 432x288 with 1 Axes>"
      ]
     },
     "metadata": {
      "needs_background": "light"
     },
     "output_type": "display_data"
    }
   ],
   "source": [
    "# Let's plot the hist of the samples we just got and compare it to the PDF of the Beta\n",
    "fig, ax = plt.subplots()\n",
    "ax.hist(x_rs, density=True, alpha=0.25)\n",
    "ax.plot(xs, st.beta(a, b).pdf(xs))"
   ]
  },
  {
   "cell_type": "markdown",
   "metadata": {},
   "source": [
    "### Questions\n",
    "\n",
    "+ Rerun the rejection sampling algorithm above for different $\\alpha$ and $\\beta$."
   ]
  }
 ],
 "metadata": {
  "anaconda-cloud": {},
  "kernelspec": {
   "display_name": "Python 3",
   "language": "python",
   "name": "python3"
  },
  "language_info": {
   "codemirror_mode": {
    "name": "ipython",
    "version": 3
   },
   "file_extension": ".py",
   "mimetype": "text/x-python",
   "name": "python",
   "nbconvert_exporter": "python",
   "pygments_lexer": "ipython3",
   "version": "3.6.8"
  },
  "latex_envs": {
   "bibliofile": "biblio.bib",
   "cite_by": "apalike",
   "current_citInitial": 1,
   "eqLabelWithNumbers": true,
   "eqNumInitial": 0
  },
  "widgets": {
   "state": {
    "968a18c908c6495081a9936faebe0473": {
     "views": [
      {
       "cell_index": 11
      }
     ]
    }
   },
   "version": "1.2.0"
  }
 },
 "nbformat": 4,
 "nbformat_minor": 2
}
