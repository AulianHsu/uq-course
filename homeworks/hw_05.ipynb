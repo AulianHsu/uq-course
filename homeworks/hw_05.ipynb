{
 "cells": [
  {
   "cell_type": "markdown",
   "metadata": {},
   "source": [
    "# Homework 5\n",
    "\n",
    "**Due: 03/09/2018** (Friday 9th March at 11:59pm).\n",
    "\n",
    "## Instructions\n",
    "\n",
    "+ In any case, develop the code and generate the figures you need to solve the problems using this notebook.\n",
    "+ For the answers that require a mathematical proof or derivation you can either:\n",
    "    \n",
    "    - Type the answer using the built-in latex capabilities. In this case, simply export the notebook as a pdf and upload it on gradescope; or\n",
    "    - you can print the notebook (after you are done with all the code), write your answers by hand, scan, turn your response to a single pdf, and upload on gradescope. \n",
    "\n",
    "+ The total homework points are 100. Please note that the problems are not weighed equally.\n",
    "\n",
    "**Note**: Please match all the pages corresponding to each of the questions when you submit on gradescope. \n",
    "\n",
    "## Student details\n",
    "\n",
    "+ **First Name:**\n",
    "+ **Last Name:**\n",
    "+ **Email:**\n",
    "\n",
    "## Readings\n",
    "\n",
    "Before attempting the homework, it is probably a good idea to:\n",
    "+ Review the slides of lectures 13 and 14; and\n",
    "+ Review the corresponding lecture handouts."
   ]
  },
  {
   "cell_type": "markdown",
   "metadata": {},
   "source": [
    "$\\newcommand{\\x}{\\mathbf{x}}$"
   ]
  },
  {
   "cell_type": "code",
   "execution_count": 1,
   "metadata": {},
   "outputs": [],
   "source": [
    "import matplotlib.pyplot as plt\n",
    "%matplotlib inline\n",
    "import seaborn as sns\n",
    "sns.set_context('talk')\n",
    "import fipy\n",
    "import GPy\n",
    "%matplotlib inline"
   ]
  },
  {
   "cell_type": "code",
   "execution_count": 2,
   "metadata": {},
   "outputs": [],
   "source": [
    "import numpy as np\n",
    "import scipy\n",
    "\n",
    "class KarhunenLoeveExpansion(object):\n",
    "    \n",
    "    \"\"\"\n",
    "    A class representing the Karhunen Loeve Expansion of a Gaussian random field.\n",
    "    It uses the Nystrom approximation to do it.\n",
    "    \n",
    "    Arguments:\n",
    "        k      -     The covariance function.\n",
    "        Xq     -     Quadrature points for the Nystrom approximation.\n",
    "        wq     -     Quadrature weights for the Nystrom approximation.\n",
    "        alpha  -     The percentage of the energy of the field that you want to keep.\n",
    "        X      -     Observed inputs (optional).\n",
    "        Y      -     Observed field values (optional).\n",
    "    \"\"\"\n",
    "    \n",
    "    def __init__(self, k=None, Xq=None, wq=None, nq=200, alpha=0.9, X=None, Y=None):\n",
    "        if k is None:\n",
    "            # If the kernel is not provided, we pick a default one\n",
    "            k = GPy.kern.Exponential(2, ARD=True, lengthscale=[0.1, 0.5], variance=1.0)\n",
    "        self.k = k\n",
    "        if Xq is None:\n",
    "            if k.input_dim == 1:\n",
    "                Xq = np.linspace(0, 1, nq)[:, None]\n",
    "                wq = np.ones((nq, )) / nq\n",
    "            elif k.input_dim == 2:\n",
    "                nq = int(np.sqrt(nq))\n",
    "                x = np.linspace(0, 1, nq)\n",
    "                X1, X2 = np.meshgrid(x, x)\n",
    "                Xq = np.hstack([X1.flatten()[:, None], X2.flatten()[:, None]])\n",
    "                wq = np.ones((nq ** 2, )) / nq ** 2\n",
    "            else:\n",
    "                raise NotImplementedError('For more than 2D, please supply quadrature points and weights.')\n",
    "        self.Xq = Xq\n",
    "        self.wq = wq\n",
    "        self.k = k\n",
    "        self.alpha = alpha\n",
    "        self.X = X\n",
    "        self.Y = Y\n",
    "        # If we have some observed data, we need to use the posterior covariance\n",
    "        if X is not None:\n",
    "            gpr = GPy.models.GPRegression(X, Y[:, None], k)\n",
    "            gpr.likelihood.variance = 1e-12\n",
    "            self.gpr = gpr\n",
    "            Kq = gpr.predict(Xq, full_cov=True)[1]\n",
    "        else:\n",
    "            Kq = k.K(Xq)\n",
    "        B = np.einsum('ij,j->ij', Kq, wq)\n",
    "        lam, v = scipy.linalg.eigh(B, overwrite_a=True)\n",
    "        lam = lam[::-1]\n",
    "        lam[lam <= 0.] = 0.\n",
    "        energy = np.cumsum(lam) / np.sum(lam)\n",
    "        i_end = np.arange(energy.shape[0])[energy > alpha][0] + 1\n",
    "        lam = lam[:i_end]\n",
    "        v = v[:, ::-1]\n",
    "        v = v[:, :i_end]\n",
    "        self.lam = lam\n",
    "        self.sqrt_lam = np.sqrt(lam)\n",
    "        self.v = v\n",
    "        self.energy = energy\n",
    "        self.num_z = i_end\n",
    "        \n",
    "    def eval_phi(self, x):\n",
    "        \"\"\"\n",
    "        Evaluate the eigenfunctions at x.\n",
    "        \"\"\"\n",
    "        if self.X is not None:\n",
    "            nq = self.Xq.shape[0]\n",
    "            Xf = np.vstack([self.Xq, x])\n",
    "            m, C = self.gpr.predict(Xf, full_cov=True)\n",
    "            Kc = C[:nq, nq:].T\n",
    "            self.tmp_mu = m[nq:, :].flatten()\n",
    "        else:\n",
    "            Kc = self.k.K(x, self.Xq)\n",
    "            self.tmp_mu = 0.\n",
    "        phi = np.einsum(\"i,ji,j,rj->ri\", 1. / self.lam, self.v, self.wq**0.5, Kc)\n",
    "        return phi\n",
    "    \n",
    "    def __call__(self, x, xi):\n",
    "        \"\"\"\n",
    "        Evaluate the expansion at x and xi.\n",
    "        \"\"\"\n",
    "        phi = self.eval_phi(x)\n",
    "        return self.tmp_mu + np.dot(phi, xi * self.sqrt_lam)\n",
    "\n",
    "class Elliptic2DSolver(object):\n",
    "    def __init__(self, nx=100, ny=100, value_left=1.,\n",
    "                 value_right=0., value_top=0., value_bottom=0.):\n",
    "        \"\"\"\n",
    "        ::param nx:: Number of cells in the x direction.\n",
    "        ::param ny:: Number of cells in the y direction.\n",
    "        ::param value_left:: Boundary condition on the left face.\n",
    "        ::param value_right:: Boundary condition on the right face.\n",
    "        ::param value_top:: Boundary condition on the top face.\n",
    "        ::param value_bottom:: Boundary condition on the bottom face.\n",
    "        \"\"\"\n",
    "        #set domain dimensions\n",
    "        self.nx = nx\n",
    "        self.ny = ny\n",
    "        self.dx = 1. / nx\n",
    "        self.dy = 1. / ny\n",
    "        \n",
    "        #define mesh\n",
    "        self.mesh = fipy.Grid2D(nx=self.nx, ny=self.ny, dx=self.dx, dy=self.dy)\n",
    "        \n",
    "        #get all the face centers \n",
    "        X, Y = self.mesh.faceCenters.value\n",
    "        X = X[:, None]\n",
    "        Y = Y[:, None]\n",
    "        self.Xface = np.hstack([X,Y])\n",
    "\n",
    "        #define cell and face variables \n",
    "        self.phi = fipy.CellVariable(name='$T(x)$', mesh=self.mesh, value=1.)\n",
    "        self.C = fipy.FaceVariable(name='$C(x)$', mesh=self.mesh, value=1.)\n",
    "        self.source=fipy.CellVariable(name='$f(x)$', mesh=self.mesh, value=0.)\n",
    "        \n",
    "        #apply boundary conditions\n",
    "        #dirichet\n",
    "        self.phi.constrain(value_left, self.mesh.facesLeft)\n",
    "        self.phi.constrain(value_right, self.mesh.facesRight)\n",
    "        \n",
    "        #homogeneous Neumann\n",
    "        self.phi.faceGrad.constrain(value_top, self.mesh.facesTop)\n",
    "        self.phi.faceGrad.constrain(value_bottom, self.mesh.facesBottom)\n",
    "        \n",
    "        #setup the diffusion problem\n",
    "        self.eq = -fipy.DiffusionTerm(coeff=self.C) == self.source\n",
    "        \n",
    "    def set_coeff(self, C):\n",
    "        \"\"\"\n",
    "        Initialize the random conductivity field.\n",
    "        \"\"\"\n",
    "        self.C.setValue(C)\n",
    "    \n",
    "    def solve(self):\n",
    "        self.eq.solve(var=self.phi)\n",
    "        #return self.phi.value\n",
    "    \n",
    "    def __call__(self):\n",
    "        self.solve()\n",
    "        return self.phi.value.flatten()\n",
    "\n",
    "def sample(solver, kle, nsamples=1):\n",
    "    \"\"\"\n",
    "    solver -> An object of the Elliptic2DSolver object. \n",
    "    kle -> An object of the KarhunenLoeveExpansion class.\n",
    "    nsamples -> Number of samples of the PDE solution to generate.\n",
    "    \"\"\"\n",
    "    samples = np.zeros((nsamples, solver.nx*solver.ny))\n",
    "    num_z = kle.num_z\n",
    "    for i in xrange(nsamples):\n",
    "        z = np.random.randn(num_z)\n",
    "        coeff = kle(solver.Xface, z)\n",
    "        solver.set_coeff(np.exp(coeff))\n",
    "        sample = solver()\n",
    "        samples[i] = sample\n",
    "    return samples"
   ]
  },
  {
   "cell_type": "markdown",
   "metadata": {},
   "source": [
    "# Problem 1 - Uncertainty propagation in 2-D stochastic elliptic partial differential equation"
   ]
  },
  {
   "cell_type": "markdown",
   "metadata": {},
   "source": [
    "In lecture 13, we discussed the Monte Carlo method as a technique to compute high-dimensional integrals and used this technique to propagate uncertainties through physical models. \n",
    "\n",
    "Consider the following stochastic partial differential equation:\n",
    "\n",
    "$$\n",
    "\\nabla (a(\\x, \\omega) \\nabla u(\\x, \\omega)) = 0, \\ \\forall \\x \\in [0, 1]^2,\n",
    "$$\n",
    "with boundary conditions:\n",
    "$$\n",
    "u|_{x_1 = 0} = 1, \\\\\n",
    "u|_{x_1 = 1} = 0, \\\\\n",
    "\\frac{\\partial u}{\\partial n}|_{x_2 = 0} = 0, \\\\\n",
    "\\frac{\\partial u}{\\partial n}|_{x_2 = 1} = 0.\n",
    "$$\n",
    "\n",
    "This is a general model for diffusion problems and shows up in a wide variety of applications, such as heat conduction, subsurface flows, electromagnetics etc. It is often the case that one is uncertain about the diffusion coefficient $a(\\mathbf{x},\\omega)$. \n",
    "This is why we write $a(\\mathbf{x},\\omega)$ instead of just $a(\\mathbf{x})$.\n",
    "The $\\omega$ is there to characterize the unknown state of nature.\n",
    "In other words, $a(\\mathbf{x},\\omega)$ is a random field (a stochastic process parametrized by space).\n",
    "We will learn about random fields in a future lecture.\n",
    "For now, it sufficies to know that we can describe this random field in terms of independent standard normal random variables using what is known as the Karhunen-Loève expansion."
   ]
  },
  {
   "cell_type": "markdown",
   "metadata": {},
   "source": [
    "First, notice that $a(\\mathbf{x},\\omega)$ is necessarily a positive quantity.\n",
    "It does not make physical sense for the diffusion coefficient of a material to be negative.\n",
    "(There are more restrictions that are required for a solution to exist, but we are going to silently assume that they are true).\n",
    "Therefore, it is much more convenient to work with the logarithm of $a(\\mathbf{x}, \\omega)$ which can take both positive and negative values.\n",
    "The Karhunen-Loève theorem applied on $\\log a(\\mathbf{x},\\omega)$ states that any random field that:\n",
    "$$\n",
    "\\log a(x,\\omega) \\approx m(x) + \\sum_{k=1}^K Z_k(\\omega) \\phi_k(x),\n",
    "$$\n",
    "where $m(x)$ is a *mean* function, the $\\phi_k(x)$ are some *special eigenfunctions*, and $Z_k$ are standard normal.\n",
    "We have implemented this for you, so you can just use it.\n",
    "It is in the class ``KarhunenLoeveExpansion``.\n",
    "We have also implemented a finite volume solver for the PDE given a specific diffusion coefficient $a(\\mathbf{x},\\omega)$.\n",
    "This is in the class named ``Elliptic2DSolver``.\n",
    "Let's see how these two objects work."
   ]
  },
  {
   "cell_type": "code",
   "execution_count": 3,
   "metadata": {},
   "outputs": [
    {
     "name": "stdout",
     "output_type": "stream",
     "text": [
      "Number of stochastic dimensions for representing a: 62\n"
     ]
    },
    {
     "ename": "ValueError",
     "evalue": "cannot reshape array of size 20200 into shape (100,100)",
     "output_type": "error",
     "traceback": [
      "\u001b[0;31m---------------------------------------------------------------------------\u001b[0m",
      "\u001b[0;31mValueError\u001b[0m                                Traceback (most recent call last)",
      "\u001b[0;32m<ipython-input-3-388f7ed8932d>\u001b[0m in \u001b[0;36m<module>\u001b[0;34m\u001b[0m\n\u001b[1;32m     10\u001b[0m \u001b[0;31m# Let's plot the sample as a contour\u001b[0m\u001b[0;34m\u001b[0m\u001b[0;34m\u001b[0m\u001b[0;34m\u001b[0m\u001b[0m\n\u001b[1;32m     11\u001b[0m \u001b[0mfig\u001b[0m\u001b[0;34m,\u001b[0m \u001b[0max\u001b[0m \u001b[0;34m=\u001b[0m \u001b[0mplt\u001b[0m\u001b[0;34m.\u001b[0m\u001b[0msubplots\u001b[0m\u001b[0;34m(\u001b[0m\u001b[0;34m)\u001b[0m\u001b[0;34m\u001b[0m\u001b[0;34m\u001b[0m\u001b[0m\n\u001b[0;32m---> 12\u001b[0;31m \u001b[0mX\u001b[0m \u001b[0;34m=\u001b[0m \u001b[0msolver\u001b[0m\u001b[0;34m.\u001b[0m\u001b[0mXface\u001b[0m\u001b[0;34m[\u001b[0m\u001b[0;34m:\u001b[0m\u001b[0;34m,\u001b[0m \u001b[0;36m0\u001b[0m\u001b[0;34m]\u001b[0m\u001b[0;34m.\u001b[0m\u001b[0mreshape\u001b[0m\u001b[0;34m(\u001b[0m\u001b[0;34m(\u001b[0m\u001b[0msolver\u001b[0m\u001b[0;34m.\u001b[0m\u001b[0mnx\u001b[0m\u001b[0;34m,\u001b[0m \u001b[0msolver\u001b[0m\u001b[0;34m.\u001b[0m\u001b[0mny\u001b[0m\u001b[0;34m)\u001b[0m\u001b[0;34m)\u001b[0m \u001b[0;31m# x coordinates of centers\u001b[0m\u001b[0;34m\u001b[0m\u001b[0;34m\u001b[0m\u001b[0m\n\u001b[0m\u001b[1;32m     13\u001b[0m \u001b[0mY\u001b[0m \u001b[0;34m=\u001b[0m \u001b[0msolver\u001b[0m\u001b[0;34m.\u001b[0m\u001b[0mXface\u001b[0m\u001b[0;34m[\u001b[0m\u001b[0;34m:\u001b[0m\u001b[0;34m,\u001b[0m \u001b[0;36m1\u001b[0m\u001b[0;34m]\u001b[0m\u001b[0;34m.\u001b[0m\u001b[0mreshape\u001b[0m\u001b[0;34m(\u001b[0m\u001b[0;34m(\u001b[0m\u001b[0msolver\u001b[0m\u001b[0;34m.\u001b[0m\u001b[0mnx\u001b[0m\u001b[0;34m,\u001b[0m \u001b[0msolver\u001b[0m\u001b[0;34m.\u001b[0m\u001b[0mny\u001b[0m\u001b[0;34m)\u001b[0m\u001b[0;34m)\u001b[0m \u001b[0;31m# y coordinates of centers\u001b[0m\u001b[0;34m\u001b[0m\u001b[0;34m\u001b[0m\u001b[0m\n\u001b[1;32m     14\u001b[0m \u001b[0mlog_a_sample\u001b[0m \u001b[0;34m=\u001b[0m \u001b[0mlog_a_sample_vec\u001b[0m\u001b[0;34m.\u001b[0m\u001b[0mreshape\u001b[0m\u001b[0;34m(\u001b[0m\u001b[0;34m(\u001b[0m\u001b[0msolver\u001b[0m\u001b[0;34m.\u001b[0m\u001b[0mnx\u001b[0m\u001b[0;34m,\u001b[0m \u001b[0msolver\u001b[0m\u001b[0;34m.\u001b[0m\u001b[0mny\u001b[0m\u001b[0;34m)\u001b[0m\u001b[0;34m)\u001b[0m\u001b[0;34m\u001b[0m\u001b[0;34m\u001b[0m\u001b[0m\n",
      "\u001b[0;31mValueError\u001b[0m: cannot reshape array of size 20200 into shape (100,100)"
     ]
    },
    {
     "data": {
      "image/png": "[encoded data removed]",
      "text/plain": [
       "<Figure size 432x288 with 1 Axes>"
      ]
     },
     "metadata": {
      "needs_background": "light"
     },
     "output_type": "display_data"
    }
   ],
   "source": [
    "# This is the object that gives us the log a(x, omega)\n",
    "kle = KarhunenLoeveExpansion()\n",
    "# This is the object that solves the PDE\n",
    "solver = Elliptic2DSolver()\n",
    "# The number of random variables needed by KLE is:\n",
    "print('Number of stochastic dimensions for representing a: {0:d}'.format(kle.num_z))\n",
    "# Let's sample a diffusion coefficient field at the centers of the finite volume scheme:\n",
    "z = np.random.randn(kle.num_z) \n",
    "log_a_sample_vec = kle(solver.Xface, z) # The sample as a flat vector\n",
    "# Let's plot the sample as a contour\n",
    "fig, ax = plt.subplots()\n",
    "X = solver.Xface[:, 0].reshape((solver.nx, solver.ny)) # x coordinates of centers\n",
    "Y = solver.Xface[:, 1].reshape((solver.nx, solver.ny)) # y coordinates of centers\n",
    "log_a_sample = log_a_sample_vec.reshape((solver.nx, solver.ny))\n",
    "ax.contourf(X, Y, log_a_sample)"
   ]
  },
  {
   "cell_type": "markdown",
   "metadata": {},
   "source": [
    "### Part b."
   ]
  },
  {
   "cell_type": "markdown",
   "metadata": {},
   "source": [
    "The class ```Elliptic2DSolver``` defined at the top of this notebook can be used to solve this PDE. Additionally, we have provided a function ```sample``` to generate as many samples of the stochastic PDE solution as you want. \n",
    "\n",
    "Establish the ground truth on the mean and variance of the solution $u$ of the PDE using 100000 Monte Carlo samples of the uncertain diffusion field. Show contour plots for mean and 2 standard deviation fields of the solution."
   ]
  },
  {
   "cell_type": "markdown",
   "metadata": {},
   "source": [
    "### Part c."
   ]
  },
  {
   "cell_type": "markdown",
   "metadata": {},
   "source": [
    "Propagate uncertainty through the model using 10, 100, 1,000, and 10,000 MC samples and plot the *relative* L2 error in the estimation of the mean and the variance. The relative L2 error is defined as follows:"
   ]
  },
  {
   "cell_type": "markdown",
   "metadata": {},
   "source": [
    "##### Relative L2 Error\n",
    "Let $\\mathbf{y}_{\\mbox{true}}$ be the *ground truth vector* and $\\hat{\\mathbf{y}}$ be the *estimated vector*.\n",
    "The relattive L2 error is defined to be:\n",
    "$$\n",
    "L_2[\\mathbf{y}_{\\mbox{true}},\\hat{\\mathbf{y}}] = \\frac{\\parallel\\mathbf{y}_{\\mbox{true}}-\\hat{\\mathbf{y}} \\parallel_2}{\\parallel \\mathbf{y}_{\\mbox{true}}\\parallel_2},\n",
    "$$\n",
    "where $\\parallel\\cdot\\parallel_2$ is the standard Euclidean norm."
   ]
  },
  {
   "cell_type": "markdown",
   "metadata": {},
   "source": [
    "### Part d."
   ]
  },
  {
   "cell_type": "markdown",
   "metadata": {},
   "source": [
    "Repeat c. 100 times (if it takes too much time do 10) to get the uncertainty induced by the fact that MC estimates are noisy. You can use the function [numpy.percentile](http://docs.scipy.org/doc/numpy-dev/reference/generated/numpy.percentile.html) to get lower and upper uncertainty bars for the evolution of the L2 error."
   ]
  },
  {
   "cell_type": "markdown",
   "metadata": {},
   "source": [
    "# Problem 2  - Latin hypercube sampling (LHS)\n"
   ]
  },
  {
   "cell_type": "markdown",
   "metadata": {},
   "source": [
    "Repeat the tasks in problem 1 parts (b), (c) and (d) with Latin hypercube sampling (LHS). Compare the LHS results with MCS results.\n",
    "\n",
    "#### Hint:\n",
    "Recall that we has used the Latin Hypercube sampler in class to generate uniform samples in the unit square - $[0, 1]^2$. It is trivial to transform these uniform samples into standard normal distributed samples. We just need the inverse CDF method discussed in Lecture 5. Also recall, from homework 2, that ```scipy.stat.norm.ppf``` implements the inverse CDF of the standard normal random variable. "
   ]
  }
 ],
 "metadata": {
  "kernelspec": {
   "display_name": "Python 3",
   "language": "python",
   "name": "python3"
  },
  "language_info": {
   "codemirror_mode": {
    "name": "ipython",
    "version": 3
   },
   "file_extension": ".py",
   "mimetype": "text/x-python",
   "name": "python",
   "nbconvert_exporter": "python",
   "pygments_lexer": "ipython3",
   "version": "3.6.8"
  }
 },
 "nbformat": 4,
 "nbformat_minor": 2
}
